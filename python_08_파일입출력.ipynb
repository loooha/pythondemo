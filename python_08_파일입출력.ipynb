{
  "nbformat": 4,
  "nbformat_minor": 0,
  "metadata": {
    "colab": {
      "provenance": [],
      "authorship_tag": "ABX9TyMMWntnGZNU6P+Pj3bPWvWh",
      "include_colab_link": true
    },
    "kernelspec": {
      "name": "python3",
      "display_name": "Python 3"
    },
    "language_info": {
      "name": "python"
    }
  },
  "cells": [
    {
      "cell_type": "markdown",
      "metadata": {
        "id": "view-in-github",
        "colab_type": "text"
      },
      "source": [
        "<a href=\"https://colab.research.google.com/github/loooha/pythondemo/blob/main/python_08_%ED%8C%8C%EC%9D%BC%EC%9E%85%EC%B6%9C%EB%A0%A5.ipynb\" target=\"_parent\"><img src=\"https://colab.research.google.com/assets/colab-badge.svg\" alt=\"Open In Colab\"/></a>"
      ]
    },
    {
      "cell_type": "code",
      "execution_count": null,
      "metadata": {
        "id": "yD8u1jXr_XR6"
      },
      "outputs": [],
      "source": []
    },
    {
      "cell_type": "markdown",
      "source": [
        "open('파일경로', '파일열기모드')\n",
        "- 파일 열기 모드\n",
        "  - w : 쓰기모드 - 파일에 내용을 슬 때 사용\n",
        "  - r : 읽기모드 - 파일에 내용을 읽을 때 사용\n",
        "  - a : 추가모드 - 파일에 내용을 추가할 때 사용"
      ],
      "metadata": {
        "id": "A1uLVkix_X8w"
      }
    },
    {
      "cell_type": "code",
      "source": [
        "# open('파일경로', '모드')\n",
        "fwrite = open('sample.txt', 'w') # 파일 열기\n",
        "for i in range(1, 4):\n",
        "  data = '%d번째 줄입니다.\\n' % i\n",
        "  fwrite.write(data)\n",
        "fwrite.close() # 파일 닫기"
      ],
      "metadata": {
        "id": "_MQGcOki__uO"
      },
      "execution_count": 3,
      "outputs": []
    },
    {
      "cell_type": "code",
      "source": [
        "fread = open('sample.txt', 'r') # sample.txt 파일에 데이터를 읽어온다.\n",
        "# line = fread.readline() # readline()은 파일에서 한 라인씩 읽어온다.\n",
        "line = fread.read() # read() 는 파일에서 전체를 읽어와 str로 리턴한다.\n",
        "print(type(line))\n",
        "fread.close()"
      ],
      "metadata": {
        "colab": {
          "base_uri": "https://localhost:8080/"
        },
        "id": "iV3QRjCVAWE2",
        "outputId": "5c4ff220-c3d4-48b5-9b19-2ef8c396f8c6"
      },
      "execution_count": 2,
      "outputs": [
        {
          "output_type": "stream",
          "name": "stdout",
          "text": [
            "<class 'str'>\n"
          ]
        }
      ]
    },
    {
      "cell_type": "code",
      "source": [
        "fread = open('sample.txt', 'r') # sample.txt 파일에 데이터를 읽어온다.\n",
        "while True:\n",
        "  line = fread.readline() # readline()은 파일에서 한 라인씩 읽어옴\n",
        "  if not line: # 파일에서 더 이상 읽어올 내용이 없으면\n",
        "    break\n",
        "  print(line)\n",
        "fread.close()"
      ],
      "metadata": {
        "colab": {
          "base_uri": "https://localhost:8080/"
        },
        "id": "n-8DF0OdB6ER",
        "outputId": "6f0f6061-a880-45ab-8bfc-609b66897a9e"
      },
      "execution_count": 4,
      "outputs": [
        {
          "output_type": "stream",
          "name": "stdout",
          "text": [
            "1번째 줄입니다.\n",
            "\n",
            "2번째 줄입니다.\n",
            "\n",
            "3번째 줄입니다.\n",
            "\n"
          ]
        }
      ]
    },
    {
      "cell_type": "code",
      "source": [
        "import os\n",
        "path = os.getcwd()\n",
        "print(path)"
      ],
      "metadata": {
        "colab": {
          "base_uri": "https://localhost:8080/"
        },
        "id": "2nYAFuXsCnXe",
        "outputId": "03ba8beb-632a-440b-f884-17bd11d2c46e"
      },
      "execution_count": 5,
      "outputs": [
        {
          "output_type": "stream",
          "name": "stdout",
          "text": [
            "/content\n"
          ]
        }
      ]
    },
    {
      "cell_type": "code",
      "source": [],
      "metadata": {
        "id": "FUOXjWagD9Rf"
      },
      "execution_count": null,
      "outputs": []
    },
    {
      "cell_type": "markdown",
      "source": [
        "### with문과 함께 사용\n",
        "- with 문과 함께 파일을 사용하면 읽기, 쓰기할때 close()를 안해도 된다."
      ],
      "metadata": {
        "id": "K0KnsjUqELog"
      }
    },
    {
      "cell_type": "code",
      "source": [
        "with open('sample.txt', 'w') as f:\n",
        "  for i in range(5, 8):\n",
        "    data = '%d번째 줄 입니다.\\n' % i\n",
        "    f.write(data)"
      ],
      "metadata": {
        "id": "ylKauOYyEV0n"
      },
      "execution_count": 8,
      "outputs": []
    },
    {
      "cell_type": "code",
      "source": [
        "with open('sample.txt', 'r') as f:\n",
        "  while True:\n",
        "    line = f.readline()\n",
        "    if not line:\n",
        "      break\n",
        "    print(line)"
      ],
      "metadata": {
        "colab": {
          "base_uri": "https://localhost:8080/"
        },
        "id": "LJB10xKhEny4",
        "outputId": "c307090e-9a5f-4f73-f099-4b1fa1056b39"
      },
      "execution_count": 9,
      "outputs": [
        {
          "output_type": "stream",
          "name": "stdout",
          "text": [
            "5번째 줄 입니다.\n",
            "\n",
            "6번째 줄 입니다.\n",
            "\n",
            "7번째 줄 입니다.\n",
            "\n"
          ]
        }
      ]
    },
    {
      "cell_type": "code",
      "source": [
        "with open('test.txt', 'w') as f:\n",
        "  f.writelines([True, False, False, True])"
      ],
      "metadata": {
        "colab": {
          "base_uri": "https://localhost:8080/",
          "height": 193
        },
        "id": "iZgIg_DqE5Se",
        "outputId": "05ef90f1-f9ae-49b2-b7a5-16283fe59eff"
      },
      "execution_count": 10,
      "outputs": [
        {
          "output_type": "error",
          "ename": "TypeError",
          "evalue": "ignored",
          "traceback": [
            "\u001b[0;31m---------------------------------------------------------------------------\u001b[0m",
            "\u001b[0;31mTypeError\u001b[0m                                 Traceback (most recent call last)",
            "\u001b[0;32m<ipython-input-10-9b28527305ec>\u001b[0m in \u001b[0;36m<module>\u001b[0;34m\u001b[0m\n\u001b[1;32m      1\u001b[0m \u001b[0;32mwith\u001b[0m \u001b[0mopen\u001b[0m\u001b[0;34m(\u001b[0m\u001b[0;34m'test.txt'\u001b[0m\u001b[0;34m,\u001b[0m \u001b[0;34m'w'\u001b[0m\u001b[0;34m)\u001b[0m \u001b[0;32mas\u001b[0m \u001b[0mf\u001b[0m\u001b[0;34m:\u001b[0m\u001b[0;34m\u001b[0m\u001b[0;34m\u001b[0m\u001b[0m\n\u001b[0;32m----> 2\u001b[0;31m   \u001b[0mf\u001b[0m\u001b[0;34m.\u001b[0m\u001b[0mwritelines\u001b[0m\u001b[0;34m(\u001b[0m\u001b[0;34m[\u001b[0m\u001b[0;32mTrue\u001b[0m\u001b[0;34m,\u001b[0m \u001b[0;32mFalse\u001b[0m\u001b[0;34m,\u001b[0m \u001b[0;34m]\u001b[0m\u001b[0;34m)\u001b[0m\u001b[0;34m\u001b[0m\u001b[0;34m\u001b[0m\u001b[0m\n\u001b[0m",
            "\u001b[0;31mTypeError\u001b[0m: write() argument must be str, not bool"
          ]
        }
      ]
    },
    {
      "cell_type": "code",
      "source": [
        "with open('test.txt', 'w') as f:\n",
        "  f.writelines(['apple', 'banana', 'lemon'])"
      ],
      "metadata": {
        "id": "qqSdJTtVGhQ3"
      },
      "execution_count": 11,
      "outputs": []
    },
    {
      "cell_type": "code",
      "source": [
        "with open('test.txt', 'r') as f:\n",
        " print(f.read())"
      ],
      "metadata": {
        "colab": {
          "base_uri": "https://localhost:8080/"
        },
        "id": "TRepAknLGxFP",
        "outputId": "b1e3bb99-ce81-413b-8342-82d69cee821d"
      },
      "execution_count": 18,
      "outputs": [
        {
          "output_type": "stream",
          "name": "stdout",
          "text": [
            "applebananalemon\n"
          ]
        }
      ]
    },
    {
      "cell_type": "code",
      "source": [
        "import random"
      ],
      "metadata": {
        "id": "Gb-vB9ZBG-jm"
      },
      "execution_count": 13,
      "outputs": []
    },
    {
      "cell_type": "code",
      "source": [
        "random.choice([1,2,3,4])"
      ],
      "metadata": {
        "colab": {
          "base_uri": "https://localhost:8080/"
        },
        "id": "sQAf-JVSHGMu",
        "outputId": "edc1a24b-872c-47ab-c765-f588db2a26c5"
      },
      "execution_count": 14,
      "outputs": [
        {
          "output_type": "execute_result",
          "data": {
            "text/plain": [
              "4"
            ]
          },
          "metadata": {},
          "execution_count": 14
        }
      ]
    },
    {
      "cell_type": "code",
      "source": [
        "random.randrange(1, 10) # 1부터 10 미만 사이의 난수 발생"
      ],
      "metadata": {
        "colab": {
          "base_uri": "https://localhost:8080/"
        },
        "id": "wdaJlrkqHLd2",
        "outputId": "8f793c39-575c-44b6-f3f5-80d0992b46df"
      },
      "execution_count": 15,
      "outputs": [
        {
          "output_type": "execute_result",
          "data": {
            "text/plain": [
              "4"
            ]
          },
          "metadata": {},
          "execution_count": 15
        }
      ]
    },
    {
      "cell_type": "code",
      "source": [
        "with open('number.txt', 'w') as f:\n",
        "  f.write(str(random.randrange(1, 10)))"
      ],
      "metadata": {
        "id": "mZWGnAmSHT-_"
      },
      "execution_count": 16,
      "outputs": []
    },
    {
      "cell_type": "code",
      "source": [
        "with open('number.txt', 'r') as f:\n",
        "  print(f.read())"
      ],
      "metadata": {
        "colab": {
          "base_uri": "https://localhost:8080/"
        },
        "id": "VfqumBO_HlEf",
        "outputId": "bd86a207-156b-42d0-f7de-6e0d17889617"
      },
      "execution_count": 17,
      "outputs": [
        {
          "output_type": "stream",
          "name": "stdout",
          "text": [
            "7\n"
          ]
        }
      ]
    },
    {
      "cell_type": "code",
      "source": [],
      "metadata": {
        "id": "kTsHWgSGHtOH"
      },
      "execution_count": null,
      "outputs": []
    }
  ]
}