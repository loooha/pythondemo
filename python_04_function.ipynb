{
  "nbformat": 4,
  "nbformat_minor": 0,
  "metadata": {
    "colab": {
      "provenance": [],
      "collapsed_sections": [
        "Etm0BNvMpR6M",
        "-2cCI2sSoomt",
        "Mfy9aqS4pxLG",
        "x780rvFurRcs",
        "1y7A5BQws4ul",
        "cXEJ1HvDucUt"
      ],
      "include_colab_link": true
    },
    "kernelspec": {
      "name": "python3",
      "display_name": "Python 3"
    },
    "language_info": {
      "name": "python"
    }
  },
  "cells": [
    {
      "cell_type": "markdown",
      "metadata": {
        "id": "view-in-github",
        "colab_type": "text"
      },
      "source": [
        "<a href=\"https://colab.research.google.com/github/loooha/pythondemo/blob/main/python_04_function.ipynb\" target=\"_parent\"><img src=\"https://colab.research.google.com/assets/colab-badge.svg\" alt=\"Open In Colab\"/></a>"
      ]
    },
    {
      "cell_type": "markdown",
      "source": [
        "### function\n",
        "\n",
        "def proc() : \n",
        "  pass     \n",
        "           #pass는 구현을 안할 때 사용한다.\n",
        "           #아무것도 안쓰면 에러가 발생한다."
      ],
      "metadata": {
        "id": "CSf5kj6klNq7"
      }
    },
    {
      "cell_type": "code",
      "execution_count": null,
      "metadata": {
        "id": "WshHy1EClF-a"
      },
      "outputs": [],
      "source": [
        "def display() :\n",
        "  pass"
      ]
    },
    {
      "cell_type": "code",
      "source": [
        "display()"
      ],
      "metadata": {
        "id": "NIF_KyfTll9E"
      },
      "execution_count": null,
      "outputs": []
    },
    {
      "cell_type": "code",
      "source": [
        "print(display())"
      ],
      "metadata": {
        "colab": {
          "base_uri": "https://localhost:8080/"
        },
        "id": "2N7ZiKDplq-i",
        "outputId": "fbd323c6-062e-4ae7-c113-e40c7e548c8c"
      },
      "execution_count": null,
      "outputs": [
        {
          "output_type": "stream",
          "name": "stdout",
          "text": [
            "None\n"
          ]
        }
      ]
    },
    {
      "cell_type": "markdown",
      "source": [
        "### callable\n",
        "- 이름 뒤에 괄호()를 붙이는 것을 call(호출)이라고 한다.\n",
        "- 이름 뒤에 괄호()를 붙일 수 있는 것을 callable이라고 한다.\n",
        "- 함수는 사용할 때 이름 뒤에 괄호를 붙인다.\n",
        "- python에서 callable인 것이 3가지 유형이 있다.  \n",
        "  (1) function  \n",
        "  (2) class(init가 정의되었을 경우)  \n",
        "  (3) object(call가 정의되었을 경우)  "
      ],
      "metadata": {
        "id": "SyLfvqgCl38T"
      }
    },
    {
      "cell_type": "code",
      "source": [
        "a = 3\n",
        "a()"
      ],
      "metadata": {
        "colab": {
          "base_uri": "https://localhost:8080/",
          "height": 193
        },
        "id": "cYCH7lphluuC",
        "outputId": "55db9fc9-9e2c-4f73-a61e-f9bf0a94bbf7"
      },
      "execution_count": null,
      "outputs": [
        {
          "output_type": "error",
          "ename": "TypeError",
          "evalue": "ignored",
          "traceback": [
            "\u001b[0;31m---------------------------------------------------------------------------\u001b[0m",
            "\u001b[0;31mTypeError\u001b[0m                                 Traceback (most recent call last)",
            "\u001b[0;32m<ipython-input-4-0bf2a3b2549b>\u001b[0m in \u001b[0;36m<module>\u001b[0;34m\u001b[0m\n\u001b[1;32m      1\u001b[0m \u001b[0ma\u001b[0m \u001b[0;34m=\u001b[0m \u001b[0;36m3\u001b[0m\u001b[0;34m\u001b[0m\u001b[0;34m\u001b[0m\u001b[0m\n\u001b[0;32m----> 2\u001b[0;31m \u001b[0ma\u001b[0m\u001b[0;34m(\u001b[0m\u001b[0;34m)\u001b[0m\u001b[0;34m\u001b[0m\u001b[0;34m\u001b[0m\u001b[0m\n\u001b[0m",
            "\u001b[0;31mTypeError\u001b[0m: 'int' object is not callable"
          ]
        }
      ]
    },
    {
      "cell_type": "code",
      "source": [
        "list()"
      ],
      "metadata": {
        "colab": {
          "base_uri": "https://localhost:8080/"
        },
        "id": "Ka8PmYzwmkA0",
        "outputId": "f1bab994-e074-4fea-c116-ff1201bbfc9a"
      },
      "execution_count": null,
      "outputs": [
        {
          "output_type": "execute_result",
          "data": {
            "text/plain": [
              "[]"
            ]
          },
          "metadata": {},
          "execution_count": 5
        }
      ]
    },
    {
      "cell_type": "code",
      "source": [
        "list = 3 #list의 역할을 잃어버림\n",
        "del list #지워서 원래의 역할로 살아남\n",
        "list() #호출이 되지않음"
      ],
      "metadata": {
        "colab": {
          "base_uri": "https://localhost:8080/"
        },
        "id": "ghreqyjImzrD",
        "outputId": "ec3bcc11-2a7a-4842-cdab-042ca656ae3b"
      },
      "execution_count": null,
      "outputs": [
        {
          "output_type": "execute_result",
          "data": {
            "text/plain": [
              "[]"
            ]
          },
          "metadata": {},
          "execution_count": 8
        }
      ]
    },
    {
      "cell_type": "code",
      "source": [
        "import keyword\n",
        "keyword.kwlist"
      ],
      "metadata": {
        "colab": {
          "base_uri": "https://localhost:8080/"
        },
        "id": "1TYrqOY1m49T",
        "outputId": "e3a523b5-acc7-4c65-bc79-f04fe3e45bd2"
      },
      "execution_count": null,
      "outputs": [
        {
          "output_type": "execute_result",
          "data": {
            "text/plain": [
              "['False',\n",
              " 'None',\n",
              " 'True',\n",
              " 'and',\n",
              " 'as',\n",
              " 'assert',\n",
              " 'async',\n",
              " 'await',\n",
              " 'break',\n",
              " 'class',\n",
              " 'continue',\n",
              " 'def',\n",
              " 'del',\n",
              " 'elif',\n",
              " 'else',\n",
              " 'except',\n",
              " 'finally',\n",
              " 'for',\n",
              " 'from',\n",
              " 'global',\n",
              " 'if',\n",
              " 'import',\n",
              " 'in',\n",
              " 'is',\n",
              " 'lambda',\n",
              " 'nonlocal',\n",
              " 'not',\n",
              " 'or',\n",
              " 'pass',\n",
              " 'raise',\n",
              " 'return',\n",
              " 'try',\n",
              " 'while',\n",
              " 'with',\n",
              " 'yield']"
            ]
          },
          "metadata": {},
          "execution_count": 7
        }
      ]
    },
    {
      "cell_type": "code",
      "source": [
        "def prn():\n",
        "  return 1"
      ],
      "metadata": {
        "id": "JbVWPEbQnUsy"
      },
      "execution_count": null,
      "outputs": []
    },
    {
      "cell_type": "code",
      "source": [
        "# 실행\n",
        "prn()"
      ],
      "metadata": {
        "colab": {
          "base_uri": "https://localhost:8080/"
        },
        "id": "WJjKvrySoHEk",
        "outputId": "d1919038-dd31-4f5d-c580-50b6b1d1b539"
      },
      "execution_count": null,
      "outputs": [
        {
          "output_type": "execute_result",
          "data": {
            "text/plain": [
              "1"
            ]
          },
          "metadata": {},
          "execution_count": 10
        }
      ]
    },
    {
      "cell_type": "code",
      "source": [
        "# 괄호를 붙이지 않으면 함수식이다.\n",
        "prn"
      ],
      "metadata": {
        "colab": {
          "base_uri": "https://localhost:8080/"
        },
        "id": "ehx0upY4oJnr",
        "outputId": "6215e7a6-db5c-45f0-e969-bd8529038531"
      },
      "execution_count": null,
      "outputs": [
        {
          "output_type": "execute_result",
          "data": {
            "text/plain": [
              "<function __main__.prn()>"
            ]
          },
          "metadata": {},
          "execution_count": 11
        }
      ]
    },
    {
      "cell_type": "code",
      "source": [
        "# 내장함수 callable은 객체가()을 붙여 사용할 수 있는지를 True/False로 알려준다.\n",
        "callable(prn)"
      ],
      "metadata": {
        "colab": {
          "base_uri": "https://localhost:8080/"
        },
        "id": "gYFP4NcUoZB7",
        "outputId": "dda2f788-5923-4a0c-a2a6-c3cdc69483b2"
      },
      "execution_count": null,
      "outputs": [
        {
          "output_type": "execute_result",
          "data": {
            "text/plain": [
              "True"
            ]
          },
          "metadata": {},
          "execution_count": 12
        }
      ]
    },
    {
      "cell_type": "code",
      "source": [
        "#keyword는 callable로 사용불가 하지만 내장객체의 경우 사용가능하나 기능을 잃어버림\n",
        "set = 3;\n",
        "del set \n",
        "set()"
      ],
      "metadata": {
        "colab": {
          "base_uri": "https://localhost:8080/"
        },
        "id": "eYTVaK92mEOL",
        "outputId": "abcc5cd4-aa84-4c8d-d04e-ddfecd89abe4"
      },
      "execution_count": null,
      "outputs": [
        {
          "output_type": "execute_result",
          "data": {
            "text/plain": [
              "set()"
            ]
          },
          "metadata": {},
          "execution_count": 13
        }
      ]
    },
    {
      "cell_type": "code",
      "source": [
        "a = 3\n",
        "callable(a)"
      ],
      "metadata": {
        "colab": {
          "base_uri": "https://localhost:8080/"
        },
        "id": "VvaHHJ3covMM",
        "outputId": "023f7b2b-f24f-4a53-8c28-9c99ff55f225"
      },
      "execution_count": null,
      "outputs": [
        {
          "output_type": "execute_result",
          "data": {
            "text/plain": [
              "False"
            ]
          },
          "metadata": {},
          "execution_count": 13
        }
      ]
    },
    {
      "cell_type": "markdown",
      "source": [
        "### 매개변수(parameter, 함수 정의할때) 인자(argument, 함수 사용할때)\n",
        "1. positional\n",
        "2. keyword\n",
        "3. position & keyword\n",
        "4. position only\n",
        "5. keyword only\n",
        "6. 가변 positional\n",
        "7. 가변 keyword\n"
      ],
      "metadata": {
        "id": "Etm0BNvMpR6M"
      }
    },
    {
      "cell_type": "markdown",
      "source": [
        "1. positional  \n",
        "  함수 호출 : 선언할 때 파라미터의 순서와 호출할 때 인자의 입력순서를 그대로 매칭한다.  "
      ],
      "metadata": {
        "id": "u12C5exqp5SN"
      }
    },
    {
      "cell_type": "markdown",
      "source": [
        "- def proc(a,b,c,/,d,e) -> a,b,c는 postional d,e는 상관없음  \n",
        "- def proc(a,b,c,*,d,e) -> a,b,c는 상관없음 d,e는 keyword"
      ],
      "metadata": {
        "id": "LLZuM-hiuBMF"
      }
    },
    {
      "cell_type": "code",
      "source": [
        "def proc(a,b):\n",
        "  return a, b"
      ],
      "metadata": {
        "id": "jCSWb54oo6T7"
      },
      "execution_count": null,
      "outputs": []
    },
    {
      "cell_type": "code",
      "source": [
        "proc(2,4)"
      ],
      "metadata": {
        "colab": {
          "base_uri": "https://localhost:8080/"
        },
        "id": "VlWg7FclqLFE",
        "outputId": "39bd06d9-4fc8-4fb0-99cb-a669c983d4ef"
      },
      "execution_count": null,
      "outputs": [
        {
          "output_type": "execute_result",
          "data": {
            "text/plain": [
              "(2, 4)"
            ]
          },
          "metadata": {},
          "execution_count": 15
        }
      ]
    },
    {
      "cell_type": "markdown",
      "source": [
        "2. keyword  \n",
        "   keyword 방식을 이용하면 순서와 관계없이 파라미터 이름에 따라 값이 대입된다."
      ],
      "metadata": {
        "id": "ECn_TRbnqSHl"
      }
    },
    {
      "cell_type": "code",
      "source": [
        "proc(b=4, a=2)"
      ],
      "metadata": {
        "colab": {
          "base_uri": "https://localhost:8080/"
        },
        "id": "bFbHcqXTqMtz",
        "outputId": "38a60c37-e309-47b3-c148-90e861aa404a"
      },
      "execution_count": null,
      "outputs": [
        {
          "output_type": "execute_result",
          "data": {
            "text/plain": [
              "(2, 4)"
            ]
          },
          "metadata": {},
          "execution_count": 16
        }
      ]
    },
    {
      "cell_type": "markdown",
      "source": [
        "3. keyword & positional 혼합  "
      ],
      "metadata": {
        "id": "cGZ3YMcUq1EU"
      }
    },
    {
      "cell_type": "code",
      "source": [
        "def proc(a,b,c):\n",
        "  return a,b,c"
      ],
      "metadata": {
        "id": "o1SxBMJfqkIM"
      },
      "execution_count": null,
      "outputs": []
    },
    {
      "cell_type": "code",
      "source": [
        "proc(2, c=5, b=3)"
      ],
      "metadata": {
        "colab": {
          "base_uri": "https://localhost:8080/"
        },
        "id": "sJuaWcHWq9zN",
        "outputId": "03b7c8bc-3717-4740-bdf4-d519c9def1e1"
      },
      "execution_count": null,
      "outputs": [
        {
          "output_type": "execute_result",
          "data": {
            "text/plain": [
              "(2, 3, 5)"
            ]
          },
          "metadata": {},
          "execution_count": 18
        }
      ]
    },
    {
      "cell_type": "code",
      "source": [
        "# 한번 keyword 방식을 사용하면, 그 다음부터는 keyword방법만 사용할 수 있다.\n",
        "proc(b=5, a=4, 8) "
      ],
      "metadata": {
        "colab": {
          "base_uri": "https://localhost:8080/",
          "height": 137
        },
        "id": "DC7aN3KcrA-j",
        "outputId": "556924f0-3e29-4e9e-a1bc-5b694c3c9fbf"
      },
      "execution_count": null,
      "outputs": [
        {
          "output_type": "error",
          "ename": "SyntaxError",
          "evalue": "ignored",
          "traceback": [
            "\u001b[0;36m  File \u001b[0;32m\"<ipython-input-19-3905e0c47697>\"\u001b[0;36m, line \u001b[0;32m1\u001b[0m\n\u001b[0;31m    proc(b=5, a=4, 8)\u001b[0m\n\u001b[0m                   ^\u001b[0m\n\u001b[0;31mSyntaxError\u001b[0m\u001b[0;31m:\u001b[0m positional argument follows keyword argument\n"
          ]
        }
      ]
    },
    {
      "cell_type": "code",
      "source": [
        "# python 버전확인\n",
        "import sys\n",
        "sys.version"
      ],
      "metadata": {
        "colab": {
          "base_uri": "https://localhost:8080/",
          "height": 35
        },
        "id": "619LRMeKrIW0",
        "outputId": "59913a5e-a1a1-4fb8-99ad-04d99048d195"
      },
      "execution_count": null,
      "outputs": [
        {
          "output_type": "execute_result",
          "data": {
            "text/plain": [
              "'3.8.15 (default, Oct 12 2022, 19:14:39) \\n[GCC 7.5.0]'"
            ],
            "application/vnd.google.colaboratory.intrinsic+json": {
              "type": "string"
            }
          },
          "metadata": {},
          "execution_count": 20
        }
      ]
    },
    {
      "cell_type": "markdown",
      "source": [
        "4. position only  \n",
        "position only는 함수를 사용할 때 position방식으로만 인자를 쓸 수 있도록 강제하는 방법이다.  \n",
        "/의 앞에 오는 인자들은 position방식으로 입력할 수 있지만, keyword방식으로 입력할 수 없다.  \n",
        "position only 함수를 선언하는 것은 python 3.8부터 지원한다.  \n",
        "이전 버전에서는 사전 정의된 position only 함수는 있지만, 사용자가 만들 수는 없었다."
      ],
      "metadata": {
        "id": "g3DPMcc2rzyE"
      }
    },
    {
      "cell_type": "code",
      "source": [
        "def proc(a,b,c, /): #키워드 사용불가\n",
        "  return a,b,c"
      ],
      "metadata": {
        "id": "jQNvaAMgrkq1"
      },
      "execution_count": null,
      "outputs": []
    },
    {
      "cell_type": "code",
      "source": [
        "proc(4,5,6)"
      ],
      "metadata": {
        "colab": {
          "base_uri": "https://localhost:8080/"
        },
        "id": "nnYKFyCKsYe0",
        "outputId": "d8223290-06be-47e8-a7bc-dc5be67c5338"
      },
      "execution_count": null,
      "outputs": [
        {
          "output_type": "execute_result",
          "data": {
            "text/plain": [
              "(4, 5, 6)"
            ]
          },
          "metadata": {},
          "execution_count": 22
        }
      ]
    },
    {
      "cell_type": "code",
      "source": [
        "proc(4, c=6, b=5)"
      ],
      "metadata": {
        "colab": {
          "base_uri": "https://localhost:8080/",
          "height": 174
        },
        "id": "x01BLgJascx8",
        "outputId": "a692e5ce-d278-4643-c68f-608f7783629a"
      },
      "execution_count": null,
      "outputs": [
        {
          "output_type": "error",
          "ename": "TypeError",
          "evalue": "ignored",
          "traceback": [
            "\u001b[0;31m---------------------------------------------------------------------------\u001b[0m",
            "\u001b[0;31mTypeError\u001b[0m                                 Traceback (most recent call last)",
            "\u001b[0;32m<ipython-input-23-38ec957656fc>\u001b[0m in \u001b[0;36m<module>\u001b[0;34m\u001b[0m\n\u001b[0;32m----> 1\u001b[0;31m \u001b[0mproc\u001b[0m\u001b[0;34m(\u001b[0m\u001b[0;36m4\u001b[0m\u001b[0;34m,\u001b[0m \u001b[0mc\u001b[0m\u001b[0;34m=\u001b[0m\u001b[0;36m6\u001b[0m\u001b[0;34m,\u001b[0m \u001b[0mb\u001b[0m\u001b[0;34m=\u001b[0m\u001b[0;36m5\u001b[0m\u001b[0;34m)\u001b[0m\u001b[0;34m\u001b[0m\u001b[0;34m\u001b[0m\u001b[0m\n\u001b[0m",
            "\u001b[0;31mTypeError\u001b[0m: proc() got some positional-only arguments passed as keyword arguments: 'b, c'"
          ]
        }
      ]
    },
    {
      "cell_type": "markdown",
      "source": [
        "### 5. keyword only\n",
        "keyword only 방식은 인자를 keyword방식으로만 입력하도록 강제하는 방법이다.  \n",
        "'*' 이후로는 키워드 방식만 가능하다.  "
      ],
      "metadata": {
        "id": "-2cCI2sSoomt"
      }
    },
    {
      "cell_type": "code",
      "source": [
        "def proc(*, a, b, c) :\n",
        "  return a,b,c"
      ],
      "metadata": {
        "id": "3WTJwBNxmYXt"
      },
      "execution_count": null,
      "outputs": []
    },
    {
      "cell_type": "code",
      "source": [
        "proc(a=3, c=5, b=4)"
      ],
      "metadata": {
        "colab": {
          "base_uri": "https://localhost:8080/"
        },
        "id": "bFBajqLqnGM8",
        "outputId": "43b257ad-9221-49b4-9ece-b52cc6cc65a8"
      },
      "execution_count": null,
      "outputs": [
        {
          "output_type": "execute_result",
          "data": {
            "text/plain": [
              "(3, 4, 5)"
            ]
          },
          "metadata": {},
          "execution_count": 16
        }
      ]
    },
    {
      "cell_type": "code",
      "source": [
        "# position 방식을 사용하면 TypeError 발생\n",
        "proc(3,4,5)"
      ],
      "metadata": {
        "colab": {
          "base_uri": "https://localhost:8080/",
          "height": 193
        },
        "id": "NOvTfBrWpQX7",
        "outputId": "71d74877-b3db-41db-9164-77cee14cd962"
      },
      "execution_count": null,
      "outputs": [
        {
          "output_type": "error",
          "ename": "TypeError",
          "evalue": "ignored",
          "traceback": [
            "\u001b[0;31m---------------------------------------------------------------------------\u001b[0m",
            "\u001b[0;31mTypeError\u001b[0m                                 Traceback (most recent call last)",
            "\u001b[0;32m<ipython-input-18-056e720bec27>\u001b[0m in \u001b[0;36m<module>\u001b[0;34m\u001b[0m\n\u001b[1;32m      1\u001b[0m \u001b[0;31m# position 방식을 사용하면 TypeError 발생\u001b[0m\u001b[0;34m\u001b[0m\u001b[0;34m\u001b[0m\u001b[0;34m\u001b[0m\u001b[0m\n\u001b[0;32m----> 2\u001b[0;31m \u001b[0mproc\u001b[0m\u001b[0;34m(\u001b[0m\u001b[0;36m3\u001b[0m\u001b[0;34m,\u001b[0m\u001b[0;36m4\u001b[0m\u001b[0;34m,\u001b[0m\u001b[0;36m5\u001b[0m\u001b[0;34m)\u001b[0m\u001b[0;34m\u001b[0m\u001b[0;34m\u001b[0m\u001b[0m\n\u001b[0m",
            "\u001b[0;31mTypeError\u001b[0m: proc() takes 0 positional arguments but 3 were given"
          ]
        }
      ]
    },
    {
      "cell_type": "markdown",
      "source": [
        "### 6. 가변 positional\n",
        "가변 positional은 파라미터 이름에 '*'를 붙인다.  \n",
        "positional 방식으로 입력되는 인자의 갯수에 상관없이 모두 받아온다.  \n"
      ],
      "metadata": {
        "id": "Mfy9aqS4pxLG"
      }
    },
    {
      "cell_type": "code",
      "source": [
        "def proc(*a):\n",
        "  return a"
      ],
      "metadata": {
        "id": "fJoMyFd4pSFJ"
      },
      "execution_count": null,
      "outputs": []
    },
    {
      "cell_type": "code",
      "source": [
        "proc()"
      ],
      "metadata": {
        "colab": {
          "base_uri": "https://localhost:8080/"
        },
        "id": "k9w5M3JMqHCM",
        "outputId": "a5772fae-2a08-41f0-acb5-6018a0cef384"
      },
      "execution_count": null,
      "outputs": [
        {
          "output_type": "execute_result",
          "data": {
            "text/plain": [
              "()"
            ]
          },
          "metadata": {},
          "execution_count": 20
        }
      ]
    },
    {
      "cell_type": "code",
      "source": [
        "proc(1)"
      ],
      "metadata": {
        "colab": {
          "base_uri": "https://localhost:8080/"
        },
        "id": "5Pk2QqqPqILM",
        "outputId": "329f6e34-21cf-4da4-e916-90cc3e30ec12"
      },
      "execution_count": null,
      "outputs": [
        {
          "output_type": "execute_result",
          "data": {
            "text/plain": [
              "(1,)"
            ]
          },
          "metadata": {},
          "execution_count": 21
        }
      ]
    },
    {
      "cell_type": "code",
      "source": [
        "proc(1,2)"
      ],
      "metadata": {
        "colab": {
          "base_uri": "https://localhost:8080/"
        },
        "id": "ipOS48BlqJ0M",
        "outputId": "2db4844c-67dc-406d-dfa2-f7696dde269f"
      },
      "execution_count": null,
      "outputs": [
        {
          "output_type": "execute_result",
          "data": {
            "text/plain": [
              "(1, 2)"
            ]
          },
          "metadata": {},
          "execution_count": 22
        }
      ]
    },
    {
      "cell_type": "code",
      "source": [
        "def proc2(*a):\n",
        "  print(type(a))\n",
        "  hap = 0\n",
        "  for i in a:\n",
        "    hap += i\n",
        "  return hap"
      ],
      "metadata": {
        "id": "DdEPSgG2qLMF"
      },
      "execution_count": null,
      "outputs": []
    },
    {
      "cell_type": "code",
      "source": [
        "proc2(1,3,5)"
      ],
      "metadata": {
        "colab": {
          "base_uri": "https://localhost:8080/"
        },
        "id": "EbvSHYRkqjoU",
        "outputId": "d618b1fd-1853-475e-f2eb-308d9f76564e"
      },
      "execution_count": null,
      "outputs": [
        {
          "output_type": "stream",
          "name": "stdout",
          "text": [
            "<class 'tuple'>\n"
          ]
        },
        {
          "output_type": "execute_result",
          "data": {
            "text/plain": [
              "9"
            ]
          },
          "metadata": {},
          "execution_count": 27
        }
      ]
    },
    {
      "cell_type": "code",
      "source": [
        "proc2()"
      ],
      "metadata": {
        "colab": {
          "base_uri": "https://localhost:8080/"
        },
        "id": "5YOt2AqYquK1",
        "outputId": "27e33a04-246e-4acc-8ddb-8b25657be527"
      },
      "execution_count": null,
      "outputs": [
        {
          "output_type": "stream",
          "name": "stdout",
          "text": [
            "<class 'tuple'>\n"
          ]
        },
        {
          "output_type": "execute_result",
          "data": {
            "text/plain": [
              "0"
            ]
          },
          "metadata": {},
          "execution_count": 28
        }
      ]
    },
    {
      "cell_type": "markdown",
      "source": [
        "### 7. 가변 keyword\n",
        "가변 keyword는 파라미터 이름에 '**'를 붙인다.  \n",
        "keyword방식으로 입력되는 인자의 개수에 상관없이 모두 받아온다.  \n"
      ],
      "metadata": {
        "id": "x780rvFurRcs"
      }
    },
    {
      "cell_type": "code",
      "source": [
        "def proc(**a):\n",
        "  print(type(a))\n",
        "  return a"
      ],
      "metadata": {
        "id": "RRJuFN-3qzZN"
      },
      "execution_count": null,
      "outputs": []
    },
    {
      "cell_type": "code",
      "source": [
        "proc()"
      ],
      "metadata": {
        "colab": {
          "base_uri": "https://localhost:8080/"
        },
        "id": "b5Ds3XtwrwTV",
        "outputId": "6a17c496-727c-4421-c6d1-de6812ed7081"
      },
      "execution_count": null,
      "outputs": [
        {
          "output_type": "stream",
          "name": "stdout",
          "text": [
            "<class 'dict'>\n"
          ]
        },
        {
          "output_type": "execute_result",
          "data": {
            "text/plain": [
              "{}"
            ]
          },
          "metadata": {},
          "execution_count": 30
        }
      ]
    },
    {
      "cell_type": "code",
      "source": [
        "# 인자로 넘겨준 이름을 dict의 키로 사용한다. 매개변수처럼 사용\n",
        "proc(x=2, y=3)"
      ],
      "metadata": {
        "colab": {
          "base_uri": "https://localhost:8080/"
        },
        "id": "0m20vXBWr7Ok",
        "outputId": "746be5f8-883a-419d-afba-23fe0cbba555"
      },
      "execution_count": null,
      "outputs": [
        {
          "output_type": "stream",
          "name": "stdout",
          "text": [
            "<class 'dict'>\n"
          ]
        },
        {
          "output_type": "execute_result",
          "data": {
            "text/plain": [
              "{'x': 2, 'y': 3}"
            ]
          },
          "metadata": {},
          "execution_count": 31
        }
      ]
    },
    {
      "cell_type": "code",
      "source": [
        "proc(x=3, y=1, z=[1,2,3])"
      ],
      "metadata": {
        "colab": {
          "base_uri": "https://localhost:8080/"
        },
        "id": "o1lyo6WDsA6s",
        "outputId": "51d8f971-d46c-4934-c87b-669f6737aec3"
      },
      "execution_count": null,
      "outputs": [
        {
          "output_type": "stream",
          "name": "stdout",
          "text": [
            "<class 'dict'>\n"
          ]
        },
        {
          "output_type": "execute_result",
          "data": {
            "text/plain": [
              "{'x': 3, 'y': 1, 'z': [1, 2, 3]}"
            ]
          },
          "metadata": {},
          "execution_count": 32
        }
      ]
    },
    {
      "cell_type": "markdown",
      "source": [
        "### 가변 keyword / 가변 positional은 한 번만 사용할 수 있다.  \n"
      ],
      "metadata": {
        "id": "1y7A5BQws4ul"
      }
    },
    {
      "cell_type": "code",
      "source": [
        "def proc(*a, *b):\n",
        "  return a,b"
      ],
      "metadata": {
        "colab": {
          "base_uri": "https://localhost:8080/",
          "height": 137
        },
        "id": "TlWXgtEisTk9",
        "outputId": "4542dad0-4b2a-4527-b574-1169c067654c"
      },
      "execution_count": null,
      "outputs": [
        {
          "output_type": "error",
          "ename": "SyntaxError",
          "evalue": "ignored",
          "traceback": [
            "\u001b[0;36m  File \u001b[0;32m\"<ipython-input-34-84848a7b6fce>\"\u001b[0;36m, line \u001b[0;32m1\u001b[0m\n\u001b[0;31m    def proc(*a, *b):\u001b[0m\n\u001b[0m                 ^\u001b[0m\n\u001b[0;31mSyntaxError\u001b[0m\u001b[0;31m:\u001b[0m invalid syntax\n"
          ]
        }
      ]
    },
    {
      "cell_type": "code",
      "source": [
        "def proc(**a, **b):\n",
        "  return a,b"
      ],
      "metadata": {
        "colab": {
          "base_uri": "https://localhost:8080/",
          "height": 137
        },
        "id": "3VWSdXH7tB0y",
        "outputId": "b7d0ce7f-a565-48a1-aad1-7af0c82d00d0"
      },
      "execution_count": null,
      "outputs": [
        {
          "output_type": "error",
          "ename": "SyntaxError",
          "evalue": "ignored",
          "traceback": [
            "\u001b[0;36m  File \u001b[0;32m\"<ipython-input-35-4a8845574f25>\"\u001b[0;36m, line \u001b[0;32m1\u001b[0m\n\u001b[0;31m    def proc(**a, **b):\u001b[0m\n\u001b[0m                  ^\u001b[0m\n\u001b[0;31mSyntaxError\u001b[0m\u001b[0;31m:\u001b[0m invalid syntax\n"
          ]
        }
      ]
    },
    {
      "cell_type": "markdown",
      "source": [
        "### return \n",
        "1. 함수의 결과값을 넘겨주는 목적으로 사용한다.  \n",
        "2. 함수를 강제적으로 종료할 때 사용한다.\n",
        "3. 함수에서 return을 2번 이상 사용할 수 없다.\n",
        "4. 함수의 결과를 2개(tuple) 이상으로 받고 싶다면 unpacking해서 받는다. (javascript에서 destructuring)\n",
        "[Destructuring](https://developer.mozilla.org/ko/docs/Web/JavaScript/Reference/Operators/Destructuring_assignment)"
      ],
      "metadata": {
        "id": "cXEJ1HvDucUt"
      }
    },
    {
      "cell_type": "code",
      "source": [
        "def proc(*a):\n",
        "  total = 0\n",
        "  avg = 0\n",
        "  for i in a:\n",
        "    total += i\n",
        "\n",
        "  avg = total/len(a)\n",
        "  return (total, avg) #괄호를 생략해도 tuple로 넘어감"
      ],
      "metadata": {
        "id": "frEcFeQ5tOTs"
      },
      "execution_count": null,
      "outputs": []
    },
    {
      "cell_type": "code",
      "source": [
        "proc(1,2,3,4)"
      ],
      "metadata": {
        "colab": {
          "base_uri": "https://localhost:8080/"
        },
        "id": "zm-wRnkCybw3",
        "outputId": "c0198484-7377-4e34-baae-96b6df95b061"
      },
      "execution_count": null,
      "outputs": [
        {
          "output_type": "execute_result",
          "data": {
            "text/plain": [
              "(10, 2.5)"
            ]
          },
          "metadata": {},
          "execution_count": 37
        }
      ]
    },
    {
      "cell_type": "code",
      "source": [
        "# 함수의 결과를 2개로 받고 싶을 때 unpacking을 사용하면 된다.\n",
        "total, avg = proc(1,2,3,4)\n",
        "print(total)\n",
        "print(avg)"
      ],
      "metadata": {
        "colab": {
          "base_uri": "https://localhost:8080/"
        },
        "id": "oW545_c6yl0-",
        "outputId": "912889fc-3395-490d-ce7a-d5d2d98b0c79"
      },
      "execution_count": null,
      "outputs": [
        {
          "output_type": "stream",
          "name": "stdout",
          "text": [
            "10\n",
            "2.5\n"
          ]
        }
      ]
    },
    {
      "cell_type": "code",
      "source": [
        "def proc(**a):\n",
        "  total = 0\n",
        "  avg = 0\n",
        "\n",
        "#  for key in a:\n",
        "#    total += a[key]\n",
        "  \n",
        "  for _, value in a.items(): #key값 받아올 필요없으므로 _(언더바)로 표시해서 사용 (key값은 받아오지 않겠다)\n",
        "    total += value\n",
        "\n",
        "  avg = total / len(a)\n",
        "  return (total, avg)"
      ],
      "metadata": {
        "id": "bGeDJ2Zmytou"
      },
      "execution_count": null,
      "outputs": []
    },
    {
      "cell_type": "code",
      "source": [
        "proc(a=5, b=6, c=7, d=8)"
      ],
      "metadata": {
        "colab": {
          "base_uri": "https://localhost:8080/"
        },
        "id": "z4yOjWsKzds_",
        "outputId": "054ea165-5a31-4f47-b10b-725d3a9d6a79"
      },
      "execution_count": null,
      "outputs": [
        {
          "output_type": "execute_result",
          "data": {
            "text/plain": [
              "(26, 6.5)"
            ]
          },
          "metadata": {},
          "execution_count": 41
        }
      ]
    },
    {
      "cell_type": "code",
      "source": [
        "total, avg = proc(a=5, b=6, c=7, d=8)\n",
        "print(total)\n",
        "print(avg)"
      ],
      "metadata": {
        "colab": {
          "base_uri": "https://localhost:8080/"
        },
        "id": "w2QKHO-Hzi9W",
        "outputId": "767e405b-b9d9-43cf-c2bf-db290cf6e952"
      },
      "execution_count": null,
      "outputs": [
        {
          "output_type": "stream",
          "name": "stdout",
          "text": [
            "26\n",
            "6.5\n"
          ]
        }
      ]
    },
    {
      "cell_type": "markdown",
      "source": [
        "### overloading\n",
        "함수의 이름은 같은데, 매개변수 개수 또는 매개변수의 타입이 달라야 한다.  \n",
        "python은 overload을 지원하지 않는다.\n"
      ],
      "metadata": {
        "id": "wppjwxxw1gt3"
      }
    },
    {
      "cell_type": "code",
      "source": [
        "def add(a):\n",
        "  return a + 1"
      ],
      "metadata": {
        "id": "crT9idlDz0xm"
      },
      "execution_count": null,
      "outputs": []
    },
    {
      "cell_type": "code",
      "source": [
        "add(6)"
      ],
      "metadata": {
        "colab": {
          "base_uri": "https://localhost:8080/"
        },
        "id": "wzpGV8fx2BiX",
        "outputId": "6519d3bb-1573-40a1-d313-647e50c6efc3"
      },
      "execution_count": null,
      "outputs": [
        {
          "output_type": "execute_result",
          "data": {
            "text/plain": [
              "7"
            ]
          },
          "metadata": {},
          "execution_count": 2
        }
      ]
    },
    {
      "cell_type": "code",
      "source": [
        "def add(a,b):\n",
        "  return a+b"
      ],
      "metadata": {
        "id": "BxZmnYPS2Cmn"
      },
      "execution_count": null,
      "outputs": []
    },
    {
      "cell_type": "code",
      "source": [
        "def add(a):\n",
        "  return a + 1\n",
        "\n",
        "def add(a,b):\n",
        "  return a+b\n",
        "\n",
        "add(3) # 실행순서 중요함\n",
        "add(5,6)"
      ],
      "metadata": {
        "colab": {
          "base_uri": "https://localhost:8080/",
          "height": 229
        },
        "id": "oq-2O8AE2FZW",
        "outputId": "b353c491-17dc-4c15-db88-668a2a8270ac"
      },
      "execution_count": null,
      "outputs": [
        {
          "output_type": "error",
          "ename": "TypeError",
          "evalue": "ignored",
          "traceback": [
            "\u001b[0;31m---------------------------------------------------------------------------\u001b[0m",
            "\u001b[0;31mTypeError\u001b[0m                                 Traceback (most recent call last)",
            "\u001b[0;32m<ipython-input-5-ac74414ab0bd>\u001b[0m in \u001b[0;36m<module>\u001b[0;34m\u001b[0m\n\u001b[1;32m      5\u001b[0m   \u001b[0;32mreturn\u001b[0m \u001b[0ma\u001b[0m\u001b[0;34m+\u001b[0m\u001b[0mb\u001b[0m\u001b[0;34m\u001b[0m\u001b[0;34m\u001b[0m\u001b[0m\n\u001b[1;32m      6\u001b[0m \u001b[0;34m\u001b[0m\u001b[0m\n\u001b[0;32m----> 7\u001b[0;31m \u001b[0madd\u001b[0m\u001b[0;34m(\u001b[0m\u001b[0;36m3\u001b[0m\u001b[0;34m)\u001b[0m\u001b[0;34m\u001b[0m\u001b[0;34m\u001b[0m\u001b[0m\n\u001b[0m\u001b[1;32m      8\u001b[0m \u001b[0madd\u001b[0m\u001b[0;34m(\u001b[0m\u001b[0;36m5\u001b[0m\u001b[0;34m,\u001b[0m\u001b[0;36m6\u001b[0m\u001b[0;34m)\u001b[0m\u001b[0;34m\u001b[0m\u001b[0;34m\u001b[0m\u001b[0m\n",
            "\u001b[0;31mTypeError\u001b[0m: add() missing 1 required positional argument: 'b'"
          ]
        }
      ]
    },
    {
      "cell_type": "code",
      "source": [
        "def add(a):\n",
        "  return a + 1\n",
        "\n",
        "add(3) # 이렇게 실행했을 때는 오류 없이 처리 가능\n",
        "\n",
        "def add(a, b):\n",
        "  return a + b\n",
        "\n",
        "add(5, 6)"
      ],
      "metadata": {
        "colab": {
          "base_uri": "https://localhost:8080/"
        },
        "id": "E80AJYnE759O",
        "outputId": "d125a3eb-a2a9-47dd-fd40-2acb025a89f0"
      },
      "execution_count": null,
      "outputs": [
        {
          "output_type": "execute_result",
          "data": {
            "text/plain": [
              "11"
            ]
          },
          "metadata": {},
          "execution_count": 6
        }
      ]
    },
    {
      "cell_type": "code",
      "source": [
        "def proc(a,b):\n",
        "  return a + b"
      ],
      "metadata": {
        "id": "LGqfGBXo2J1X"
      },
      "execution_count": null,
      "outputs": []
    },
    {
      "cell_type": "code",
      "source": [
        "type(proc)"
      ],
      "metadata": {
        "id": "IFc2QhQH28Cn"
      },
      "execution_count": null,
      "outputs": []
    },
    {
      "cell_type": "code",
      "source": [
        "dir(proc)"
      ],
      "metadata": {
        "id": "UxpByIZk29ZQ"
      },
      "execution_count": null,
      "outputs": []
    },
    {
      "cell_type": "code",
      "source": [
        "type(proc.__name__)"
      ],
      "metadata": {
        "id": "FZmUvvo-3Dhn"
      },
      "execution_count": null,
      "outputs": []
    },
    {
      "cell_type": "code",
      "source": [
        "#__name__ 은 함수의 이름을 알려준다. \n",
        "proc.__name__"
      ],
      "metadata": {
        "id": "urw6nSAb3aYI"
      },
      "execution_count": null,
      "outputs": []
    },
    {
      "cell_type": "code",
      "source": [
        "display = proc; #proc != proc() / proc은 함수명, proc()은 함수식"
      ],
      "metadata": {
        "id": "Qc-3mx3T3huH"
      },
      "execution_count": null,
      "outputs": []
    },
    {
      "cell_type": "code",
      "source": [
        "# 함수를 다른 함수에 재할당해도 __name__은 원래 이름을 알려준다.\n",
        "display.__name__"
      ],
      "metadata": {
        "id": "9U1jyWHh3tCo"
      },
      "execution_count": null,
      "outputs": []
    },
    {
      "cell_type": "code",
      "source": [
        "display"
      ],
      "metadata": {
        "id": "ikFeWAqG4Bpv"
      },
      "execution_count": null,
      "outputs": []
    },
    {
      "cell_type": "code",
      "source": [
        "display(3,4)"
      ],
      "metadata": {
        "id": "SkYRSHdg4N1g"
      },
      "execution_count": null,
      "outputs": []
    },
    {
      "cell_type": "markdown",
      "source": [
        "### python은 외부에서 함수 내부로 접근할 수 없다.  \n",
        "### z는 함수내에서 할당되었으므로 함수밖에서 호출할 수 없다.\n"
      ],
      "metadata": {
        "id": "Rly-b6hH4j6z"
      }
    },
    {
      "cell_type": "code",
      "source": [
        "def proc():\n",
        "  z = 1"
      ],
      "metadata": {
        "id": "OwqpP4v_4SlQ"
      },
      "execution_count": null,
      "outputs": []
    },
    {
      "cell_type": "code",
      "source": [
        "z"
      ],
      "metadata": {
        "colab": {
          "base_uri": "https://localhost:8080/",
          "height": 174
        },
        "id": "i6o7ePzI5KJS",
        "outputId": "16de75ba-e124-432f-d157-dbe104057b6d"
      },
      "execution_count": null,
      "outputs": [
        {
          "output_type": "error",
          "ename": "NameError",
          "evalue": "ignored",
          "traceback": [
            "\u001b[0;31m---------------------------------------------------------------------------\u001b[0m",
            "\u001b[0;31mNameError\u001b[0m                                 Traceback (most recent call last)",
            "\u001b[0;32m<ipython-input-76-3a710d2a84f8>\u001b[0m in \u001b[0;36m<module>\u001b[0;34m\u001b[0m\n\u001b[0;32m----> 1\u001b[0;31m \u001b[0mz\u001b[0m\u001b[0;34m\u001b[0m\u001b[0;34m\u001b[0m\u001b[0m\n\u001b[0m",
            "\u001b[0;31mNameError\u001b[0m: name 'z' is not defined"
          ]
        }
      ]
    },
    {
      "cell_type": "markdown",
      "source": [
        "### 함수 내부에서는 외부에 접근할 수 있다."
      ],
      "metadata": {
        "id": "e0o42Ces5SQ4"
      }
    },
    {
      "cell_type": "code",
      "source": [
        "c = 10\n",
        "def display():\n",
        "  print(c)"
      ],
      "metadata": {
        "id": "IpiK8SVQ5LFQ"
      },
      "execution_count": null,
      "outputs": []
    },
    {
      "cell_type": "code",
      "source": [
        "display()"
      ],
      "metadata": {
        "colab": {
          "base_uri": "https://localhost:8080/"
        },
        "id": "4fUmMZen5Ya4",
        "outputId": "6a2ac163-0707-4ac6-f5f5-14bc4f92cec5"
      },
      "execution_count": null,
      "outputs": [
        {
          "output_type": "stream",
          "name": "stdout",
          "text": [
            "10\n"
          ]
        }
      ]
    },
    {
      "cell_type": "markdown",
      "source": [
        "### 함수에서 외부의 값을 접근할 수 있지만, 변경은 할 수 없다."
      ],
      "metadata": {
        "id": "xcwoS--S6J2Z"
      }
    },
    {
      "cell_type": "code",
      "source": [
        "t = 3\n",
        "def prn():\n",
        "  t = t + 1\n",
        "  print(t)"
      ],
      "metadata": {
        "id": "aJJcHqIj5ZbP"
      },
      "execution_count": null,
      "outputs": []
    },
    {
      "cell_type": "code",
      "source": [
        "prn()"
      ],
      "metadata": {
        "colab": {
          "base_uri": "https://localhost:8080/",
          "height": 284
        },
        "id": "gpM-9WMs574g",
        "outputId": "2ec6eb73-8eb5-4d5b-c764-129d3978d20d"
      },
      "execution_count": null,
      "outputs": [
        {
          "output_type": "error",
          "ename": "UnboundLocalError",
          "evalue": "ignored",
          "traceback": [
            "\u001b[0;31m---------------------------------------------------------------------------\u001b[0m",
            "\u001b[0;31mUnboundLocalError\u001b[0m                         Traceback (most recent call last)",
            "\u001b[0;32m<ipython-input-88-9f4e808490c5>\u001b[0m in \u001b[0;36m<module>\u001b[0;34m\u001b[0m\n\u001b[0;32m----> 1\u001b[0;31m \u001b[0mprn\u001b[0m\u001b[0;34m(\u001b[0m\u001b[0;34m)\u001b[0m\u001b[0;34m\u001b[0m\u001b[0;34m\u001b[0m\u001b[0m\n\u001b[0m",
            "\u001b[0;32m<ipython-input-87-8e9edadaef62>\u001b[0m in \u001b[0;36mprn\u001b[0;34m()\u001b[0m\n\u001b[1;32m      1\u001b[0m \u001b[0mt\u001b[0m \u001b[0;34m=\u001b[0m \u001b[0;36m3\u001b[0m\u001b[0;34m\u001b[0m\u001b[0;34m\u001b[0m\u001b[0m\n\u001b[1;32m      2\u001b[0m \u001b[0;32mdef\u001b[0m \u001b[0mprn\u001b[0m\u001b[0;34m(\u001b[0m\u001b[0;34m)\u001b[0m\u001b[0;34m:\u001b[0m\u001b[0;34m\u001b[0m\u001b[0;34m\u001b[0m\u001b[0m\n\u001b[0;32m----> 3\u001b[0;31m   \u001b[0mt\u001b[0m \u001b[0;34m=\u001b[0m \u001b[0mt\u001b[0m \u001b[0;34m+\u001b[0m \u001b[0;36m1\u001b[0m\u001b[0;34m\u001b[0m\u001b[0;34m\u001b[0m\u001b[0m\n\u001b[0m\u001b[1;32m      4\u001b[0m   \u001b[0mprint\u001b[0m\u001b[0;34m(\u001b[0m\u001b[0mt\u001b[0m\u001b[0;34m)\u001b[0m\u001b[0;34m\u001b[0m\u001b[0;34m\u001b[0m\u001b[0m\n",
            "\u001b[0;31mUnboundLocalError\u001b[0m: local variable 't' referenced before assignment"
          ]
        }
      ]
    },
    {
      "cell_type": "markdown",
      "source": [
        "### global은 내부와 외부의 객체를 동기화(sync) 시켜준다.\n",
        "### global은 사용하기는 편하지만 언제 바뀌었는지 흐름을 파악하기 힘들기 때문에 남용은 하지 않는다"
      ],
      "metadata": {
        "id": "YJA2WX7666fI"
      }
    },
    {
      "cell_type": "code",
      "source": [
        "t = 3\n",
        "def prn():\n",
        "  global t\n",
        "  t = t + 1\n",
        "  print(t)"
      ],
      "metadata": {
        "id": "vq2j7kND6CQf"
      },
      "execution_count": null,
      "outputs": []
    },
    {
      "cell_type": "code",
      "source": [
        "prn()"
      ],
      "metadata": {
        "colab": {
          "base_uri": "https://localhost:8080/"
        },
        "id": "qO-MVPJ364SY",
        "outputId": "f0e03dbc-45d2-43d3-f0f1-31994e0a7fb7"
      },
      "execution_count": null,
      "outputs": [
        {
          "output_type": "stream",
          "name": "stdout",
          "text": [
            "4\n"
          ]
        }
      ]
    },
    {
      "cell_type": "code",
      "source": [
        "# 외부의 자원도 값이 변경이 되어서 출력이 된다.\n",
        "t"
      ],
      "metadata": {
        "colab": {
          "base_uri": "https://localhost:8080/"
        },
        "id": "xpUaTjpd65sQ",
        "outputId": "8d8ea384-d87a-4758-f555-ba5442860ff5"
      },
      "execution_count": null,
      "outputs": [
        {
          "output_type": "execute_result",
          "data": {
            "text/plain": [
              "4"
            ]
          },
          "metadata": {},
          "execution_count": 91
        }
      ]
    },
    {
      "cell_type": "markdown",
      "source": [
        "### 중첩함수 사용\n",
        "\n",
        "nonocal은 함수 안에 있는 영역에 동기화(sync)한다."
      ],
      "metadata": {
        "id": "thrr-Zmt8AHR"
      }
    },
    {
      "cell_type": "code",
      "source": [
        "k = 1\n",
        "def outer():\n",
        "  m = 1\n",
        "  def inner():\n",
        "    global k  #전역변수\n",
        "    k = k + 1\n",
        "    nonlocal m #지역변수가 아니다.\n",
        "    m = m + 1\n",
        "    return k,m\n",
        "  return inner()"
      ],
      "metadata": {
        "id": "uyrCsIdz7K0Y"
      },
      "execution_count": null,
      "outputs": []
    },
    {
      "cell_type": "code",
      "source": [
        "outer()"
      ],
      "metadata": {
        "colab": {
          "base_uri": "https://localhost:8080/"
        },
        "id": "6N-qX3NT8Pxr",
        "outputId": "1d0e58bf-c950-406f-a6c3-4bf35ee0d4e5"
      },
      "execution_count": null,
      "outputs": [
        {
          "output_type": "execute_result",
          "data": {
            "text/plain": [
              "(2, 2)"
            ]
          },
          "metadata": {},
          "execution_count": 101
        }
      ]
    },
    {
      "cell_type": "markdown",
      "source": [
        "### 모듈"
      ],
      "metadata": {
        "id": "3BTzbvPmIlGc"
      }
    },
    {
      "cell_type": "code",
      "source": [
        "import sys"
      ],
      "metadata": {
        "id": "BqKsND9wBera"
      },
      "execution_count": null,
      "outputs": []
    },
    {
      "cell_type": "code",
      "source": [
        "# 사전형\n",
        "print(type(sys.modules))\n",
        "# 가져온 모듈 이름들을 출력한다.\n",
        "print('\\n'.join(sys.modules.keys()))"
      ],
      "metadata": {
        "colab": {
          "base_uri": "https://localhost:8080/"
        },
        "id": "c_AuQ3YrIX_T",
        "outputId": "ec8099a9-b219-43f4-a294-b6dba3039360"
      },
      "execution_count": null,
      "outputs": [
        {
          "output_type": "stream",
          "name": "stdout",
          "text": [
            "<class 'dict'>\n",
            "sys\n",
            "builtins\n",
            "_frozen_importlib\n",
            "_imp\n",
            "_warnings\n",
            "_io\n",
            "marshal\n",
            "posix\n",
            "_frozen_importlib_external\n",
            "_thread\n",
            "_weakref\n",
            "time\n",
            "zipimport\n",
            "_codecs\n",
            "codecs\n",
            "encodings.aliases\n",
            "encodings\n",
            "encodings.utf_8\n",
            "_signal\n",
            "__main__\n",
            "encodings.latin_1\n",
            "_abc\n",
            "abc\n",
            "io\n",
            "types\n",
            "enum\n",
            "_sre\n",
            "sre_constants\n",
            "sre_parse\n",
            "sre_compile\n",
            "_collections_abc\n",
            "_operator\n",
            "operator\n",
            "keyword\n",
            "_heapq\n",
            "heapq\n",
            "itertools\n",
            "reprlib\n",
            "_collections\n",
            "collections\n",
            "_functools\n",
            "functools\n",
            "_locale\n",
            "copyreg\n",
            "re\n",
            "warnings\n",
            "_stat\n",
            "stat\n",
            "genericpath\n",
            "posixpath\n",
            "os.path\n",
            "os\n",
            "_sitebuiltins\n",
            "_bootlocale\n",
            "importlib._bootstrap\n",
            "importlib._bootstrap_external\n",
            "importlib\n",
            "importlib.machinery\n",
            "importlib.abc\n",
            "contextlib\n",
            "importlib.util\n",
            "google\n",
            "google.cloud\n",
            "google.logging\n",
            "mpl_toolkits\n",
            "sphinxcontrib\n",
            "sitecustomize\n",
            "site\n",
            "_weakrefset\n",
            "weakref\n",
            "pkgutil\n",
            "runpy\n",
            "ipykernel._version\n",
            "__future__\n",
            "_json\n",
            "json.scanner\n",
            "json.decoder\n",
            "json.encoder\n",
            "json\n",
            "errno\n",
            "signal\n",
            "threading\n",
            "_posixsubprocess\n",
            "select\n",
            "collections.abc\n",
            "math\n",
            "selectors\n",
            "subprocess\n",
            "IPython.core\n",
            "IPython.core.getipython\n",
            "IPython.core.release\n",
            "atexit\n",
            "copy\n",
            "fnmatch\n",
            "glob\n",
            "token\n",
            "tokenize\n",
            "linecache\n",
            "traceback\n",
            "_string\n",
            "string\n",
            "logging\n",
            "zlib\n",
            "_compression\n",
            "_bz2\n",
            "bz2\n",
            "_lzma\n",
            "lzma\n",
            "pwd\n",
            "grp\n",
            "shutil\n",
            "_ast\n",
            "ast\n",
            "_opcode\n",
            "opcode\n",
            "dis\n",
            "inspect\n",
            "traitlets.utils\n",
            "traitlets.utils.getargspec\n",
            "traitlets.utils.importstring\n",
            "traitlets.utils.sentinel\n",
            "traitlets.utils.bunch\n",
            "traitlets.utils.descriptions\n",
            "traitlets.traitlets\n",
            "traitlets.utils.decorators\n",
            "traitlets._version\n",
            "traitlets\n",
            "pprint\n",
            "locale\n",
            "gettext\n",
            "argparse\n",
            "traitlets.config.loader\n",
            "textwrap\n",
            "traitlets.utils.text\n",
            "traitlets.config.configurable\n",
            "traitlets.config.application\n",
            "traitlets.config\n",
            "platform\n",
            "sysconfig\n",
            "urllib\n",
            "urllib.parse\n",
            "_sysconfigdata__x86_64-linux-gnu\n",
            "pydoc\n",
            "bdb\n",
            "IPython.utils\n",
            "IPython.utils.ipstruct\n",
            "IPython.utils.coloransi\n",
            "pygments\n",
            "IPython.utils.colorable\n",
            "IPython.utils.PyColorize\n",
            "IPython.utils.encoding\n",
            "IPython.utils.py3compat\n",
            "IPython.core.excolors\n",
            "IPython.testing\n",
            "IPython.testing.skipdoctest\n",
            "cmd\n",
            "codeop\n",
            "code\n",
            "pdb\n",
            "IPython.core.debugger\n",
            "IPython.core.display_trap\n",
            "_bisect\n",
            "bisect\n",
            "_sha512\n",
            "_random\n",
            "random\n",
            "pexpect.exceptions\n",
            "pexpect.utils\n",
            "pexpect.expect\n",
            "termios\n",
            "tty\n",
            "pty\n",
            "fcntl\n",
            "resource\n",
            "_struct\n",
            "struct\n",
            "ptyprocess.util\n",
            "ptyprocess.ptyprocess\n",
            "ptyprocess\n",
            "pexpect.spawnbase\n",
            "pexpect.pty_spawn\n",
            "pexpect.run\n",
            "pexpect\n",
            "shlex\n",
            "IPython.utils._process_common\n",
            "IPython.utils._process_posix\n",
            "IPython.utils.process\n",
            "IPython.utils.decorators\n",
            "IPython.utils.path\n",
            "IPython.utils.data\n",
            "IPython.utils.terminal\n",
            "IPython.core.ultratb\n",
            "IPython.utils._sysinfo\n",
            "IPython.utils.sysinfo\n",
            "IPython.core.crashhandler\n",
            "tempfile\n",
            "IPython.utils.importstring\n",
            "IPython.paths\n",
            "IPython.core.profiledir\n",
            "IPython.core.application\n",
            "IPython.terminal\n",
            "_hashlib\n",
            "_blake2\n",
            "_sha3\n",
            "hashlib\n",
            "IPython.core.compilerop\n",
            "IPython.core.error\n",
            "ntpath\n",
            "pathlib\n",
            "IPython.utils.text\n",
            "IPython.core.magic_arguments\n",
            "getopt\n",
            "binascii\n",
            "mimetypes\n",
            "IPython.core.display\n",
            "IPython.core.page\n",
            "getpass\n",
            "IPython.lib.security\n",
            "IPython.lib\n",
            "_datetime\n",
            "datetime\n",
            "IPython.lib.pretty\n",
            "IPython.utils.openpy\n",
            "IPython.utils.dir2\n",
            "IPython.utils.wildcard\n",
            "pygments.lexers._mapping\n",
            "pygments.modeline\n",
            "pygments.plugin\n",
            "pygments.util\n",
            "pygments.lexers\n",
            "pygments.filter\n",
            "pygments.token\n",
            "pygments.filters\n",
            "pygments.regexopt\n",
            "pygments.lexer\n",
            "pygments.unistring\n",
            "pygments.lexers.python\n",
            "pygments.formatters._mapping\n",
            "pygments.formatters\n",
            "pygments.styles\n",
            "pygments.formatter\n",
            "pygments.formatters.html\n",
            "IPython.core.oinspect\n",
            "typing.io\n",
            "typing.re\n",
            "typing\n",
            "IPython.core.inputtransformer2\n",
            "decorator\n",
            "IPython.core.magic\n",
            "concurrent\n",
            "concurrent.futures._base\n",
            "concurrent.futures\n",
            "_socket\n",
            "socket\n",
            "_ssl\n",
            "base64\n",
            "ssl\n",
            "asyncio.constants\n",
            "asyncio.format_helpers\n",
            "asyncio.base_futures\n",
            "asyncio.log\n",
            "asyncio.coroutines\n",
            "_contextvars\n",
            "contextvars\n",
            "asyncio.exceptions\n",
            "asyncio.base_tasks\n",
            "_asyncio\n",
            "asyncio.events\n",
            "asyncio.futures\n",
            "asyncio.protocols\n",
            "asyncio.transports\n",
            "asyncio.sslproto\n",
            "asyncio.locks\n",
            "asyncio.tasks\n",
            "asyncio.staggered\n",
            "asyncio.trsock\n",
            "asyncio.base_events\n",
            "asyncio.runners\n",
            "asyncio.queues\n",
            "asyncio.streams\n",
            "asyncio.subprocess\n",
            "asyncio.base_subprocess\n",
            "asyncio.selector_events\n",
            "asyncio.unix_events\n",
            "asyncio\n",
            "_compat_pickle\n",
            "_pickle\n",
            "pickle\n",
            "pickleshare\n",
            "IPython.core.autocall\n",
            "IPython.core.macro\n",
            "IPython.core.splitinput\n",
            "IPython.core.prefilter\n",
            "IPython.core.alias\n",
            "IPython.core.builtin_trap\n",
            "backcall.backcall\n",
            "backcall\n",
            "IPython.core.events\n",
            "IPython.core.displayhook\n",
            "IPython.core.displaypub\n",
            "IPython.core.extensions\n",
            "IPython.utils.sentinel\n",
            "IPython.core.formatters\n",
            "_sqlite3\n",
            "sqlite3.dbapi2\n",
            "sqlite3\n",
            "IPython.core.history\n",
            "IPython.core.logger\n",
            "IPython.core.payload\n",
            "IPython.core.usage\n",
            "html.entities\n",
            "html\n",
            "IPython.lib.display\n",
            "IPython.display\n",
            "IPython.utils.capture\n",
            "IPython.utils.io\n",
            "IPython.core.hooks\n",
            "IPython.utils.strdispatch\n",
            "IPython.utils.syspathcontext\n",
            "IPython.utils.tempdir\n",
            "IPython.utils.contexts\n",
            "IPython.core.async_helpers\n",
            "IPython.core.interactiveshell\n",
            "six\n",
            "six.moves\n",
            "_queue\n",
            "queue\n",
            "six.moves.queue\n",
            "wcwidth.table_wide\n",
            "wcwidth.table_zero\n",
            "wcwidth.unicode_versions\n",
            "wcwidth.wcwidth\n",
            "wcwidth\n",
            "prompt_toolkit.cache\n",
            "prompt_toolkit.utils\n",
            "prompt_toolkit.log\n",
            "prompt_toolkit.eventloop.base\n",
            "prompt_toolkit.eventloop.defaults\n",
            "prompt_toolkit.eventloop.context\n",
            "prompt_toolkit.eventloop.future\n",
            "prompt_toolkit.eventloop.coroutine\n",
            "prompt_toolkit.eventloop.async_generator\n",
            "prompt_toolkit.eventloop.event\n",
            "prompt_toolkit.eventloop\n",
            "prompt_toolkit.application.current\n",
            "prompt_toolkit.application.run_in_terminal\n",
            "prompt_toolkit.enums\n",
            "prompt_toolkit.filters.base\n",
            "prompt_toolkit.filters.app\n",
            "prompt_toolkit.filters.cli\n",
            "prompt_toolkit.filters.utils\n",
            "prompt_toolkit.filters\n",
            "prompt_toolkit.auto_suggest\n",
            "prompt_toolkit.selection\n",
            "prompt_toolkit.clipboard.base\n",
            "prompt_toolkit.clipboard.in_memory\n",
            "prompt_toolkit.clipboard\n",
            "prompt_toolkit.completion.base\n",
            "prompt_toolkit.completion.filesystem\n",
            "prompt_toolkit.document\n",
            "prompt_toolkit.completion.word_completer\n",
            "prompt_toolkit.completion.fuzzy_completer\n",
            "prompt_toolkit.completion\n",
            "prompt_toolkit.history\n",
            "prompt_toolkit.keys\n",
            "prompt_toolkit.key_binding.key_bindings\n",
            "prompt_toolkit.key_binding\n",
            "prompt_toolkit.key_binding.vi_state\n",
            "prompt_toolkit.search\n",
            "prompt_toolkit.validation\n",
            "prompt_toolkit.buffer\n",
            "prompt_toolkit.input.base\n",
            "prompt_toolkit.input.defaults\n",
            "prompt_toolkit.input\n",
            "prompt_toolkit.input.typeahead\n",
            "prompt_toolkit.key_binding.bindings\n",
            "prompt_toolkit.key_binding.bindings.scroll\n",
            "prompt_toolkit.key_binding.bindings.page_navigation\n",
            "prompt_toolkit.key_binding.key_processor\n",
            "prompt_toolkit.key_binding.bindings.completion\n",
            "prompt_toolkit.key_binding.bindings.named_commands\n",
            "prompt_toolkit.key_binding.bindings.basic\n",
            "prompt_toolkit.key_binding.bindings.cpr\n",
            "prompt_toolkit.key_binding.bindings.emacs\n",
            "prompt_toolkit.layout.screen\n",
            "prompt_toolkit.output.base\n",
            "prompt_toolkit.output.color_depth\n",
            "prompt_toolkit.output.defaults\n",
            "prompt_toolkit.output\n",
            "array\n",
            "prompt_toolkit.styles.base\n",
            "prompt_toolkit.styles.named_colors\n",
            "prompt_toolkit.styles.style\n",
            "prompt_toolkit.styles.defaults\n",
            "prompt_toolkit.styles.pygments\n",
            "colorsys\n",
            "prompt_toolkit.styles.style_transformation\n",
            "prompt_toolkit.styles\n",
            "prompt_toolkit.output.vt100\n",
            "prompt_toolkit.formatted_text.base\n",
            "prompt_toolkit.formatted_text.ansi\n",
            "xml\n",
            "xml.dom.domreg\n",
            "xml.dom\n",
            "xml.dom.minicompat\n",
            "xml.dom.NodeFilter\n",
            "xml.dom.xmlbuilder\n",
            "xml.dom.minidom\n",
            "prompt_toolkit.formatted_text.html\n",
            "prompt_toolkit.formatted_text.pygments\n",
            "prompt_toolkit.formatted_text.utils\n",
            "prompt_toolkit.formatted_text\n",
            "prompt_toolkit.mouse_events\n",
            "prompt_toolkit.lexers.base\n",
            "prompt_toolkit.lexers.pygments\n",
            "prompt_toolkit.lexers\n",
            "prompt_toolkit.layout.utils\n",
            "prompt_toolkit.layout.processors\n",
            "prompt_toolkit.layout.controls\n",
            "prompt_toolkit.layout.dimension\n",
            "prompt_toolkit.layout.margins\n",
            "prompt_toolkit.layout.containers\n",
            "prompt_toolkit.layout.layout\n",
            "prompt_toolkit.layout.menus\n",
            "prompt_toolkit.layout\n",
            "prompt_toolkit.layout.mouse_handlers\n",
            "prompt_toolkit.renderer\n",
            "prompt_toolkit.key_binding.bindings.mouse\n",
            "prompt_toolkit.input.ansi_escape_sequences\n",
            "prompt_toolkit.input.vt100_parser\n",
            "prompt_toolkit.key_binding.digraphs\n",
            "prompt_toolkit.key_binding.bindings.vi\n",
            "prompt_toolkit.key_binding.defaults\n",
            "prompt_toolkit.key_binding.emacs_state\n",
            "prompt_toolkit.layout.dummy\n",
            "prompt_toolkit.application.application\n",
            "prompt_toolkit.application.dummy\n",
            "prompt_toolkit.application\n",
            "prompt_toolkit.key_binding.bindings.focus\n",
            "prompt_toolkit.widgets.toolbars\n",
            "prompt_toolkit.widgets.base\n",
            "prompt_toolkit.widgets.dialogs\n",
            "prompt_toolkit.widgets.menus\n",
            "prompt_toolkit.widgets\n",
            "prompt_toolkit.shortcuts.dialogs\n",
            "prompt_toolkit.shortcuts.progress_bar.formatters\n",
            "prompt_toolkit.shortcuts.progress_bar.base\n",
            "prompt_toolkit.shortcuts.progress_bar\n",
            "prompt_toolkit.key_binding.bindings.auto_suggest\n",
            "prompt_toolkit.key_binding.bindings.open_in_editor\n",
            "prompt_toolkit.shortcuts.prompt\n",
            "prompt_toolkit.shortcuts.utils\n",
            "prompt_toolkit.shortcuts\n",
            "prompt_toolkit\n",
            "prompt_toolkit.patch_stdout\n",
            "pygments.style\n",
            "unicodedata\n",
            "IPython.core.latex_symbols\n",
            "IPython.utils.generics\n",
            "IPython.core.completer\n",
            "IPython.terminal.ptutils\n",
            "IPython.terminal.shortcuts\n",
            "IPython.terminal.debugger\n",
            "IPython.lib.clipboard\n",
            "IPython.terminal.magics\n",
            "IPython.terminal.pt_inputhooks\n",
            "IPython.terminal.prompts\n",
            "IPython.terminal.interactiveshell\n",
            "IPython.core.magics.auto\n",
            "IPython.core.magics.basic\n",
            "email\n",
            "http\n",
            "email.errors\n",
            "email.quoprimime\n",
            "email.base64mime\n",
            "quopri\n",
            "email.encoders\n",
            "email.charset\n",
            "email.header\n",
            "calendar\n",
            "email._parseaddr\n",
            "email.utils\n",
            "email._policybase\n",
            "email.feedparser\n",
            "email.parser\n",
            "uu\n",
            "email._encoded_words\n",
            "email.iterators\n",
            "email.message\n",
            "http.client\n",
            "urllib.response\n",
            "urllib.error\n",
            "urllib.request\n",
            "IPython.core.magics.code\n",
            "IPython.core.magics.config\n",
            "IPython.core.magics.display\n",
            "gc\n",
            "timeit\n",
            "_lsprof\n",
            "profile\n",
            "cProfile\n",
            "pstats\n",
            "IPython.utils.module_paths\n",
            "IPython.utils.timing\n",
            "IPython.core.magics.execution\n",
            "IPython.core.magics.extension\n",
            "IPython.core.magics.history\n",
            "IPython.core.magics.logging\n",
            "IPython.core.magics.namespace\n",
            "IPython.core.magics.osm\n",
            "IPython.core.magics.packaging\n",
            "IPython.core.pylabtools\n",
            "IPython.core.magics.pylab\n",
            "IPython.lib.backgroundjobs\n",
            "IPython.core.magics.script\n",
            "IPython.core.magics\n",
            "IPython.core.shellapp\n",
            "IPython.extensions\n",
            "IPython.extensions.storemagic\n",
            "IPython.terminal.ipapp\n",
            "IPython.terminal.embed\n",
            "IPython.utils.frame\n",
            "IPython\n",
            "ipython_genutils._version\n",
            "ipython_genutils\n",
            "ipython_genutils.encoding\n",
            "ipython_genutils.py3compat\n",
            "ipython_genutils.path\n",
            "jupyter_client._version\n",
            "_ctypes\n",
            "ctypes._endian\n",
            "ctypes\n",
            "zmq.backend.select\n",
            "_cython_0_29_32\n",
            "cython_runtime\n",
            "zmq.error\n",
            "zmq.backend.cython.context\n",
            "zmq.backend.cython.message\n",
            "zmq.constants\n",
            "zmq.backend.cython.socket\n",
            "zmq.backend.cython._device\n",
            "zmq.backend.cython._poll\n",
            "zmq.backend.cython._proxy_steerable\n",
            "zmq.backend.cython._version\n",
            "zmq.backend.cython.error\n",
            "zmq.backend.cython.utils\n",
            "zmq.backend.cython\n",
            "zmq.backend\n",
            "zmq.sugar.attrsettr\n",
            "zmq._typing\n",
            "zmq.utils\n",
            "zmq.utils.jsonapi\n",
            "zmq.sugar.poll\n",
            "zmq.sugar.socket\n",
            "zmq.sugar.context\n",
            "zmq.sugar.frame\n",
            "zmq.sugar.tracker\n",
            "zmq.sugar.version\n",
            "zmq.sugar.stopwatch\n",
            "zmq.sugar\n",
            "zmq\n",
            "jupyter_client.localinterfaces\n",
            "jupyter_core.version\n",
            "jupyter_core\n",
            "jupyter_core.paths\n",
            "jupyter_client.utils\n",
            "jupyter_client.connect\n",
            "traitlets.log\n",
            "jupyter_client.launcher\n",
            "jupyter_client.channelsabc\n",
            "jupyter_client.channels\n",
            "jupyter_client.clientabc\n",
            "jupyter_client.client\n",
            "jupyter_client.kernelspec\n",
            "jupyter_client.managerabc\n",
            "jupyter_client.manager\n",
            "jupyter_client.blocking.channels\n",
            "jupyter_client.blocking.client\n",
            "jupyter_client.blocking\n",
            "zmq._future\n",
            "zmq.asyncio\n",
            "jupyter_client.asynchronous.channels\n",
            "jupyter_client.asynchronous.client\n",
            "jupyter_client.asynchronous\n",
            "uuid\n",
            "jupyter_client.multikernelmanager\n",
            "jupyter_client\n",
            "ipykernel.connect\n",
            "ipykernel\n",
            "tornado\n",
            "numbers\n",
            "logging.handlers\n",
            "tornado.speedups\n",
            "tornado.util\n",
            "tornado.escape\n",
            "_curses\n",
            "curses\n",
            "tornado.log\n",
            "tornado.concurrent\n",
            "tornado.ioloop\n",
            "tornado.platform\n",
            "tornado.gen\n",
            "tornado.platform.asyncio\n",
            "zmq.eventloop.ioloop\n",
            "zmq.eventloop\n",
            "zmq.eventloop.zmqstream\n",
            "ipython_genutils.importstring\n",
            "imp\n",
            "hmac\n",
            "dateutil._version\n",
            "dateutil\n",
            "_decimal\n",
            "decimal\n",
            "dateutil._common\n",
            "dateutil.relativedelta\n",
            "dateutil.tz._common\n",
            "dateutil.tz._factories\n",
            "dateutil.tz.tz\n",
            "dateutil.tz\n",
            "dateutil.parser._parser\n",
            "dateutil.parser.isoparser\n",
            "dateutil.parser\n",
            "_strptime\n",
            "jupyter_client.jsonutil\n",
            "jupyter_client.adapter\n",
            "jupyter_client.session\n",
            "ipykernel.iostream\n",
            "ipykernel.heartbeat\n",
            "IPython.utils.tokenutil\n",
            "tornado.locks\n",
            "tornado.queues\n",
            "ipykernel.jsonutil\n",
            "ipykernel.kernelbase\n",
            "ipykernel.comm.comm\n",
            "ipykernel.comm.manager\n",
            "ipykernel.comm\n",
            "IPython.core.payloadpage\n",
            "ipykernel.displayhook\n",
            "ipykernel.zmqshell\n",
            "distutils\n",
            "distutils.version\n",
            "ipykernel.eventloops\n",
            "ipykernel.ipkernel\n",
            "ipykernel.parentpoller\n",
            "ipykernel.kernelapp\n",
            "google.colab._import_hooks._altair\n",
            "google.colab._import_hooks._bokeh\n",
            "google.colab._import_hooks._client_info\n",
            "google.colab._import_hooks._cv2\n",
            "google.colab._import_hooks._pydrive\n",
            "google.colab._import_hooks\n",
            "google.colab._import_magics\n",
            "google.colab._installation_commands\n",
            "google.colab._interactive_table_helper\n",
            "IPython.utils.traitlets\n",
            "google.colab.data_table\n",
            "google.colab._ipython\n",
            "google.colab.errors\n",
            "google.colab._message\n",
            "google.colab.output._js\n",
            "google.colab.output._publish\n",
            "google.colab.output._js_builder\n",
            "google.colab.output._area\n",
            "google.colab.output._tags\n",
            "google.colab.output._util\n",
            "google.colab.output._widgets\n",
            "google.colab.output\n",
            "google.colab._interactive_table_hint_button\n",
            "google.colab._reprs\n",
            "google.colab._shell_customizations\n",
            "google.colab._system_commands\n",
            "google.colab._tensorflow_magics\n",
            "socketserver\n",
            "http.server\n",
            "google.colab.files\n",
            "google.colab.auth\n",
            "pexpect.popen_spawn\n",
            "psutil._common\n",
            "psutil._compat\n",
            "psutil._exceptions\n",
            "psutil._psposix\n",
            "psutil._psutil_linux\n",
            "psutil._psutil_posix\n",
            "psutil._pslinux\n",
            "psutil\n",
            "google.colab.drive\n",
            "gzip\n",
            "socks\n",
            "httplib2.iri2uri\n",
            "importlib.resources\n",
            "certifi.core\n",
            "certifi\n",
            "httplib2.certs\n",
            "httplib2\n",
            "google.colab.runtime\n",
            "google.colab.snippets\n",
            "google.colab.widgets._widget\n",
            "google.colab.widgets._grid\n",
            "google.colab.widgets._tabbar\n",
            "google.colab.widgets\n",
            "google.colab\n",
            "google.colab._history\n",
            "astor.op_util\n",
            "astor.node_util\n",
            "astor.string_repr\n",
            "astor.source_repr\n",
            "astor.code_gen\n",
            "astor.file_util\n",
            "astor.tree_walk\n",
            "astor\n",
            "google.colab._inspector\n",
            "google.colab._pip\n",
            "IPython.core.inputtransformer\n",
            "IPython.core.inputsplitter\n",
            "google.colab._shell\n",
            "google.colab._kernel\n",
            "faulthandler\n",
            "ipykernel.codeutil\n",
            "ipykernel.pickleutil\n",
            "ipykernel.serialize\n",
            "ipykernel.datapub\n",
            "IPython.core.completerlib\n",
            "numpy._globals\n",
            "numpy.__config__\n",
            "numpy._version\n",
            "numpy._distributor_init\n",
            "numpy.version\n",
            "numpy.core._multiarray_umath\n",
            "numpy.compat._inspect\n",
            "numpy.compat.py3k\n",
            "numpy.compat\n",
            "numpy.core.overrides\n",
            "numpy.core.multiarray\n",
            "numpy.core.umath\n",
            "numpy.core._string_helpers\n",
            "numpy.core._dtype\n",
            "numpy.core._type_aliases\n",
            "numpy.core.numerictypes\n",
            "numpy.core._exceptions\n",
            "numpy.core._methods\n",
            "numpy.core.fromnumeric\n",
            "numpy.core.shape_base\n",
            "numpy.core._ufunc_config\n",
            "numpy.core.arrayprint\n",
            "numpy.core._asarray\n",
            "numpy.core.numeric\n",
            "numpy.core.defchararray\n",
            "numpy.core.records\n",
            "numpy.core.memmap\n",
            "numpy.core.function_base\n",
            "numpy.core.machar\n",
            "numpy.core.getlimits\n",
            "numpy.core.einsumfunc\n",
            "numpy.core._multiarray_tests\n",
            "numpy.core._add_newdocs\n",
            "numpy.core._add_newdocs_scalars\n",
            "numpy.core._dtype_ctypes\n",
            "numpy.core._internal\n",
            "numpy._pytesttester\n",
            "numpy.core\n",
            "numpy.lib.mixins\n",
            "numpy.lib.ufunclike\n",
            "numpy.lib.type_check\n",
            "numpy.lib.scimath\n",
            "numpy.lib.stride_tricks\n",
            "numpy.lib.twodim_base\n",
            "numpy.linalg.lapack_lite\n",
            "numpy.linalg._umath_linalg\n",
            "numpy.linalg.linalg\n",
            "numpy.linalg\n",
            "numpy.matrixlib.defmatrix\n",
            "numpy.matrixlib\n",
            "numpy.lib.histograms\n",
            "numpy.lib.function_base\n",
            "numpy.lib.index_tricks\n",
            "numpy.lib.nanfunctions\n",
            "numpy.lib.shape_base\n",
            "numpy.lib.polynomial\n",
            "numpy.lib.utils\n",
            "numpy.lib.arraysetops\n",
            "numpy.lib.format\n",
            "numpy.lib._datasource\n",
            "numpy.lib._iotools\n",
            "numpy.lib.npyio\n",
            "numpy.lib.arrayterator\n",
            "numpy.lib.arraypad\n",
            "numpy.lib._version\n",
            "numpy.lib\n",
            "numpy.fft._pocketfft_internal\n",
            "numpy.fft._pocketfft\n",
            "numpy.fft.helper\n",
            "numpy.fft\n",
            "numpy.polynomial.polyutils\n",
            "numpy.polynomial._polybase\n",
            "numpy.polynomial.polynomial\n",
            "numpy.polynomial.chebyshev\n",
            "numpy.polynomial.legendre\n",
            "numpy.polynomial.hermite\n",
            "numpy.polynomial.hermite_e\n",
            "numpy.polynomial.laguerre\n",
            "numpy.polynomial\n",
            "_cython_0_29_24\n",
            "numpy.random._common\n",
            "secrets\n",
            "numpy.random.bit_generator\n",
            "numpy.random._bounded_integers\n",
            "numpy.random._mt19937\n",
            "numpy.random.mtrand\n",
            "numpy.random._philox\n",
            "numpy.random._pcg64\n",
            "numpy.random._sfc64\n",
            "numpy.random._generator\n",
            "numpy.random._pickle\n",
            "numpy.random\n",
            "numpy.ctypeslib\n",
            "numpy.ma.core\n",
            "numpy.ma.extras\n",
            "numpy.ma\n",
            "numpy\n",
            "matplotlib.cbook.deprecation\n",
            "matplotlib.cbook\n",
            "pyparsing.util\n",
            "pyparsing.unicode\n",
            "pyparsing.exceptions\n",
            "pyparsing.actions\n",
            "pyparsing.results\n",
            "pyparsing.core\n",
            "pyparsing.helpers\n",
            "pyparsing.testing\n",
            "pyparsing.common\n",
            "pyparsing\n",
            "matplotlib.fontconfig_pattern\n",
            "matplotlib.docstring\n",
            "matplotlib._color_data\n",
            "matplotlib.colors\n",
            "cycler\n",
            "matplotlib.rcsetup\n",
            "matplotlib._version\n",
            "matplotlib.ft2font\n",
            "kiwisolver._cext\n",
            "kiwisolver\n",
            "matplotlib\n",
            "matplotlib._path\n",
            "matplotlib.path\n",
            "matplotlib.transforms\n",
            "matplotlib.artist\n",
            "matplotlib._cm\n",
            "matplotlib._cm_listed\n",
            "matplotlib.cm\n",
            "matplotlib.markers\n",
            "matplotlib.lines\n",
            "matplotlib.collections\n",
            "matplotlib.ticker\n",
            "matplotlib._mathtext_data\n",
            "matplotlib.afm\n",
            "matplotlib.font_manager\n",
            "matplotlib.bezier\n",
            "matplotlib.patches\n",
            "matplotlib._text_layout\n",
            "matplotlib.dviread\n",
            "matplotlib.mathtext\n",
            "matplotlib.textpath\n",
            "matplotlib.text\n",
            "matplotlib.texmanager\n",
            "matplotlib.blocking_input\n",
            "matplotlib.contour\n",
            "matplotlib._pylab_helpers\n",
            "matplotlib.tight_layout\n",
            "matplotlib._layoutbox\n",
            "matplotlib.gridspec\n",
            "matplotlib._constrained_layout\n",
            "matplotlib.colorbar\n",
            "matplotlib.backend_tools\n",
            "matplotlib.tight_bbox\n",
            "matplotlib.widgets\n",
            "PIL._version\n",
            "PIL\n",
            "matplotlib.backend_bases\n",
            "matplotlib._image\n",
            "matplotlib.image\n",
            "matplotlib.style.core\n",
            "matplotlib.style\n",
            "matplotlib.backends\n",
            "matplotlib.units\n",
            "matplotlib.category\n",
            "dateutil.rrule\n",
            "matplotlib.dates\n",
            "matplotlib.offsetbox\n",
            "matplotlib.container\n",
            "matplotlib.legend_handler\n",
            "matplotlib.legend\n",
            "_csv\n",
            "csv\n",
            "matplotlib.mlab\n",
            "matplotlib.quiver\n",
            "matplotlib.stackplot\n",
            "matplotlib.streamplot\n",
            "matplotlib.table\n",
            "matplotlib.tri.triangulation\n",
            "matplotlib.tri.tricontour\n",
            "matplotlib.tri.tritools\n",
            "matplotlib.tri.trifinder\n",
            "matplotlib.tri.triinterpolate\n",
            "matplotlib.tri.trirefine\n",
            "matplotlib.tri.tripcolor\n",
            "matplotlib.tri.triplot\n",
            "matplotlib.tri\n",
            "matplotlib.scale\n",
            "matplotlib.axis\n",
            "matplotlib.spines\n",
            "matplotlib.axes._base\n",
            "matplotlib.axes._secondary_axes\n",
            "matplotlib.axes._axes\n",
            "matplotlib.axes._subplots\n",
            "matplotlib.axes\n",
            "matplotlib.projections.geo\n",
            "matplotlib.projections.polar\n",
            "mpl_toolkits.mplot3d.proj3d\n",
            "mpl_toolkits.mplot3d.art3d\n",
            "mpl_toolkits.mplot3d.axis3d\n",
            "mpl_toolkits.mplot3d.axes3d\n",
            "mpl_toolkits.mplot3d\n",
            "matplotlib.projections\n",
            "matplotlib.figure\n",
            "ipykernel.pylab\n",
            "matplotlib.backends._backend_agg\n",
            "PIL.ImageMode\n",
            "PIL.TiffTags\n",
            "PIL._binary\n",
            "PIL._util\n",
            "PIL._imaging\n",
            "cffi.lock\n",
            "cffi.error\n",
            "cffi.model\n",
            "cffi.api\n",
            "cffi\n",
            "PIL.Image\n",
            "matplotlib.backends.backend_agg\n",
            "ipykernel.pylab.config\n",
            "ipykernel.pylab.backend_inline\n",
            "matplotlib.pyplot\n",
            "storemagic\n",
            "debugpy._version\n",
            "debugpy.common\n",
            "debugpy.common.json\n",
            "debugpy.common.fmt\n",
            "debugpy.common.compat\n",
            "debugpy\n",
            "google.colab._debugpy_repr\n",
            "google.colab._variable_inspector\n",
            "portpicker\n",
            "google.colab._debugpy\n",
            "debugpy._vendored._util\n",
            "debugpy._vendored\n",
            "_pydevd_bundle\n",
            "encodings.ascii\n",
            "stringprep\n",
            "encodings.idna\n",
            "_pydevd_bundle.pydevd_vm_type\n",
            "_pydev_imps\n",
            "xmlrpc\n",
            "xml.parsers\n",
            "pyexpat.errors\n",
            "pyexpat.model\n",
            "pyexpat\n",
            "xml.parsers.expat.model\n",
            "xml.parsers.expat.errors\n",
            "xml.parsers.expat\n",
            "xmlrpc.client\n",
            "xmlrpc.server\n",
            "_pydev_imps._pydev_saved_modules\n",
            "_pydevd_bundle.pydevd_constants\n",
            "_pydev_bundle\n",
            "_pydev_runfiles\n",
            "_pydevd_frame_eval\n",
            "pydev_ipython\n",
            "pydevd_concurrency_analyser\n",
            "zipfile\n",
            "plistlib\n",
            "pkg_resources.extern\n",
            "pkg_resources._vendor\n",
            "pkg_resources._vendor.appdirs\n",
            "pkg_resources.extern.appdirs\n",
            "pkg_resources._vendor.packaging.__about__\n",
            "pkg_resources._vendor.packaging\n",
            "pkg_resources.extern.packaging\n",
            "pkg_resources.extern.packaging._structures\n",
            "pkg_resources.extern.packaging._typing\n",
            "pkg_resources.extern.packaging.version\n",
            "pkg_resources.extern.packaging._compat\n",
            "pkg_resources.extern.packaging.utils\n",
            "pkg_resources.extern.packaging.specifiers\n",
            "pkg_resources._vendor.pyparsing\n",
            "pkg_resources.extern.pyparsing\n",
            "pkg_resources.extern.packaging.markers\n",
            "pkg_resources.extern.packaging.requirements\n",
            "pkg_resources\n",
            "pydevd_plugins\n",
            "_pydev_bundle.pydev_log\n",
            "_pydev_bundle._pydev_filesystem_encoding\n",
            "_pydevd_bundle.pydevd_comm_constants\n",
            "pydevd_file_utils\n",
            "_pydev_imps._pydev_execfile\n",
            "_pydevd_bundle.pydevd_exec2\n",
            "_pydev_bundle.pydev_imports\n",
            "_pydev_bundle.pydev_is_thread_alive\n",
            "_pydev_bundle.pydev_override\n",
            "pydevd_plugins.extensions\n",
            "_pydevd_bundle.pydevd_extension_utils\n",
            "_pydevd_bundle.pydevd_frame_utils\n",
            "_pydevd_bundle.pydevd_filtering\n",
            "_pydevd_bundle.pydevd_io\n",
            "_pydevd_bundle.pydevd_utils\n",
            "_pydev_bundle._pydev_tipper_common\n",
            "_pydev_bundle._pydev_imports_tipper\n",
            "_pydev_bundle._pydev_calltip_util\n",
            "_pydevd_bundle.pydevd_safe_repr\n",
            "_pydevd_bundle.pydevd_resolver\n",
            "_pydevd_bundle.pydevd_extension_api\n",
            "_pydevd_bundle.pydevd_xml\n",
            "_cython_0_29_21\n",
            "_pydevd_bundle.pydevd_dont_trace\n",
            "_pydevd_bundle.pydevd_cython\n",
            "_pydevd_bundle.pydevd_cython_wrapper\n",
            "_pydevd_bundle.pydevd_additional_thread_info\n",
            "_pydevd_bundle.pydevd_thread_lifecycle\n",
            "_pydevd_bundle.pydevd_save_locals\n",
            "_pydev_bundle.pydev_monkey\n",
            "pydevd_tracing\n",
            "_pydevd_bundle.pydevd_daemon_thread\n",
            "_pydevd_bundle.pydevd_timeout\n",
            "_pydevd_bundle.pydevd_vars\n",
            "_pydev_bundle.pydev_console_utils\n",
            "_pydevd_bundle.pydevd_import_class\n",
            "_pydevd_bundle.pydevd_breakpoints\n",
            "_pydevd_bundle.pydevd_defaults\n",
            "_pydevd_bundle.pydevd_custom_frames\n",
            "_pydevd_bundle.pydevd_dont_trace_files\n",
            "_pydevd_bundle.pydevd_net_command\n",
            "_pydev_bundle.pydev_umd\n",
            "pydevconsole\n",
            "_pydev_bundle._pydev_completer\n",
            "_pydevd_bundle.pydevd_net_command_factory_xml\n",
            "_pydevd_bundle.pydevd_frame\n",
            "_pydevd_bundle.pydevd_additional_thread_info_regular\n",
            "_pydevd_bundle.pydevd_trace_dispatch\n",
            "_pydevd_frame_eval.pydevd_frame_eval_main\n",
            "_pydevd_bundle.pydevd_source_mapping\n",
            "pydevd_concurrency_analyser.pydevd_thread_wrappers\n",
            "pydevd_concurrency_analyser.pydevd_concurrency_logger\n",
            "_pydevd_bundle._debug_adapter\n",
            "_pydevd_bundle._debug_adapter.pydevd_schema_log\n",
            "_pydevd_bundle._debug_adapter.pydevd_base_schema\n",
            "_pydevd_bundle._debug_adapter.pydevd_schema\n",
            "_pydevd_bundle.pydevd_console\n",
            "_pydevd_bundle.pydevd_comm\n",
            "_pydevd_bundle.pydevd_net_command_factory_json\n",
            "_pydevd_bundle.pydevd_collect_bytecode_info\n",
            "_pydevd_bundle.pydevd_api\n",
            "_pydevd_bundle.pydevd_json_debug_options\n",
            "_pydevd_bundle.pydevd_process_net_command_json\n",
            "_pydevd_bundle.pydevd_traceproperty\n",
            "_pydevd_bundle.pydevd_process_net_command\n",
            "_pydevd_bundle.pydevd_suspended_frames\n",
            "_pydevd_bundle.pydevd_trace_api\n",
            "pydevd_plugins.django_debug\n",
            "pydevd_plugins.jinja2_debug\n",
            "_pydevd_bundle.pydevd_plugin_utils\n",
            "pydevd_plugins.extensions.types\n",
            "pydevd_plugins.extensions.types.pydevd_helpers\n",
            "pydevd_plugins.extensions.types.pydevd_plugin_numpy_types\n",
            "pydevd_plugins.extensions.types.pydevd_plugins_django_form_str\n",
            "pydevd\n",
            "debugpy._vendored.force_pydevd\n",
            "debugpy.server\n",
            "debugpy.adapter\n",
            "debugpy.common.timestamp\n",
            "debugpy.common.util\n",
            "debugpy.common.log\n",
            "debugpy.common.sockets\n",
            "debugpy.server.api\n",
            "encodings.hex_codec\n",
            "google.cloud.bigquery.version\n",
            "google.resumable_media.common\n",
            "google.resumable_media\n",
            "urllib3.packages.ssl_match_hostname\n",
            "urllib3.packages\n",
            "urllib3.packages.six\n",
            "urllib3.packages.six.moves\n",
            "urllib3.packages.six.moves.http_client\n",
            "urllib3.exceptions\n",
            "urllib3.util.wait\n",
            "urllib3.contrib\n",
            "urllib3.contrib._appengine_environ\n",
            "urllib3.util.connection\n",
            "urllib3.util.request\n",
            "urllib3.util.response\n",
            "urllib3.util.ssl_\n",
            "urllib3.util.timeout\n",
            "urllib3.util.retry\n",
            "urllib3.packages.six.moves.urllib\n",
            "urllib3.packages.six.moves.urllib.parse\n",
            "urllib3.util.url\n",
            "urllib3.util\n",
            "urllib3._collections\n",
            "urllib3.connection\n",
            "urllib3.fields\n",
            "urllib3.filepost\n",
            "urllib3.request\n",
            "urllib3.response\n",
            "urllib3.util.queue\n",
            "urllib3.connectionpool\n",
            "urllib3.poolmanager\n",
            "urllib3\n",
            "google.resumable_media._helpers\n",
            "google.resumable_media._download\n",
            "chardet.compat\n",
            "chardet.enums\n",
            "chardet.charsetprober\n",
            "chardet.charsetgroupprober\n",
            "chardet.codingstatemachine\n",
            "chardet.escsm\n",
            "chardet.escprober\n",
            "chardet.latin1prober\n",
            "chardet.mbcssm\n",
            "chardet.utf8prober\n",
            "chardet.mbcharsetprober\n",
            "chardet.euctwfreq\n",
            "chardet.euckrfreq\n",
            "chardet.gb2312freq\n",
            "chardet.big5freq\n",
            "chardet.jisfreq\n",
            "chardet.chardistribution\n",
            "chardet.jpcntx\n",
            "chardet.sjisprober\n",
            "chardet.eucjpprober\n",
            "chardet.gb2312prober\n",
            "chardet.euckrprober\n",
            "chardet.cp949prober\n",
            "chardet.big5prober\n",
            "chardet.euctwprober\n",
            "chardet.mbcsgroupprober\n",
            "chardet.sbcharsetprober\n",
            "chardet.langcyrillicmodel\n",
            "chardet.langgreekmodel\n",
            "chardet.langbulgarianmodel\n",
            "chardet.langthaimodel\n",
            "chardet.langhebrewmodel\n",
            "chardet.hebrewprober\n",
            "chardet.langturkishmodel\n",
            "chardet.sbcsgroupprober\n",
            "chardet.universaldetector\n",
            "chardet.version\n",
            "chardet\n",
            "requests.exceptions\n",
            "requests.__version__\n",
            "requests.certs\n",
            "http.cookiejar\n",
            "http.cookies\n",
            "requests.compat\n",
            "requests._internal_utils\n",
            "requests.cookies\n",
            "requests.structures\n",
            "requests.utils\n",
            "requests.packages.urllib3.packages.ssl_match_hostname\n",
            "requests.packages.urllib3.packages\n",
            "requests.packages.urllib3.packages.six\n",
            "requests.packages.urllib3.packages.six.moves\n",
            "requests.packages.urllib3.packages.six.moves.http_client\n",
            "requests.packages.urllib3.exceptions\n",
            "requests.packages.urllib3.util.wait\n",
            "requests.packages.urllib3.contrib\n",
            "requests.packages.urllib3.contrib._appengine_environ\n",
            "requests.packages.urllib3.util.connection\n",
            "requests.packages.urllib3.util.request\n",
            "requests.packages.urllib3.util.response\n",
            "requests.packages.urllib3.util.ssl_\n",
            "requests.packages.urllib3.util.timeout\n",
            "requests.packages.urllib3.util.retry\n",
            "requests.packages.urllib3.packages.six.moves.urllib\n",
            "requests.packages.urllib3.packages.six.moves.urllib.parse\n",
            "requests.packages.urllib3.util.url\n",
            "requests.packages.urllib3.util\n",
            "requests.packages.urllib3._collections\n",
            "requests.packages.urllib3.connection\n",
            "requests.packages.urllib3.fields\n",
            "requests.packages.urllib3.filepost\n",
            "requests.packages.urllib3.request\n",
            "requests.packages.urllib3.response\n",
            "requests.packages.urllib3.util.queue\n",
            "requests.packages.urllib3.connectionpool\n",
            "requests.packages.urllib3.poolmanager\n",
            "requests.packages.urllib3\n",
            "idna.package_data\n",
            "idna.idnadata\n",
            "idna.intranges\n",
            "idna.core\n",
            "idna\n",
            "requests.packages.idna.package_data\n",
            "requests.packages.idna.idnadata\n",
            "requests.packages.idna.intranges\n",
            "requests.packages.idna.core\n",
            "requests.packages.idna\n",
            "requests.packages.chardet.compat\n",
            "requests.packages.chardet.enums\n",
            "requests.packages.chardet.charsetprober\n",
            "requests.packages.chardet.charsetgroupprober\n",
            "requests.packages.chardet.codingstatemachine\n",
            "requests.packages.chardet.escsm\n",
            "requests.packages.chardet.escprober\n",
            "requests.packages.chardet.latin1prober\n",
            "requests.packages.chardet.mbcssm\n",
            "requests.packages.chardet.utf8prober\n",
            "requests.packages.chardet.mbcharsetprober\n",
            "requests.packages.chardet.euctwfreq\n",
            "requests.packages.chardet.euckrfreq\n",
            "requests.packages.chardet.gb2312freq\n",
            "requests.packages.chardet.big5freq\n",
            "requests.packages.chardet.jisfreq\n",
            "requests.packages.chardet.chardistribution\n",
            "requests.packages.chardet.jpcntx\n",
            "requests.packages.chardet.sjisprober\n",
            "requests.packages.chardet.eucjpprober\n",
            "requests.packages.chardet.gb2312prober\n",
            "requests.packages.chardet.euckrprober\n",
            "requests.packages.chardet.cp949prober\n",
            "requests.packages.chardet.big5prober\n",
            "requests.packages.chardet.euctwprober\n",
            "requests.packages.chardet.mbcsgroupprober\n",
            "requests.packages.chardet.sbcharsetprober\n",
            "requests.packages.chardet.langcyrillicmodel\n",
            "requests.packages.chardet.langgreekmodel\n",
            "requests.packages.chardet.langbulgarianmodel\n",
            "requests.packages.chardet.langthaimodel\n",
            "requests.packages.chardet.langhebrewmodel\n",
            "requests.packages.chardet.hebrewprober\n",
            "requests.packages.chardet.langturkishmodel\n",
            "requests.packages.chardet.sbcsgroupprober\n",
            "requests.packages.chardet.universaldetector\n",
            "requests.packages.chardet.version\n",
            "requests.packages.chardet\n",
            "requests.packages\n",
            "requests.hooks\n",
            "requests.auth\n",
            "requests.status_codes\n",
            "requests.models\n",
            "urllib3.contrib.socks\n",
            "requests.adapters\n",
            "requests.sessions\n",
            "requests.api\n",
            "requests\n",
            "google.resumable_media.requests._request_helpers\n",
            "google.resumable_media.requests.download\n",
            "google.resumable_media._upload\n",
            "google.resumable_media.requests.upload\n",
            "google.resumable_media.requests\n",
            "google.api_core.version\n",
            "google.api_core\n",
            "google.api_core.client_options\n",
            "google.rpc\n",
            "google.protobuf\n",
            "google.protobuf.internal\n",
            "google.protobuf.internal._api_implementation\n",
            "google.protobuf.internal.api_implementation\n",
            "google.protobuf.pyext\n",
            "google.protobuf.internal.enum_type_wrapper\n",
            "google.protobuf.message\n",
            "google.protobuf.pyext._message\n",
            "google.protobuf.descriptor\n",
            "google.protobuf.descriptor_database\n",
            "google.protobuf.text_encoding\n",
            "google.protobuf.descriptor_pool\n",
            "google.protobuf.pyext.cpp_message\n",
            "google.protobuf.message_factory\n",
            "google.protobuf.symbol_database\n",
            "google.protobuf.reflection\n",
            "google.protobuf.internal.well_known_types\n",
            "google.protobuf.duration_pb2\n",
            "google.rpc.error_details_pb2\n",
            "grpc._cython\n",
            "grpc._cython.cygrpc\n",
            "grpc._compression\n",
            "grpc._runtime_protos\n",
            "grpc._grpcio_metadata\n",
            "grpc.aio._metadata\n",
            "grpc.aio._typing\n",
            "grpc.aio._base_call\n",
            "grpc.aio._base_channel\n",
            "grpc.aio._base_server\n",
            "grpc._common\n",
            "grpc.aio._call\n",
            "grpc.aio._utils\n",
            "grpc.aio._interceptor\n",
            "grpc.aio._channel\n",
            "grpc.aio._server\n",
            "grpc.aio\n",
            "grpc\n",
            "grpc_status\n",
            "google.protobuf.any_pb2\n",
            "google.rpc.status_pb2\n",
            "grpc_status._common\n",
            "grpc._simple_stubs\n",
            "grpc.experimental\n",
            "grpc.experimental.aio\n",
            "grpc_status._async\n",
            "grpc_status.rpc_status\n",
            "google.api_core.exceptions\n",
            "google.api_core.iam\n",
            "google.api_core.page_iterator\n",
            "google.protobuf.timestamp_pb2\n",
            "google.api_core.datetime_helpers\n",
            "google.auth.version\n",
            "google.auth.environment_vars\n",
            "google.auth.exceptions\n",
            "google.auth.transport\n",
            "six.moves.urllib\n",
            "google.auth.transport._http_client\n",
            "google.auth._default\n",
            "google.auth\n",
            "google.api_core.retry\n",
            "google.auth.transport._mtls_helper\n",
            "google.oauth2\n",
            "google.auth._helpers\n",
            "google.auth.crypt.base\n",
            "pyasn1\n",
            "pyasn1.codec\n",
            "pyasn1.codec.der\n",
            "pyasn1.codec.cer\n",
            "pyasn1.error\n",
            "pyasn1.codec.ber\n",
            "pyasn1.compat\n",
            "pyasn1.compat.octets\n",
            "pyasn1.debug\n",
            "pyasn1.type\n",
            "pyasn1.compat.calling\n",
            "pyasn1.type.error\n",
            "pyasn1.type.constraint\n",
            "pyasn1.type.tag\n",
            "pyasn1.type.tagmap\n",
            "pyasn1.type.base\n",
            "pyasn1.codec.ber.eoo\n",
            "pyasn1.compat.integer\n",
            "pyasn1.compat.binary\n",
            "pyasn1.type.namedtype\n",
            "pyasn1.type.namedval\n",
            "pyasn1.type.univ\n",
            "pyasn1.type.char\n",
            "pyasn1.compat.dateandtime\n",
            "pyasn1.compat.string\n",
            "pyasn1.type.useful\n",
            "pyasn1.codec.ber.decoder\n",
            "pyasn1.codec.cer.decoder\n",
            "pyasn1.codec.der.decoder\n",
            "pyasn1_modules\n",
            "pyasn1_modules.pem\n",
            "pyasn1.type.opentype\n",
            "pyasn1_modules.rfc2459\n",
            "pyasn1_modules.rfc2251\n",
            "pyasn1_modules.rfc5208\n",
            "rsa.common\n",
            "rsa.transform\n",
            "rsa.randnum\n",
            "rsa.prime\n",
            "rsa.pem\n",
            "rsa.core\n",
            "rsa.key\n",
            "rsa.pkcs1\n",
            "rsa\n",
            "google.auth.crypt._python_rsa\n",
            "google.auth.crypt.rsa\n",
            "google.auth.crypt\n",
            "google.auth._service_account_info\n",
            "google.auth.credentials\n",
            "cachetools.keys\n",
            "cachetools\n",
            "google.auth.jwt\n",
            "google.auth._exponential_backoff\n",
            "google.oauth2._client\n",
            "google.oauth2.service_account\n",
            "google.auth.transport.requests\n",
            "google.auth.transport.grpc\n",
            "google.cloud._helpers\n",
            "grpc._channel\n",
            "google.cloud.exceptions\n",
            "google.cloud.client\n",
            "google.api_core.client_info\n",
            "google.api_core.gapic_v1.client_info\n",
            "google.api_core.timeout\n",
            "google.api_core.gapic_v1.config\n",
            "google.api_core.retry_async\n",
            "google.api_core.gapic_v1.config_async\n",
            "google.api_core.grpc_helpers\n",
            "google.api_core.gapic_v1.method\n",
            "google.api_core.grpc_helpers_async\n",
            "google.api_core.gapic_v1.method_async\n",
            "google.api_core.gapic_v1.routing_header\n",
            "google.api_core.gapic_v1\n",
            "pytz.exceptions\n",
            "pytz.lazy\n",
            "pytz.tzinfo\n",
            "pytz.tzfile\n",
            "pytz\n",
            "mmap\n",
            "pandas._typing\n",
            "pandas._libs.tslibs.dtypes\n",
            "pandas._libs.tslibs.base\n",
            "pandas._libs.tslibs.np_datetime\n",
            "pandas._libs.tslibs.nattype\n",
            "pandas._libs.tslibs.timezones\n",
            "pandas._libs.tslibs.ccalendar\n",
            "pandas._libs.tslibs.tzconversion\n",
            "pandas._config.config\n",
            "pandas._config.dates\n",
            "pandas._config.display\n",
            "pandas._config\n",
            "pandas._config.localization\n",
            "pandas._libs.tslibs.strptime\n",
            "pandas._libs.tslibs.fields\n",
            "pandas._libs.tslibs.timedeltas\n",
            "pandas._libs.tslibs.timestamps\n",
            "dateutil.easter\n",
            "pandas._libs.properties\n",
            "pandas._libs.tslibs.offsets\n",
            "pandas._libs.tslibs.parsing\n",
            "pandas._libs.tslibs.conversion\n",
            "pandas._libs.tslibs.period\n",
            "pandas._libs.tslibs.vectorized\n",
            "pandas._libs.tslibs\n",
            "pandas._libs.ops_dispatch\n",
            "pandas._libs.missing\n",
            "pandas._libs.hashtable\n",
            "pandas._libs.algos\n",
            "pandas._libs.interval\n",
            "pandas._libs\n",
            "pandas.util._decorators\n",
            "pandas.core\n",
            "pandas.core.util\n",
            "pandas._libs.tslib\n",
            "pandas._libs.lib\n",
            "pandas._libs.hashing\n",
            "pandas.core.dtypes\n",
            "pandas.errors\n",
            "pandas.core.dtypes.generic\n",
            "pandas.core.dtypes.base\n",
            "pandas.core.dtypes.inference\n",
            "pandas.core.dtypes.dtypes\n",
            "pandas.core.dtypes.common\n",
            "pandas.core.util.hashing\n",
            "pandas.util\n",
            "pandas.util.version\n",
            "pandas.compat.numpy\n",
            "pyarrow._generated_version\n",
            "_cython_0_29_30\n",
            "cloudpickle.compat\n",
            "typing_extensions\n",
            "cloudpickle.cloudpickle\n",
            "cloudpickle.cloudpickle_fast\n",
            "cloudpickle\n",
            "pyarrow.util\n",
            "pyarrow.lib\n",
            "pyarrow._hdfsio\n",
            "pyarrow.filesystem\n",
            "pyarrow.hdfs\n",
            "pyarrow.ipc\n",
            "pyarrow.serialization\n",
            "pyarrow.types\n",
            "pyarrow\n",
            "pandas.compat.pyarrow\n",
            "pandas.compat\n",
            "pandas.core.config_init\n",
            "pandas.core.dtypes.missing\n",
            "pandas.util._exceptions\n",
            "pandas.util._validators\n",
            "pandas.core.dtypes.cast\n",
            "pandas.core.array_algos\n",
            "pandas.core.common\n",
            "pandas.core.construction\n",
            "pandas.core.array_algos.take\n",
            "pandas.core.indexers\n",
            "pandas.core.algorithms\n",
            "pandas.compat.numpy.function\n",
            "pandas.compat._optional\n",
            "pandas.core.missing\n",
            "pandas.core.roperator\n",
            "pandas._libs.ops\n",
            "pandas.core.computation\n",
            "numexpr.interpreter\n",
            "numexpr.expressions\n",
            "numexpr.version\n",
            "numexpr.utils\n",
            "numexpr.necompiler\n",
            "numexpr\n",
            "pandas.core.computation.check\n",
            "pandas.core.computation.expressions\n",
            "pandas.core.ops.missing\n",
            "pandas.core.ops.dispatch\n",
            "pandas.core.ops.invalid\n",
            "pandas.core.ops.array_ops\n",
            "pandas.core.ops.common\n",
            "pandas.core.ops.docstrings\n",
            "pandas.core.ops.mask_ops\n",
            "pandas.core.ops.methods\n",
            "pandas.core.ops\n",
            "pandas.core.sorting\n",
            "pandas.core.arrays.base\n",
            "pandas.core.nanops\n",
            "pandas.core.array_algos.masked_reductions\n",
            "pandas.core.arraylike\n",
            "pandas.core.arrays.masked\n",
            "pandas.core.arrays.boolean\n",
            "pandas._libs.arrays\n",
            "pandas.core.accessor\n",
            "pandas.core.array_algos.transforms\n",
            "pandas.core.arrays._mixins\n",
            "pandas.core.base\n",
            "pandas.core.strings.accessor\n",
            "pandas.core.strings.base\n",
            "pandas.core.strings\n",
            "pandas.core.strings.object_array\n",
            "pandas.io\n",
            "pandas.io.formats\n",
            "pandas.io.formats.console\n",
            "pandas.core.arrays.categorical\n",
            "pandas.tseries\n",
            "pandas.tseries.frequencies\n",
            "pandas.core.arrays.datetimelike\n",
            "pandas.core.arrays._ranges\n",
            "pandas.core.arrays.numeric\n",
            "pandas.core.tools\n",
            "pandas.core.tools.numeric\n",
            "pandas.core.arrays.integer\n",
            "pandas.tseries.offsets\n",
            "pandas.core.arrays.datetimes\n",
            "pandas.core.arrays.floating\n",
            "pandas.core.indexes\n",
            "pandas._libs.index\n",
            "pandas._libs.join\n",
            "pandas._libs.sparse\n",
            "pandas.core.arrays.sparse.dtype\n",
            "pandas.io.formats.printing\n",
            "pandas.core.arrays.sparse.array\n",
            "pandas.core.arrays.sparse.accessor\n",
            "pandas.core.arrays.sparse\n",
            "pandas.core.dtypes.concat\n",
            "pandas.core.array_algos.putmask\n",
            "pandas.core.indexes.frozen\n",
            "pandas.core.indexes.base\n",
            "pandas.core.arrays.interval\n",
            "pandas.core.arrays.numpy_\n",
            "pandas.core.arrays.period\n",
            "pandas.core.arrays.string_\n",
            "pyarrow._compute\n",
            "pyarrow._compute_docstrings\n",
            "pyarrow.vendored\n",
            "pyarrow.vendored.docscrape\n",
            "pyarrow.compute\n",
            "pandas.core.arrays.string_arrow\n",
            "pandas.core.arrays.timedeltas\n",
            "pandas.core.arrays\n",
            "pandas.core.flags\n",
            "pandas._libs.reduction\n",
            "pandas.core.indexes.extension\n",
            "pandas.core.indexes.category\n",
            "pandas.core.indexes.numeric\n",
            "pandas.core.tools.timedeltas\n",
            "pandas.core.indexes.datetimelike\n",
            "pandas.core.tools.times\n",
            "pandas.core.indexes.datetimes\n",
            "pandas.core.indexes.multi\n",
            "pandas.core.indexes.timedeltas\n",
            "pandas.core.indexes.interval\n",
            "pandas.core.indexes.period\n",
            "pandas.core.indexes.range\n",
            "pandas.core.indexes.api\n",
            "pandas.core.aggregation\n",
            "pandas.core.apply\n",
            "pandas._libs.indexing\n",
            "pandas.core.indexing\n",
            "pandas.core.reshape\n",
            "pandas._libs.internals\n",
            "pandas._libs.writers\n",
            "pandas.core.array_algos.quantile\n",
            "pandas.core.array_algos.replace\n",
            "pandas.core.internals.blocks\n",
            "pandas.core.internals.api\n",
            "pandas.core.internals.base\n",
            "pandas.core.internals.array_manager\n",
            "pandas.core.internals.ops\n",
            "pandas.core.internals.managers\n",
            "pandas.core.internals.concat\n",
            "pandas.core.internals\n",
            "pandas.core.reshape.concat\n",
            "dataclasses\n",
            "pandas.io.common\n",
            "pandas.io.formats.format\n",
            "pandas.core.describe\n",
            "pandas.core.internals.construction\n",
            "pandas.core.shared_docs\n",
            "pandas._libs.window\n",
            "pandas._libs.window.aggregations\n",
            "pandas.core.util.numba_\n",
            "pandas.core.window.common\n",
            "pandas.core.window.doc\n",
            "pandas._libs.window.indexers\n",
            "pandas.core.window.indexers\n",
            "pandas.core.window.numba_\n",
            "pandas.core.window.online\n",
            "pandas.core.window.rolling\n",
            "pandas.core.window.ewm\n",
            "pandas.core.window.expanding\n",
            "pandas.core.window\n",
            "pandas.core.generic\n",
            "pandas.core.reshape.util\n",
            "pandas.core.reshape.melt\n",
            "pandas._libs.reshape\n",
            "pandas.core.indexes.accessors\n",
            "pandas.arrays\n",
            "pandas.core.tools.datetimes\n",
            "pandas.plotting._core\n",
            "pandas.plotting._misc\n",
            "pandas.plotting\n",
            "pandas.core.series\n",
            "pandas.io.formats.info\n",
            "pandas.core.frame\n",
            "pandas.core.groupby.base\n",
            "pandas._libs.groupby\n",
            "pandas.core.groupby.numba_\n",
            "pandas.core.groupby.categorical\n",
            "pandas.core.groupby.grouper\n",
            "pandas.core.groupby.ops\n",
            "pandas.core.groupby.groupby\n",
            "pandas.core.groupby.generic\n",
            "pandas.core.groupby\n",
            "pandas.core.api\n",
            "pandas.tseries.api\n",
            "pandas.core.computation.common\n",
            "pandas.core.computation.align\n",
            "pandas.compat.chainmap\n",
            "pandas.core.computation.scope\n",
            "pandas.core.computation.ops\n",
            "pandas.core.computation.parsing\n",
            "pandas.core.computation.expr\n",
            "pandas.core.computation.engines\n",
            "pandas.core.computation.eval\n",
            "pandas.core.computation.api\n",
            "pandas.core.reshape.merge\n",
            "pandas.core.reshape.pivot\n",
            "pandas.core.reshape.reshape\n",
            "pandas.core.reshape.tile\n",
            "pandas.core.reshape.api\n",
            "pandas.api.extensions\n",
            "pandas.api.indexers\n",
            "pandas.core.dtypes.api\n",
            "pandas.api.types\n",
            "pandas.api\n",
            "pandas.util._print_versions\n",
            "pandas.io.clipboards\n",
            "pandas._libs.parsers\n",
            "pandas.io.excel._util\n",
            "pandas.io.date_converters\n",
            "pandas.io.parsers.base_parser\n",
            "pandas.io.parsers.c_parser_wrapper\n",
            "pandas.io.parsers.python_parser\n",
            "pandas.io.parsers.readers\n",
            "pandas.io.parsers\n",
            "pandas.io.excel._odfreader\n",
            "pandas.io.excel._openpyxl\n",
            "pandas.io.excel._pyxlsb\n",
            "pandas.io.excel._xlrd\n",
            "pandas.io.excel._base\n",
            "pandas._libs.json\n",
            "pandas.io.formats._color_data\n",
            "pandas.io.formats.css\n",
            "pandas.io.formats.excel\n",
            "pandas.io.excel._odswriter\n",
            "pandas.io.excel._xlsxwriter\n",
            "pandas.io.excel._xlwt\n",
            "pandas.io.excel\n",
            "pandas.io.feather_format\n",
            "pandas.io.gbq\n",
            "pandas.io.html\n",
            "pandas.io.json._normalize\n",
            "pandas.io.json._table_schema\n",
            "pandas.io.json._json\n",
            "pandas.io.json\n",
            "pandas.io.orc\n",
            "pandas.io.parquet\n",
            "pandas.compat.pickle_compat\n",
            "pandas.io.pickle\n",
            "pandas.core.computation.pytables\n",
            "pandas.io.pytables\n",
            "pandas.io.sas.sasreader\n",
            "pandas.io.sas\n",
            "pandas.io.spss\n",
            "pandas.io.sql\n",
            "pandas.io.stata\n",
            "pandas.io.xml\n",
            "pandas.io.api\n",
            "pandas.util._tester\n",
            "pandas._testing._random\n",
            "pandas._testing.contexts\n",
            "pandas._testing._io\n",
            "pandas._testing._warnings\n",
            "cmath\n",
            "pandas._libs.testing\n",
            "pandas._testing.asserters\n",
            "pandas._testing.compat\n",
            "pandas._testing\n",
            "pandas.testing\n",
            "pandas._version\n",
            "pandas\n",
            "google.cloud.bigquery_storage_v1.reader\n",
            "google.cloud.bigquery_storage_v1.services\n",
            "google.auth.transport.mtls\n",
            "google.protobuf.descriptor_pb2\n",
            "google.protobuf.field_mask_pb2\n",
            "google.protobuf.struct_pb2\n",
            "google.protobuf.wrappers_pb2\n",
            "google.protobuf.internal.containers\n",
            "proto.marshal.compat\n",
            "proto.utils\n",
            "proto.marshal.collections.maps\n",
            "proto.marshal.collections.repeated\n",
            "proto.marshal.collections\n",
            "proto.marshal.rules\n",
            "proto.marshal.rules.bytes\n",
            "proto.primitives\n",
            "proto.marshal.rules.stringy_numbers\n",
            "proto.datetime_helpers\n",
            "proto.marshal.rules.dates\n",
            "proto.marshal.rules.struct\n",
            "proto.marshal.rules.wrappers\n",
            "proto.marshal.rules.field_mask\n",
            "proto.marshal.marshal\n",
            "proto.marshal\n",
            "proto.marshal.rules.message\n",
            "proto._file_info\n",
            "proto._package_info\n",
            "proto.marshal.rules.enums\n",
            "proto.enums\n",
            "proto.fields\n",
            "google.protobuf.internal.wire_format\n",
            "google.protobuf.internal.encoder\n",
            "google.protobuf.internal.decoder\n",
            "google.protobuf.internal.type_checkers\n",
            "google.protobuf.json_format\n",
            "proto.message\n",
            "proto.modules\n",
            "proto\n",
            "google.cloud.bigquery_storage_v1.types.arrow\n",
            "google.cloud.bigquery_storage_v1.types.avro\n",
            "google.cloud.bigquery_storage_v1.types.protobuf\n",
            "google.cloud.bigquery_storage_v1.types.table\n",
            "google.cloud.bigquery_storage_v1.types.stream\n",
            "google.cloud.bigquery_storage_v1.types.storage\n",
            "google.cloud.bigquery_storage_v1.types\n",
            "google.cloud.bigquery_storage_v1.services.big_query_read.transports.base\n",
            "google.cloud.bigquery_storage_v1.services.big_query_read.transports.grpc\n",
            "google.cloud.bigquery_storage_v1.services.big_query_read.transports.grpc_asyncio\n",
            "google.cloud.bigquery_storage_v1.services.big_query_read.transports\n",
            "google.cloud.bigquery_storage_v1.services.big_query_read.client\n",
            "google.cloud.bigquery_storage_v1.services.big_query_read.async_client\n",
            "google.cloud.bigquery_storage_v1.services.big_query_read\n",
            "google.cloud.bigquery_storage_v1.services.big_query_write.transports.base\n",
            "google.cloud.bigquery_storage_v1.services.big_query_write.transports.grpc\n",
            "google.cloud.bigquery_storage_v1.services.big_query_write.transports.grpc_asyncio\n",
            "google.cloud.bigquery_storage_v1.services.big_query_write.transports\n",
            "google.cloud.bigquery_storage_v1.services.big_query_write.client\n",
            "google.cloud.bigquery_storage_v1.services.big_query_write.async_client\n",
            "google.cloud.bigquery_storage_v1.services.big_query_write\n",
            "google.cloud.bigquery_storage_v1.client\n",
            "google.cloud.bigquery_storage_v1\n",
            "google.api_core.future.base\n",
            "google.api_core.future\n",
            "google.api_core.future._helpers\n",
            "google.api_core.future.polling\n",
            "packaging.__about__\n",
            "packaging\n",
            "packaging._structures\n",
            "packaging.version\n",
            "google.cloud.bigquery._helpers\n",
            "google.cloud.bigquery.retry\n",
            "google.cloud.bigquery.job.base\n",
            "google.cloud.bigquery.encryption_configuration\n",
            "shapely\n",
            "ctypes.util\n",
            "shapely.errors\n",
            "shapely.ctypes_declarations\n",
            "shapely.geos\n",
            "shapely.wkt\n",
            "db_dtypes.version\n",
            "db_dtypes.pandas_backports\n",
            "db_dtypes.core\n",
            "db_dtypes\n",
            "pyarrow._parquet\n",
            "pyarrow._fs\n",
            "pyarrow._hdfs\n",
            "pyarrow._gcsfs\n",
            "pyarrow._s3fs\n",
            "pyarrow.fs\n",
            "pyarrow.parquet\n",
            "shapely.affinity\n",
            "shapely.topology\n",
            "shapely.coords\n",
            "shapely.algorithms\n",
            "shapely.algorithms.cga\n",
            "shapely.linref\n",
            "shapely.predicates\n",
            "shapely.impl\n",
            "shapely.geometry.base\n",
            "shapely.geometry.proxy\n",
            "shapely.geometry.point\n",
            "shapely.geometry.linestring\n",
            "shapely.geometry.polygon\n",
            "shapely.geometry.multipoint\n",
            "shapely.geometry.multilinestring\n",
            "shapely.geometry.multipolygon\n",
            "shapely.geometry.collection\n",
            "shapely.geometry.geo\n",
            "shapely.speedups._speedups\n",
            "shapely.speedups\n",
            "shapely.geometry\n",
            "shapely.wkb\n",
            "google.cloud.bigquery_storage_v1.gapic_types\n",
            "google.cloud.bigquery_storage\n",
            "google.cloud.bigquery.enums\n",
            "google.cloud.bigquery.standard_sql\n",
            "google.cloud.bigquery.schema\n",
            "google.cloud.bigquery._pandas_helpers\n",
            "tqdm._monitor\n",
            "tqdm._tqdm_pandas\n",
            "tqdm.utils\n",
            "tqdm.std\n",
            "tqdm._dist_ver\n",
            "tqdm.version\n",
            "tqdm.cli\n",
            "tqdm.gui\n",
            "tqdm\n",
            "ipywidgets._version\n",
            "ipywidgets.widgets.widget\n",
            "ipywidgets.widgets.util\n",
            "ipywidgets.widgets.trait_types\n",
            "ipywidgets.widgets.widget_layout\n",
            "ipywidgets.widgets.widget_style\n",
            "ipywidgets.widgets.domwidget\n",
            "ipywidgets.widgets.valuewidget\n",
            "ipywidgets.widgets.widget_core\n",
            "ipywidgets.widgets.widget_description\n",
            "ipywidgets.widgets.widget_bool\n",
            "ipywidgets.widgets.widget_button\n",
            "ipywidgets.widgets.docutils\n",
            "ipywidgets.widgets.widget_box\n",
            "ipywidgets.widgets.widget_int\n",
            "ipywidgets.widgets.widget_float\n",
            "ipywidgets.widgets.widget_color\n",
            "ipywidgets.widgets.widget_date\n",
            "ipywidgets.widgets.widget_output\n",
            "ipywidgets.widgets.widget_selection\n",
            "ipywidgets.widgets.widget_selectioncontainer\n",
            "ipywidgets.widgets.widget_string\n",
            "ipywidgets.widgets.widget_controller\n",
            "ipywidgets.widgets.interaction\n",
            "ipywidgets.widgets.widget_link\n",
            "ipywidgets.widgets.widget_media\n",
            "ipywidgets.widgets.widget_templates\n",
            "ipywidgets.widgets.widget_upload\n",
            "ipywidgets.widgets\n",
            "ipywidgets\n",
            "tqdm.notebook\n",
            "google.cloud.bigquery._tqdm_helpers\n",
            "google.cloud.bigquery.format_options\n",
            "google.cloud.bigquery.external_config\n",
            "google.cloud.bigquery.table\n",
            "google.cloud.bigquery.job.copy_\n",
            "google.cloud.bigquery.model\n",
            "google.cloud.bigquery.job.extract\n",
            "google.cloud.bigquery.job.load\n",
            "google.cloud.bigquery.routine.routine\n",
            "google.cloud.bigquery.routine\n",
            "google.cloud.bigquery.dataset\n",
            "google.cloud.bigquery.query\n",
            "google.cloud.bigquery.job.query\n",
            "google.cloud.bigquery.job\n",
            "google.cloud.bigquery._job_helpers\n",
            "google.cloud.version\n",
            "google.cloud._http\n",
            "google.cloud.bigquery._http\n",
            "google.cloud.bigquery.opentelemetry_tracing\n",
            "google.cloud.bigquery.client\n",
            "google.cloud.bigquery\n",
            "google.cloud.bigquery.dbapi.exceptions\n",
            "google.cloud.bigquery.dbapi._helpers\n",
            "google.cloud.bigquery.dbapi.cursor\n",
            "google.cloud.bigquery.dbapi.connection\n",
            "google.cloud.bigquery.dbapi.types\n",
            "google.cloud.bigquery.dbapi\n",
            "google.cloud.bigquery.magics.line_arg_parser.exceptions\n",
            "google.cloud.bigquery.magics.line_arg_parser.lexer\n",
            "google.cloud.bigquery.magics.line_arg_parser.parser\n",
            "google.cloud.bigquery.magics.line_arg_parser.visitors\n",
            "google.cloud.bigquery.magics.line_arg_parser\n",
            "google.cloud.bigquery.magics.magics\n",
            "google.cloud.bigquery.magics\n"
          ]
        }
      ]
    },
    {
      "cell_type": "code",
      "source": [
        "from math import sin\n",
        "print(sin.__module__)\n",
        "\n",
        "from cmd import Cmd\n",
        "print(Cmd.__module__)"
      ],
      "metadata": {
        "colab": {
          "base_uri": "https://localhost:8080/"
        },
        "id": "yCImRI83S3Uf",
        "outputId": "825d3779-387a-4cf2-f33b-4d0121fc158d"
      },
      "execution_count": null,
      "outputs": [
        {
          "output_type": "stream",
          "name": "stdout",
          "text": [
            "math\n",
            "cmd\n"
          ]
        }
      ]
    },
    {
      "cell_type": "markdown",
      "source": [
        "### function \n",
        "1. keyword 사용 (/ * **)\n",
        "2. overloading 불가\n",
        "3. 외부 자원 변경( global, nonlocal )\n",
        "\n",
        "### interning\n",
        "1. 숫자(-5 ~ 256), interning으로 지정가능\n",
        "2. 문자(a-zA-Z0-9_), interning으로 지정불가\n",
        "\n",
        "### module and package\n",
        "1. 모듈\n",
        "2. 패키지\n",
        "\n",
        "- import 모듈 == from 모듈 import * \n",
        "- from 패키지 or 모듈 import 변수 or 함수 or 클래스\n",
        "- import 모듈 as alias == import numpy as np"
      ],
      "metadata": {
        "id": "iVTNTshLWPjn"
      }
    },
    {
      "cell_type": "markdown",
      "source": [
        "## 람다표현식"
      ],
      "metadata": {
        "id": "FvTQLULpcaXI"
      }
    },
    {
      "cell_type": "code",
      "source": [
        "plus_ten2 = lambda x: x+10\n",
        "plus_ten2(1)"
      ],
      "metadata": {
        "colab": {
          "base_uri": "https://localhost:8080/"
        },
        "id": "CaseeHyFbcUC",
        "outputId": "a9f17eb3-9032-4561-de7a-4650deca3177"
      },
      "execution_count": null,
      "outputs": [
        {
          "output_type": "execute_result",
          "data": {
            "text/plain": [
              "11"
            ]
          },
          "metadata": {},
          "execution_count": 115
        }
      ]
    },
    {
      "cell_type": "code",
      "source": [
        "#람다 표현식은 변수 할당하지 않고 람다 표현식 자체를 바로 호출가능\n",
        "(lambda x: x+ 10)(1)"
      ],
      "metadata": {
        "colab": {
          "base_uri": "https://localhost:8080/"
        },
        "id": "WbQNuRRubgrA",
        "outputId": "e5a64a50-eb77-4100-e6db-ed7995a7ae77"
      },
      "execution_count": null,
      "outputs": [
        {
          "output_type": "execute_result",
          "data": {
            "text/plain": [
              "11"
            ]
          },
          "metadata": {},
          "execution_count": 118
        }
      ]
    },
    {
      "cell_type": "code",
      "source": [
        "# 람다 표현식 안에서는 변수를 만들 수 없음\n",
        "(lambda x: y= x+ y)(1)"
      ],
      "metadata": {
        "colab": {
          "base_uri": "https://localhost:8080/",
          "height": 137
        },
        "id": "a3OLwLx-bwy3",
        "outputId": "e5c0cfaa-2d44-49ce-c76c-79a628957be0"
      },
      "execution_count": null,
      "outputs": [
        {
          "output_type": "error",
          "ename": "SyntaxError",
          "evalue": "ignored",
          "traceback": [
            "\u001b[0;36m  File \u001b[0;32m\"<ipython-input-119-602dc3def054>\"\u001b[0;36m, line \u001b[0;32m2\u001b[0m\n\u001b[0;31m    (lambda x: y= x+ y)(1)\u001b[0m\n\u001b[0m                ^\u001b[0m\n\u001b[0;31mSyntaxError\u001b[0m\u001b[0;31m:\u001b[0m invalid syntax\n"
          ]
        }
      ]
    },
    {
      "cell_type": "code",
      "source": [
        "# 람다 표현식에서 바깥에 있는 변수는 사용가능\n",
        "y=10\n",
        "(lambda x:x+y)(1)"
      ],
      "metadata": {
        "colab": {
          "base_uri": "https://localhost:8080/"
        },
        "id": "R0hEmip9cCpw",
        "outputId": "2429ab64-01b1-4329-c21a-b608c305dbe8"
      },
      "execution_count": null,
      "outputs": [
        {
          "output_type": "execute_result",
          "data": {
            "text/plain": [
              "11"
            ]
          },
          "metadata": {},
          "execution_count": 120
        }
      ]
    },
    {
      "cell_type": "code",
      "source": [
        "#higher order function\n",
        "def foo(func, a):\n",
        "  return func(a)\n",
        "\n",
        "def ss(a):\n",
        "  return a + 1\n",
        "foo(ss,1)"
      ],
      "metadata": {
        "colab": {
          "base_uri": "https://localhost:8080/"
        },
        "id": "hfsWHO9dcHyx",
        "outputId": "523a6b56-c248-4286-ebfb-e97c51595687"
      },
      "execution_count": null,
      "outputs": [
        {
          "output_type": "execute_result",
          "data": {
            "text/plain": [
              "2"
            ]
          },
          "metadata": {},
          "execution_count": 125
        }
      ]
    },
    {
      "cell_type": "markdown",
      "source": [
        "- closure  \n",
        "함수를 중첩해서 사용하는 기법\n",
        "  - python 공식문서에는 없는 용어이지만, 다음과 같이 함수를 중첩해서 사용하는 기법을 closure라고 한다."
      ],
      "metadata": {
        "id": "obTCPqR78u97"
      }
    },
    {
      "cell_type": "code",
      "source": [
        "def x(n):\n",
        "  def y(m):\n",
        "    return n + m\n",
        "  return y"
      ],
      "metadata": {
        "id": "4sBCnmpGdckg"
      },
      "execution_count": null,
      "outputs": []
    },
    {
      "cell_type": "code",
      "source": [
        "k = x(3)"
      ],
      "metadata": {
        "id": "rt695XOzhPxQ"
      },
      "execution_count": null,
      "outputs": []
    },
    {
      "cell_type": "code",
      "source": [
        "k"
      ],
      "metadata": {
        "colab": {
          "base_uri": "https://localhost:8080/"
        },
        "id": "s10XzjPXiU4x",
        "outputId": "5fafca85-6cc6-4ebe-9422-15ecb30ab165"
      },
      "execution_count": null,
      "outputs": [
        {
          "output_type": "execute_result",
          "data": {
            "text/plain": [
              "<function __main__.x.<locals>.y(m)>"
            ]
          },
          "metadata": {},
          "execution_count": 135
        }
      ]
    },
    {
      "cell_type": "code",
      "source": [
        "k(4)"
      ],
      "metadata": {
        "colab": {
          "base_uri": "https://localhost:8080/"
        },
        "id": "Nw6erZo2iVzA",
        "outputId": "db279a45-e40c-43e9-d50f-bc71e008b359"
      },
      "execution_count": null,
      "outputs": [
        {
          "output_type": "execute_result",
          "data": {
            "text/plain": [
              "7"
            ]
          },
          "metadata": {},
          "execution_count": 136
        }
      ]
    },
    {
      "cell_type": "markdown",
      "source": [
        "### List Comprehension"
      ],
      "metadata": {
        "id": "01Zn4db2vHPb"
      }
    },
    {
      "cell_type": "code",
      "source": [
        "squares = [x**2 for x in range(10)]\n",
        "print (squares) #호출할 때 실행됨"
      ],
      "metadata": {
        "colab": {
          "base_uri": "https://localhost:8080/"
        },
        "id": "Ncd8-lUkiaJY",
        "outputId": "65352071-cfaf-4947-c4ba-fce7ca16e303"
      },
      "execution_count": null,
      "outputs": [
        {
          "output_type": "stream",
          "name": "stdout",
          "text": [
            "[0, 1, 4, 9, 16, 25, 36, 49, 64, 81]\n"
          ]
        }
      ]
    },
    {
      "cell_type": "code",
      "source": [
        "ll = []\n",
        "for i in range(5):\n",
        "  for j in range(5):\n",
        "    if j % 2 == 0:\n",
        "      ll.append((i,j))\n",
        "print(ll)\n",
        "\n",
        "l = [(x,y) for x in range(5) for y in range(5) if y % 2 == 0]\n",
        "print(l)\n",
        "\n",
        "print(ll == l)"
      ],
      "metadata": {
        "colab": {
          "base_uri": "https://localhost:8080/"
        },
        "id": "REr8vFO-mHlm",
        "outputId": "08bfa189-f7f0-4194-d727-4b1c15103efb"
      },
      "execution_count": null,
      "outputs": [
        {
          "output_type": "stream",
          "name": "stdout",
          "text": [
            "[(0, 0), (0, 2), (0, 4), (1, 0), (1, 2), (1, 4), (2, 0), (2, 2), (2, 4), (3, 0), (3, 2), (3, 4), (4, 0), (4, 2), (4, 4)]\n",
            "[(0, 0), (0, 2), (0, 4), (1, 0), (1, 2), (1, 4), (2, 0), (2, 2), (2, 4), (3, 0), (3, 2), (3, 4), (4, 0), (4, 2), (4, 4)]\n",
            "True\n"
          ]
        }
      ]
    },
    {
      "cell_type": "markdown",
      "source": [
        "- 리스트 정의시 값을 정하지 않고 호출 시 리스트 내의 값들이 처리되도록 구성\n",
        "- A = [표현식 for i in sequence if 논리식]"
      ],
      "metadata": {
        "id": "Bpc3k55K10ld"
      }
    },
    {
      "cell_type": "code",
      "source": [
        "# 마지막값으로 돌아가는 개수만큼 처리가 되어버림\n",
        "lh = [lambda x : x+n for n in range(5)]\n",
        "print(lh) #호출할 때 실행됨\n",
        "for i in lh:\n",
        "  print(i(0))"
      ],
      "metadata": {
        "colab": {
          "base_uri": "https://localhost:8080/"
        },
        "id": "hR2zyUmCnCop",
        "outputId": "d98831fe-1ce4-41d9-8ee6-c5553f6e42f9"
      },
      "execution_count": null,
      "outputs": [
        {
          "output_type": "stream",
          "name": "stdout",
          "text": [
            "[<function <listcomp>.<lambda> at 0x7fc3fbae4430>, <function <listcomp>.<lambda> at 0x7fc3fbae41f0>, <function <listcomp>.<lambda> at 0x7fc3fbae4160>, <function <listcomp>.<lambda> at 0x7fc3fbae4550>, <function <listcomp>.<lambda> at 0x7fc3fbae4820>]\n",
            "4\n",
            "4\n",
            "4\n",
            "4\n",
            "4\n"
          ]
        }
      ]
    },
    {
      "cell_type": "code",
      "source": [
        "print(type(lh))\n",
        "lh[0]"
      ],
      "metadata": {
        "colab": {
          "base_uri": "https://localhost:8080/"
        },
        "id": "Xy9M9h4Cnc4h",
        "outputId": "b479b8cd-634a-4dc4-90c3-de27638434f1"
      },
      "execution_count": null,
      "outputs": [
        {
          "output_type": "stream",
          "name": "stdout",
          "text": [
            "<class 'list'>\n"
          ]
        },
        {
          "output_type": "execute_result",
          "data": {
            "text/plain": [
              "<function __main__.<listcomp>.<lambda>(x)>"
            ]
          },
          "metadata": {},
          "execution_count": 149
        }
      ]
    },
    {
      "cell_type": "code",
      "source": [
        "lh[1]"
      ],
      "metadata": {
        "colab": {
          "base_uri": "https://localhost:8080/"
        },
        "id": "EgoZNEuipO1E",
        "outputId": "a9bf1eec-d42e-490e-9926-35c0bc4117f8"
      },
      "execution_count": null,
      "outputs": [
        {
          "output_type": "execute_result",
          "data": {
            "text/plain": [
              "<function __main__.<listcomp>.<lambda>(x)>"
            ]
          },
          "metadata": {},
          "execution_count": 150
        }
      ]
    },
    {
      "cell_type": "code",
      "source": [
        "# 리스트 컴프리헨션에 있는 변수를 함수의 파라미터 초기값으로 세팅하면 원하는 숫자대로 처리됨\n",
        "lh = [lambda x, n=n : x+n for n in range(5)]\n",
        "print(lh) #호출할 때 실행됨\n",
        "for i in lh:\n",
        "  print(i(0))"
      ],
      "metadata": {
        "colab": {
          "base_uri": "https://localhost:8080/"
        },
        "id": "eU0BOWhnpSHj",
        "outputId": "1a351378-8795-46a6-9e6b-70dd17289426"
      },
      "execution_count": null,
      "outputs": [
        {
          "output_type": "stream",
          "name": "stdout",
          "text": [
            "[<function <listcomp>.<lambda> at 0x7fc3fbaa5790>, <function <listcomp>.<lambda> at 0x7fc3fbab7700>, <function <listcomp>.<lambda> at 0x7fc3fbab7ee0>, <function <listcomp>.<lambda> at 0x7fc3fbab7430>, <function <listcomp>.<lambda> at 0x7fc3fbab7ca0>]\n",
            "0\n",
            "1\n",
            "2\n",
            "3\n",
            "4\n"
          ]
        }
      ]
    },
    {
      "cell_type": "code",
      "source": [
        "lh = [lambda x, m=n : x+m for n in range(5)]\n",
        "print(lh)\n",
        "for i in lh:\n",
        "  print(i(0))"
      ],
      "metadata": {
        "colab": {
          "base_uri": "https://localhost:8080/"
        },
        "id": "GWTer6Qvqdfy",
        "outputId": "3afba663-b272-49b4-fe08-a8b18c811871"
      },
      "execution_count": null,
      "outputs": [
        {
          "output_type": "stream",
          "name": "stdout",
          "text": [
            "[<function <listcomp>.<lambda> at 0x7fc3fbae4550>, <function <listcomp>.<lambda> at 0x7fc3fbae43a0>, <function <listcomp>.<lambda> at 0x7fc3fbae4b80>, <function <listcomp>.<lambda> at 0x7fc3fbae4a60>, <function <listcomp>.<lambda> at 0x7fc3fbae44c0>]\n",
            "0\n",
            "1\n",
            "2\n",
            "3\n",
            "4\n"
          ]
        }
      ]
    },
    {
      "cell_type": "markdown",
      "source": [
        "### Dict Comprehension\n",
        "{ }"
      ],
      "metadata": {
        "id": "5WKUbbt6vCJ7"
      }
    },
    {
      "cell_type": "markdown",
      "source": [
        "- 사전 정의시 값을 정하지 않고 호출 시 사전 내의 값들이 처리되도록 구성\n",
        "- A = {표현식 for (k,v) in sequence if 논리식}"
      ],
      "metadata": {
        "id": "Rq0We_vf2CS1"
      }
    },
    {
      "cell_type": "code",
      "source": [
        "d = {}\n",
        "for (k,v) in zip(range(9), range(9)):\n",
        "  d[k] = v\n",
        "print (d)"
      ],
      "metadata": {
        "colab": {
          "base_uri": "https://localhost:8080/"
        },
        "id": "nYxFmEygun28",
        "outputId": "ca81e568-6669-41ab-fede-c6deb3e49da0"
      },
      "execution_count": null,
      "outputs": [
        {
          "output_type": "stream",
          "name": "stdout",
          "text": [
            "{0: 0, 1: 1, 2: 2, 3: 3, 4: 4, 5: 5, 6: 6, 7: 7, 8: 8}\n"
          ]
        }
      ]
    },
    {
      "cell_type": "code",
      "source": [
        "dl = {x:y for (x,y) in zip(range(9), range(9))}\n",
        "print (dl)"
      ],
      "metadata": {
        "colab": {
          "base_uri": "https://localhost:8080/"
        },
        "id": "dCfJVTamuo3j",
        "outputId": "3f1f3a71-c135-444e-cacb-c992cc615e89"
      },
      "execution_count": null,
      "outputs": [
        {
          "output_type": "stream",
          "name": "stdout",
          "text": [
            "{0: 0, 1: 1, 2: 2, 3: 3, 4: 4, 5: 5, 6: 6, 7: 7, 8: 8}\n"
          ]
        }
      ]
    },
    {
      "cell_type": "code",
      "source": [
        "a={'x':1, 'y':2, 'z':3}\n",
        "b={'w':10, 'x':11, 'y':2}\n",
        "\n",
        "print(a.keys() & b.keys())\n",
        "print(type(a.keys()))\n",
        "\n",
        "c= {key:a[key] for key in a.keys() - {'z','w'}}\n",
        "\n",
        "print(c)"
      ],
      "metadata": {
        "colab": {
          "base_uri": "https://localhost:8080/"
        },
        "id": "EyC90kB7u-zb",
        "outputId": "9c5fd68e-462a-4129-d331-bb8575c2bad7"
      },
      "execution_count": null,
      "outputs": [
        {
          "output_type": "stream",
          "name": "stdout",
          "text": [
            "{'x', 'y'}\n",
            "<class 'dict_keys'>\n",
            "{'x': 1, 'y': 2}\n"
          ]
        }
      ]
    },
    {
      "cell_type": "markdown",
      "source": [
        "- dict 내의 다중 for문을 이용해서 처리\n",
        "- A = {표현식 for i in sequence for j in sequence if 논리식}"
      ],
      "metadata": {
        "id": "KUc7D1U40xE0"
      }
    },
    {
      "cell_type": "code",
      "source": [
        "# 많이 사용하지는 않는 케이스\n",
        "ll = {}\n",
        "for i in range(5):\n",
        "  for j in range(5):\n",
        "    if j % 2 == 0:\n",
        "      ll.setdefault(i,4)\n",
        "\n",
        "print(ll)\n",
        "\n",
        "l = {x:y for x in range(5) for y in range(5) if y % 2 == 0}\n",
        "print(l)\n",
        "\n",
        "print(ll == l)"
      ],
      "metadata": {
        "colab": {
          "base_uri": "https://localhost:8080/"
        },
        "id": "OTPeGkB7wF6U",
        "outputId": "39bf7322-1bef-4dd5-a00e-41bc45041b16"
      },
      "execution_count": null,
      "outputs": [
        {
          "output_type": "stream",
          "name": "stdout",
          "text": [
            "{0: 4, 1: 4, 2: 4, 3: 4, 4: 4}\n",
            "{0: 4, 1: 4, 2: 4, 3: 4, 4: 4}\n",
            "True\n"
          ]
        }
      ]
    },
    {
      "cell_type": "code",
      "source": [
        "# 많이 사용하는 케이스\n",
        "b = dict({x:y for x, y in zip(range(3), ['red','green','blue'])})\n",
        "b"
      ],
      "metadata": {
        "colab": {
          "base_uri": "https://localhost:8080/"
        },
        "id": "QFbszUwc04j1",
        "outputId": "957c6042-cea0-44e7-d388-0ab0749e3210"
      },
      "execution_count": null,
      "outputs": [
        {
          "output_type": "execute_result",
          "data": {
            "text/plain": [
              "{0: 'red', 1: 'green', 2: 'blue'}"
            ]
          },
          "metadata": {},
          "execution_count": 173
        }
      ]
    },
    {
      "cell_type": "code",
      "source": [
        "#마지막값으로 세팅되어서 계속 출력\n",
        "l = {x:y for x in range(5) for y in range(7) if y % 2 == 0}\n",
        "print(l)\n",
        "\n",
        "# 짝수일때에는 의미가 없음\n",
        "l = {x:y for x in range(5) for y in range(6)}\n",
        "print(l)\n",
        "\n",
        "l = {x:y for x in range(5) for y in range(6) if y % 2 == 0}\n",
        "print(l)\n",
        "\n",
        "#0을 주면 아무런 값도 나오지 않음\n",
        "l = {x:y for x in range(5) for y in range(0)}\n",
        "print(l)\n"
      ],
      "metadata": {
        "colab": {
          "base_uri": "https://localhost:8080/"
        },
        "id": "2IzByCDXxFJU",
        "outputId": "5e041bb4-c225-4f16-b74d-fbb4a5c00887"
      },
      "execution_count": null,
      "outputs": [
        {
          "output_type": "stream",
          "name": "stdout",
          "text": [
            "{0: 6, 1: 6, 2: 6, 3: 6, 4: 6}\n",
            "{0: 5, 1: 5, 2: 5, 3: 5, 4: 5}\n",
            "{0: 4, 1: 4, 2: 4, 3: 4, 4: 4}\n",
            "{}\n"
          ]
        }
      ]
    },
    {
      "cell_type": "markdown",
      "source": [
        "### Set Comprehension\n",
        "- set 정의시 값을 정하지 않고 호출 시 set 내의 값들이 처리되도록 구성\n",
        "- A = {표현식 for i in sequence if 논리식}"
      ],
      "metadata": {
        "id": "K-l5hFe2zr2l"
      }
    },
    {
      "cell_type": "code",
      "source": [
        "s = set()\n",
        "for i in range(10):\n",
        "  s.add(i)\n",
        "print(s)"
      ],
      "metadata": {
        "colab": {
          "base_uri": "https://localhost:8080/"
        },
        "id": "vwx2V8xPyxtt",
        "outputId": "1e096eab-0231-4f9b-d645-bb57ca95e4f7"
      },
      "execution_count": null,
      "outputs": [
        {
          "output_type": "stream",
          "name": "stdout",
          "text": [
            "{0, 1, 2, 3, 4, 5, 6, 7, 8, 9}\n"
          ]
        }
      ]
    },
    {
      "cell_type": "code",
      "source": [
        "s1 = {x for x in range(10)}\n",
        "print (s)"
      ],
      "metadata": {
        "colab": {
          "base_uri": "https://localhost:8080/"
        },
        "id": "GLUECTJpzk_9",
        "outputId": "51224cd9-9811-4388-c5a6-b4d8eea4189e"
      },
      "execution_count": null,
      "outputs": [
        {
          "output_type": "stream",
          "name": "stdout",
          "text": [
            "{0, 1, 2, 3, 4, 5, 6, 7, 8, 9}\n"
          ]
        }
      ]
    },
    {
      "cell_type": "markdown",
      "source": [
        "- set 내의 다중 for 문을 이용해서 처리\n",
        "- A = {표현식 for i in sequence for j in sequence if 논리식}"
      ],
      "metadata": {
        "id": "RpYV2iuz0DE8"
      }
    },
    {
      "cell_type": "code",
      "source": [
        "ll = set()\n",
        "for i in range(5):\n",
        "  for j in range(5):\n",
        "    if j % 2 == 0:\n",
        "      ll.add((i,j))\n",
        "print(ll)\n",
        "\n",
        "l = {(x,y) for x in range(5) for y in range(5) if y % 2 == 0}\n",
        "print(l)\n",
        "\n",
        "print(ll == l)"
      ],
      "metadata": {
        "colab": {
          "base_uri": "https://localhost:8080/"
        },
        "id": "ATs98YuFzqB8",
        "outputId": "d92201c2-2d25-428b-e531-e14a20a05185"
      },
      "execution_count": null,
      "outputs": [
        {
          "output_type": "stream",
          "name": "stdout",
          "text": [
            "{(4, 4), (2, 4), (1, 2), (0, 4), (3, 4), (4, 0), (0, 0), (2, 0), (1, 4), (3, 0), (4, 2), (0, 2), (2, 2), (1, 0), (3, 2)}\n",
            "{(4, 4), (2, 4), (1, 2), (0, 4), (3, 4), (4, 0), (0, 0), (2, 0), (1, 4), (3, 0), (4, 2), (0, 2), (2, 2), (1, 0), (3, 2)}\n",
            "True\n"
          ]
        }
      ]
    },
    {
      "cell_type": "code",
      "source": [],
      "metadata": {
        "id": "vDg6JsZM0UYl"
      },
      "execution_count": null,
      "outputs": []
    },
    {
      "cell_type": "code",
      "source": [
        "def x(t):\n",
        "  if t < 3:\n",
        "    return 1\n",
        "  return x(t-1)"
      ],
      "metadata": {
        "id": "41R25eRHC-nj"
      },
      "execution_count": 1,
      "outputs": []
    },
    {
      "cell_type": "code",
      "source": [
        "x(7)"
      ],
      "metadata": {
        "colab": {
          "base_uri": "https://localhost:8080/"
        },
        "id": "xvYHz-PFDHaq",
        "outputId": "809ab4ce-dfff-4da8-8eb1-5d72d66225d2"
      },
      "execution_count": 2,
      "outputs": [
        {
          "output_type": "execute_result",
          "data": {
            "text/plain": [
              "1"
            ]
          },
          "metadata": {},
          "execution_count": 2
        }
      ]
    },
    {
      "cell_type": "code",
      "source": [],
      "metadata": {
        "id": "E9gNO_4qDJSS"
      },
      "execution_count": null,
      "outputs": []
    },
    {
      "cell_type": "markdown",
      "source": [
        "### iterator\n",
        "- iterable : 반복문을 수행할 수 있는 객체  \n",
        "- iterator : 객체의 요소를 차례대로 가지고 올 수 있는 것"
      ],
      "metadata": {
        "id": "Q3xuSmLCEFNO"
      }
    },
    {
      "cell_type": "code",
      "source": [
        "a = [1, 2, 3]"
      ],
      "metadata": {
        "id": "KawUOvzQESZi"
      },
      "execution_count": 15,
      "outputs": []
    },
    {
      "cell_type": "code",
      "source": [
        "print(type(a))"
      ],
      "metadata": {
        "colab": {
          "base_uri": "https://localhost:8080/"
        },
        "id": "VTtaygo0EWrK",
        "outputId": "c0257320-2e55-4309-bcde-99a0d221a49c"
      },
      "execution_count": 4,
      "outputs": [
        {
          "output_type": "stream",
          "name": "stdout",
          "text": [
            "<class 'list'>\n"
          ]
        }
      ]
    },
    {
      "cell_type": "code",
      "source": [
        "print(dir(a))"
      ],
      "metadata": {
        "colab": {
          "base_uri": "https://localhost:8080/"
        },
        "id": "15pb4pUMEZYa",
        "outputId": "e3a8b7ce-7166-4f7a-f43a-a99f79f1bf8b"
      },
      "execution_count": 5,
      "outputs": [
        {
          "output_type": "stream",
          "name": "stdout",
          "text": [
            "['__add__', '__class__', '__contains__', '__delattr__', '__delitem__', '__dir__', '__doc__', '__eq__', '__format__', '__ge__', '__getattribute__', '__getitem__', '__gt__', '__hash__', '__iadd__', '__imul__', '__init__', '__init_subclass__', '__iter__', '__le__', '__len__', '__lt__', '__mul__', '__ne__', '__new__', '__reduce__', '__reduce_ex__', '__repr__', '__reversed__', '__rmul__', '__setattr__', '__setitem__', '__sizeof__', '__str__', '__subclasshook__', 'append', 'clear', 'copy', 'count', 'extend', 'index', 'insert', 'pop', 'remove', 'reverse', 'sort']\n"
          ]
        }
      ]
    },
    {
      "cell_type": "code",
      "source": [
        "b = iter(a)\n",
        "b"
      ],
      "metadata": {
        "colab": {
          "base_uri": "https://localhost:8080/"
        },
        "id": "IyxeQIy7Egba",
        "outputId": "37fbc42c-9b28-4d18-fa32-06c2efdcaab5"
      },
      "execution_count": 16,
      "outputs": [
        {
          "output_type": "execute_result",
          "data": {
            "text/plain": [
              "<list_iterator at 0x7f6e78968b50>"
            ]
          },
          "metadata": {},
          "execution_count": 16
        }
      ]
    },
    {
      "cell_type": "code",
      "source": [
        "print(dir(b))"
      ],
      "metadata": {
        "colab": {
          "base_uri": "https://localhost:8080/"
        },
        "id": "cvckwTeME1ID",
        "outputId": "d5222854-8d91-4736-e14c-4f769ad81ba0"
      },
      "execution_count": 13,
      "outputs": [
        {
          "output_type": "stream",
          "name": "stdout",
          "text": [
            "['__class__', '__delattr__', '__dir__', '__doc__', '__eq__', '__format__', '__ge__', '__getattribute__', '__gt__', '__hash__', '__init__', '__init_subclass__', '__iter__', '__le__', '__length_hint__', '__lt__', '__ne__', '__new__', '__next__', '__reduce__', '__reduce_ex__', '__repr__', '__setattr__', '__setstate__', '__sizeof__', '__str__', '__subclasshook__']\n"
          ]
        }
      ]
    },
    {
      "cell_type": "code",
      "source": [
        "next(b)"
      ],
      "metadata": {
        "colab": {
          "base_uri": "https://localhost:8080/"
        },
        "id": "fvm4Ao6IFBTi",
        "outputId": "2e0abfbb-4786-4f91-8390-a3241d02ecf5"
      },
      "execution_count": 17,
      "outputs": [
        {
          "output_type": "execute_result",
          "data": {
            "text/plain": [
              "1"
            ]
          },
          "metadata": {},
          "execution_count": 17
        }
      ]
    },
    {
      "cell_type": "code",
      "source": [
        "next(b)"
      ],
      "metadata": {
        "colab": {
          "base_uri": "https://localhost:8080/"
        },
        "id": "La1VeZjdFNvC",
        "outputId": "216103d9-1d97-4b13-dc07-e9dea6582886"
      },
      "execution_count": 18,
      "outputs": [
        {
          "output_type": "execute_result",
          "data": {
            "text/plain": [
              "2"
            ]
          },
          "metadata": {},
          "execution_count": 18
        }
      ]
    },
    {
      "cell_type": "code",
      "source": [
        "next(b)"
      ],
      "metadata": {
        "colab": {
          "base_uri": "https://localhost:8080/"
        },
        "id": "JzZbzkDSFP16",
        "outputId": "a0761fc7-c377-4c28-83d8-4c0371fb1cbb"
      },
      "execution_count": 19,
      "outputs": [
        {
          "output_type": "execute_result",
          "data": {
            "text/plain": [
              "3"
            ]
          },
          "metadata": {},
          "execution_count": 19
        }
      ]
    },
    {
      "cell_type": "code",
      "source": [
        "next(b)"
      ],
      "metadata": {
        "colab": {
          "base_uri": "https://localhost:8080/",
          "height": 174
        },
        "id": "0gla_1uAFTgy",
        "outputId": "936604b7-2fbe-4200-96e3-b373b936c5ba"
      },
      "execution_count": 20,
      "outputs": [
        {
          "output_type": "error",
          "ename": "StopIteration",
          "evalue": "ignored",
          "traceback": [
            "\u001b[0;31m---------------------------------------------------------------------------\u001b[0m",
            "\u001b[0;31mStopIteration\u001b[0m                             Traceback (most recent call last)",
            "\u001b[0;32m<ipython-input-20-adb3e17b0219>\u001b[0m in \u001b[0;36m<module>\u001b[0;34m\u001b[0m\n\u001b[0;32m----> 1\u001b[0;31m \u001b[0mnext\u001b[0m\u001b[0;34m(\u001b[0m\u001b[0mb\u001b[0m\u001b[0;34m)\u001b[0m\u001b[0;34m\u001b[0m\u001b[0;34m\u001b[0m\u001b[0m\n\u001b[0m",
            "\u001b[0;31mStopIteration\u001b[0m: "
          ]
        }
      ]
    },
    {
      "cell_type": "code",
      "source": [],
      "metadata": {
        "id": "n5hCyGb_Ffrl"
      },
      "execution_count": null,
      "outputs": []
    },
    {
      "cell_type": "markdown",
      "source": [
        "iterator는 lazy 기법이다.  \n",
        "메모리에 전체를 올리지 않고, 사용할 때 마다 하나씩 메모리에 올린다.\n",
        "- 메모리에 효율적으로 사용한다.\n",
        "- index, len을 사용 못한다."
      ],
      "metadata": {
        "id": "NbovezjqHDWF"
      }
    },
    {
      "cell_type": "code",
      "source": [
        "a = [1, 2, 3]"
      ],
      "metadata": {
        "id": "ntlZQcSQHS0j"
      },
      "execution_count": 28,
      "outputs": []
    },
    {
      "cell_type": "code",
      "source": [
        "print(dir(a))"
      ],
      "metadata": {
        "colab": {
          "base_uri": "https://localhost:8080/"
        },
        "id": "t1KEczHJHU_D",
        "outputId": "a2bebe6e-548a-41c8-e27a-732ba1829a91"
      },
      "execution_count": 22,
      "outputs": [
        {
          "output_type": "stream",
          "name": "stdout",
          "text": [
            "['__add__', '__class__', '__contains__', '__delattr__', '__delitem__', '__dir__', '__doc__', '__eq__', '__format__', '__ge__', '__getattribute__', '__getitem__', '__gt__', '__hash__', '__iadd__', '__imul__', '__init__', '__init_subclass__', '__iter__', '__le__', '__len__', '__lt__', '__mul__', '__ne__', '__new__', '__reduce__', '__reduce_ex__', '__repr__', '__reversed__', '__rmul__', '__setattr__', '__setitem__', '__sizeof__', '__str__', '__subclasshook__', 'append', 'clear', 'copy', 'count', 'extend', 'index', 'insert', 'pop', 'remove', 'reverse', 'sort']\n"
          ]
        }
      ]
    },
    {
      "cell_type": "code",
      "source": [
        "b = iter(a)\n",
        "b"
      ],
      "metadata": {
        "colab": {
          "base_uri": "https://localhost:8080/"
        },
        "id": "X5jT3LcxHtDa",
        "outputId": "bdd21d1f-6e81-4755-9516-e436362ee5b7"
      },
      "execution_count": 29,
      "outputs": [
        {
          "output_type": "execute_result",
          "data": {
            "text/plain": [
              "<list_iterator at 0x7f6e78968c70>"
            ]
          },
          "metadata": {},
          "execution_count": 29
        }
      ]
    },
    {
      "cell_type": "code",
      "source": [
        "b[0]"
      ],
      "metadata": {
        "colab": {
          "base_uri": "https://localhost:8080/",
          "height": 174
        },
        "id": "EhA9cROXHzfz",
        "outputId": "b8437db0-db43-41bc-889b-600d18602b5b"
      },
      "execution_count": 24,
      "outputs": [
        {
          "output_type": "error",
          "ename": "TypeError",
          "evalue": "ignored",
          "traceback": [
            "\u001b[0;31m---------------------------------------------------------------------------\u001b[0m",
            "\u001b[0;31mTypeError\u001b[0m                                 Traceback (most recent call last)",
            "\u001b[0;32m<ipython-input-24-54af0eb47770>\u001b[0m in \u001b[0;36m<module>\u001b[0;34m\u001b[0m\n\u001b[0;32m----> 1\u001b[0;31m \u001b[0mb\u001b[0m\u001b[0;34m[\u001b[0m\u001b[0;36m0\u001b[0m\u001b[0;34m]\u001b[0m\u001b[0;34m\u001b[0m\u001b[0;34m\u001b[0m\u001b[0m\n\u001b[0m",
            "\u001b[0;31mTypeError\u001b[0m: 'list_iterator' object is not subscriptable"
          ]
        }
      ]
    },
    {
      "cell_type": "code",
      "source": [
        "len(b)"
      ],
      "metadata": {
        "colab": {
          "base_uri": "https://localhost:8080/",
          "height": 174
        },
        "id": "9Kd3KUsGH3ST",
        "outputId": "c0a3e3a7-c68b-42d8-ebd7-b640fab063af"
      },
      "execution_count": 25,
      "outputs": [
        {
          "output_type": "error",
          "ename": "TypeError",
          "evalue": "ignored",
          "traceback": [
            "\u001b[0;31m---------------------------------------------------------------------------\u001b[0m",
            "\u001b[0;31mTypeError\u001b[0m                                 Traceback (most recent call last)",
            "\u001b[0;32m<ipython-input-25-97d8916a185b>\u001b[0m in \u001b[0;36m<module>\u001b[0;34m\u001b[0m\n\u001b[0;32m----> 1\u001b[0;31m \u001b[0mlen\u001b[0m\u001b[0;34m(\u001b[0m\u001b[0mb\u001b[0m\u001b[0;34m)\u001b[0m\u001b[0;34m\u001b[0m\u001b[0;34m\u001b[0m\u001b[0m\n\u001b[0m",
            "\u001b[0;31mTypeError\u001b[0m: object of type 'list_iterator' has no len()"
          ]
        }
      ]
    },
    {
      "cell_type": "code",
      "source": [
        "# list로 바꿔주면 내부의 남은 값을 알 수 있다.\n",
        "c = list(b)\n",
        "c"
      ],
      "metadata": {
        "colab": {
          "base_uri": "https://localhost:8080/"
        },
        "id": "Lnva-A3lH5C7",
        "outputId": "2f5304b4-4018-4943-e7c8-6c7de4461713"
      },
      "execution_count": 30,
      "outputs": [
        {
          "output_type": "execute_result",
          "data": {
            "text/plain": [
              "[1, 2, 3]"
            ]
          },
          "metadata": {},
          "execution_count": 30
        }
      ]
    },
    {
      "cell_type": "code",
      "source": [
        "len(c)"
      ],
      "metadata": {
        "colab": {
          "base_uri": "https://localhost:8080/"
        },
        "id": "hWHs8YVaI06a",
        "outputId": "220e0ebc-46c0-4f83-8b1b-e4e383d08569"
      },
      "execution_count": 31,
      "outputs": [
        {
          "output_type": "execute_result",
          "data": {
            "text/plain": [
              "3"
            ]
          },
          "metadata": {},
          "execution_count": 31
        }
      ]
    },
    {
      "cell_type": "code",
      "source": [
        "c[1]"
      ],
      "metadata": {
        "colab": {
          "base_uri": "https://localhost:8080/"
        },
        "id": "HuoixCwGJEEa",
        "outputId": "2e7e11b1-232f-47a4-c0f5-0ceee6d1d85b"
      },
      "execution_count": 32,
      "outputs": [
        {
          "output_type": "execute_result",
          "data": {
            "text/plain": [
              "2"
            ]
          },
          "metadata": {},
          "execution_count": 32
        }
      ]
    },
    {
      "cell_type": "code",
      "source": [
        "a = {1, 2, 3}\n",
        "b = iter(a)\n",
        "b"
      ],
      "metadata": {
        "colab": {
          "base_uri": "https://localhost:8080/"
        },
        "id": "X0t6d7GQJFfq",
        "outputId": "faf1d2b0-c458-461c-f43a-9adf7bbddf4c"
      },
      "execution_count": 33,
      "outputs": [
        {
          "output_type": "execute_result",
          "data": {
            "text/plain": [
              "<set_iterator at 0x7f6e789c2b40>"
            ]
          },
          "metadata": {},
          "execution_count": 33
        }
      ]
    },
    {
      "cell_type": "code",
      "source": [
        "next(b)"
      ],
      "metadata": {
        "colab": {
          "base_uri": "https://localhost:8080/"
        },
        "id": "JsTRJqEtJsfz",
        "outputId": "3209c667-66d5-4a18-b3cf-85d7d44132f5"
      },
      "execution_count": 34,
      "outputs": [
        {
          "output_type": "execute_result",
          "data": {
            "text/plain": [
              "1"
            ]
          },
          "metadata": {},
          "execution_count": 34
        }
      ]
    },
    {
      "cell_type": "code",
      "source": [
        "c = set(b)\n",
        "c"
      ],
      "metadata": {
        "colab": {
          "base_uri": "https://localhost:8080/"
        },
        "id": "m3YeY0-qJt7T",
        "outputId": "71859474-d7f5-4225-cae2-fa78c21973c2"
      },
      "execution_count": 35,
      "outputs": [
        {
          "output_type": "execute_result",
          "data": {
            "text/plain": [
              "{2, 3}"
            ]
          },
          "metadata": {},
          "execution_count": 35
        }
      ]
    },
    {
      "cell_type": "code",
      "source": [
        "a = {'k':1, 'm':2}\n",
        "b = iter(a)\n",
        "b"
      ],
      "metadata": {
        "colab": {
          "base_uri": "https://localhost:8080/"
        },
        "id": "kerIOwg1Jvnj",
        "outputId": "c6d3d36a-2bf9-4b7b-df54-6b48276a539b"
      },
      "execution_count": 39,
      "outputs": [
        {
          "output_type": "execute_result",
          "data": {
            "text/plain": [
              "<dict_keyiterator at 0x7f6e78938270>"
            ]
          },
          "metadata": {},
          "execution_count": 39
        }
      ]
    },
    {
      "cell_type": "code",
      "source": [
        "next(b)"
      ],
      "metadata": {
        "colab": {
          "base_uri": "https://localhost:8080/",
          "height": 35
        },
        "id": "YMmhpmxWJ_gb",
        "outputId": "9b20fa7e-2c96-4625-ba3b-8bd26b4904cc"
      },
      "execution_count": 37,
      "outputs": [
        {
          "output_type": "execute_result",
          "data": {
            "text/plain": [
              "'k'"
            ],
            "application/vnd.google.colaboratory.intrinsic+json": {
              "type": "string"
            }
          },
          "metadata": {},
          "execution_count": 37
        }
      ]
    },
    {
      "cell_type": "code",
      "source": [
        "c = dict(b)\n",
        "c"
      ],
      "metadata": {
        "colab": {
          "base_uri": "https://localhost:8080/",
          "height": 193
        },
        "id": "DpAlH9DCKBJz",
        "outputId": "f0eafdaf-6922-48b3-9837-af117cb6e0e4"
      },
      "execution_count": 38,
      "outputs": [
        {
          "output_type": "error",
          "ename": "ValueError",
          "evalue": "ignored",
          "traceback": [
            "\u001b[0;31m---------------------------------------------------------------------------\u001b[0m",
            "\u001b[0;31mValueError\u001b[0m                                Traceback (most recent call last)",
            "\u001b[0;32m<ipython-input-38-83539a64fd78>\u001b[0m in \u001b[0;36m<module>\u001b[0;34m\u001b[0m\n\u001b[0;32m----> 1\u001b[0;31m \u001b[0mc\u001b[0m \u001b[0;34m=\u001b[0m \u001b[0mdict\u001b[0m\u001b[0;34m(\u001b[0m\u001b[0mb\u001b[0m\u001b[0;34m)\u001b[0m\u001b[0;34m\u001b[0m\u001b[0;34m\u001b[0m\u001b[0m\n\u001b[0m\u001b[1;32m      2\u001b[0m \u001b[0mc\u001b[0m\u001b[0;34m\u001b[0m\u001b[0;34m\u001b[0m\u001b[0m\n",
            "\u001b[0;31mValueError\u001b[0m: dictionary update sequence element #0 has length 1; 2 is required"
          ]
        }
      ]
    },
    {
      "cell_type": "code",
      "source": [
        "# dict_keyiterator은 key만 가져온다.\n",
        "next(b)"
      ],
      "metadata": {
        "colab": {
          "base_uri": "https://localhost:8080/",
          "height": 35
        },
        "id": "zXvMx4KUKFp7",
        "outputId": "0e56865a-b093-43fe-b773-bce17ef65091"
      },
      "execution_count": 40,
      "outputs": [
        {
          "output_type": "execute_result",
          "data": {
            "text/plain": [
              "'k'"
            ],
            "application/vnd.google.colaboratory.intrinsic+json": {
              "type": "string"
            }
          },
          "metadata": {},
          "execution_count": 40
        }
      ]
    },
    {
      "cell_type": "code",
      "source": [
        "c = set(b)\n",
        "c"
      ],
      "metadata": {
        "colab": {
          "base_uri": "https://localhost:8080/"
        },
        "id": "knHCorbTKqyL",
        "outputId": "b5cbdca7-75da-4a45-f34e-5f373656e9d5"
      },
      "execution_count": 41,
      "outputs": [
        {
          "output_type": "execute_result",
          "data": {
            "text/plain": [
              "{'m'}"
            ]
          },
          "metadata": {},
          "execution_count": 41
        }
      ]
    },
    {
      "cell_type": "code",
      "source": [],
      "metadata": {
        "id": "Ij_SFGAvKuiD"
      },
      "execution_count": null,
      "outputs": []
    },
    {
      "cell_type": "markdown",
      "source": [
        "comprehrnsion : iterable 객체를 생성할 수 있도록 제공해주는 기법이다.\n",
        "- list, set, dict   \n",
        "\n",
        "tuple은 comprehrnsion은 안되고 generator이다."
      ],
      "metadata": {
        "id": "ASHoSkAEK-Y2"
      }
    },
    {
      "cell_type": "code",
      "source": [
        "[i for i in range(5)]"
      ],
      "metadata": {
        "colab": {
          "base_uri": "https://localhost:8080/"
        },
        "id": "3BsFKz29LmeV",
        "outputId": "f8f8c9be-008c-49c4-bd12-f597f1df877d"
      },
      "execution_count": 43,
      "outputs": [
        {
          "output_type": "execute_result",
          "data": {
            "text/plain": [
              "[0, 1, 2, 3, 4]"
            ]
          },
          "metadata": {},
          "execution_count": 43
        }
      ]
    },
    {
      "cell_type": "code",
      "source": [
        "# generator 만드는 첫번째 방법 : tuple을 comprehension 처럼 사용\n",
        "(i for i in range(5))"
      ],
      "metadata": {
        "colab": {
          "base_uri": "https://localhost:8080/"
        },
        "id": "JLh8mITBLO_1",
        "outputId": "192f49a6-ec8b-41ee-cd96-8ac94624f760"
      },
      "execution_count": 42,
      "outputs": [
        {
          "output_type": "execute_result",
          "data": {
            "text/plain": [
              "<generator object <genexpr> at 0x7f6e788cde40>"
            ]
          },
          "metadata": {},
          "execution_count": 42
        }
      ]
    },
    {
      "cell_type": "code",
      "source": [
        "t = (i for i in range(5))\n",
        "t"
      ],
      "metadata": {
        "colab": {
          "base_uri": "https://localhost:8080/"
        },
        "id": "l5iFyK-uL22E",
        "outputId": "099e4d86-1252-4d89-893b-957a9f07658f"
      },
      "execution_count": 44,
      "outputs": [
        {
          "output_type": "execute_result",
          "data": {
            "text/plain": [
              "<generator object <genexpr> at 0x7f6e788cdba0>"
            ]
          },
          "metadata": {},
          "execution_count": 44
        }
      ]
    },
    {
      "cell_type": "code",
      "source": [
        "dir(t)"
      ],
      "metadata": {
        "colab": {
          "base_uri": "https://localhost:8080/"
        },
        "id": "PPlbXdggMN0k",
        "outputId": "39e127a2-0ec5-4e3d-ee07-9869087ddf32"
      },
      "execution_count": 45,
      "outputs": [
        {
          "output_type": "execute_result",
          "data": {
            "text/plain": [
              "['__class__',\n",
              " '__del__',\n",
              " '__delattr__',\n",
              " '__dir__',\n",
              " '__doc__',\n",
              " '__eq__',\n",
              " '__format__',\n",
              " '__ge__',\n",
              " '__getattribute__',\n",
              " '__gt__',\n",
              " '__hash__',\n",
              " '__init__',\n",
              " '__init_subclass__',\n",
              " '__iter__',\n",
              " '__le__',\n",
              " '__lt__',\n",
              " '__name__',\n",
              " '__ne__',\n",
              " '__new__',\n",
              " '__next__',\n",
              " '__qualname__',\n",
              " '__reduce__',\n",
              " '__reduce_ex__',\n",
              " '__repr__',\n",
              " '__setattr__',\n",
              " '__sizeof__',\n",
              " '__str__',\n",
              " '__subclasshook__',\n",
              " 'close',\n",
              " 'gi_code',\n",
              " 'gi_frame',\n",
              " 'gi_running',\n",
              " 'gi_yieldfrom',\n",
              " 'send',\n",
              " 'throw']"
            ]
          },
          "metadata": {},
          "execution_count": 45
        }
      ]
    },
    {
      "cell_type": "code",
      "source": [
        "next(t)"
      ],
      "metadata": {
        "colab": {
          "base_uri": "https://localhost:8080/"
        },
        "id": "VOb9pljRMPHE",
        "outputId": "97c261ae-cc9f-4839-d3e6-a7ff1953fbaf"
      },
      "execution_count": 46,
      "outputs": [
        {
          "output_type": "execute_result",
          "data": {
            "text/plain": [
              "0"
            ]
          },
          "metadata": {},
          "execution_count": 46
        }
      ]
    },
    {
      "cell_type": "code",
      "source": [
        "# generator 를 만드는 두번째 방법 : yield를 이용하는 방법\n",
        "def y():\n",
        "  yield 1\n",
        "  yield 2"
      ],
      "metadata": {
        "id": "B-GgOlNzMtyU"
      },
      "execution_count": 47,
      "outputs": []
    },
    {
      "cell_type": "code",
      "source": [
        "t = y()\n",
        "t"
      ],
      "metadata": {
        "colab": {
          "base_uri": "https://localhost:8080/"
        },
        "id": "ub7VSsdWQyEe",
        "outputId": "a3d6d4d0-7959-4b1d-936a-2e68c3fc2993"
      },
      "execution_count": 48,
      "outputs": [
        {
          "output_type": "execute_result",
          "data": {
            "text/plain": [
              "<generator object y at 0x7f6e788cddd0>"
            ]
          },
          "metadata": {},
          "execution_count": 48
        }
      ]
    },
    {
      "cell_type": "code",
      "source": [
        "next(t)"
      ],
      "metadata": {
        "colab": {
          "base_uri": "https://localhost:8080/"
        },
        "id": "50gREn3EQ02k",
        "outputId": "ac922ae1-2e58-4d17-85c2-bb4e3e7bad84"
      },
      "execution_count": 49,
      "outputs": [
        {
          "output_type": "execute_result",
          "data": {
            "text/plain": [
              "1"
            ]
          },
          "metadata": {},
          "execution_count": 49
        }
      ]
    },
    {
      "cell_type": "code",
      "source": [
        "next(t)"
      ],
      "metadata": {
        "colab": {
          "base_uri": "https://localhost:8080/"
        },
        "id": "MUr8LS38Q41M",
        "outputId": "0714f786-7210-429d-9a73-11a70bf58a0d"
      },
      "execution_count": 50,
      "outputs": [
        {
          "output_type": "execute_result",
          "data": {
            "text/plain": [
              "2"
            ]
          },
          "metadata": {},
          "execution_count": 50
        }
      ]
    },
    {
      "cell_type": "code",
      "source": [
        "next(t)  # StopIteration:"
      ],
      "metadata": {
        "colab": {
          "base_uri": "https://localhost:8080/",
          "height": 174
        },
        "id": "MBsAkxoSQ5n8",
        "outputId": "9769938c-2255-409f-f498-8876b785500f"
      },
      "execution_count": 51,
      "outputs": [
        {
          "output_type": "error",
          "ename": "StopIteration",
          "evalue": "ignored",
          "traceback": [
            "\u001b[0;31m---------------------------------------------------------------------------\u001b[0m",
            "\u001b[0;31mStopIteration\u001b[0m                             Traceback (most recent call last)",
            "\u001b[0;32m<ipython-input-51-f843efe259be>\u001b[0m in \u001b[0;36m<module>\u001b[0;34m\u001b[0m\n\u001b[0;32m----> 1\u001b[0;31m \u001b[0mnext\u001b[0m\u001b[0;34m(\u001b[0m\u001b[0mt\u001b[0m\u001b[0;34m)\u001b[0m\u001b[0;34m\u001b[0m\u001b[0;34m\u001b[0m\u001b[0m\n\u001b[0m",
            "\u001b[0;31mStopIteration\u001b[0m: "
          ]
        }
      ]
    },
    {
      "cell_type": "code",
      "source": [
        "# range(횟수) 처럼 동작하는 generator 생성\n",
        "def num_gen(stop):\n",
        "  n = 0\n",
        "  while n < stop:\n",
        "    yield n\n",
        "    n += 1"
      ],
      "metadata": {
        "id": "qwPOr_71Q98A"
      },
      "execution_count": 61,
      "outputs": []
    },
    {
      "cell_type": "code",
      "source": [
        "k = num_gen(3)"
      ],
      "metadata": {
        "id": "ZCdxP0tBRSRd"
      },
      "execution_count": 62,
      "outputs": []
    },
    {
      "cell_type": "code",
      "source": [
        "next(k)"
      ],
      "metadata": {
        "colab": {
          "base_uri": "https://localhost:8080/"
        },
        "id": "qA8_7ibWRUWd",
        "outputId": "55d11c2a-7ad6-4d8a-826c-3d262a356ca0"
      },
      "execution_count": 55,
      "outputs": [
        {
          "output_type": "execute_result",
          "data": {
            "text/plain": [
              "0"
            ]
          },
          "metadata": {},
          "execution_count": 55
        }
      ]
    },
    {
      "cell_type": "code",
      "source": [
        "for i in range(3):\n",
        "  print(i)"
      ],
      "metadata": {
        "colab": {
          "base_uri": "https://localhost:8080/"
        },
        "id": "WRyzUjtpRmHV",
        "outputId": "759a6db5-cc88-4fe8-906c-377385e1d068"
      },
      "execution_count": 56,
      "outputs": [
        {
          "output_type": "stream",
          "name": "stdout",
          "text": [
            "0\n",
            "1\n",
            "2\n"
          ]
        }
      ]
    },
    {
      "cell_type": "code",
      "source": [
        "next(k)"
      ],
      "metadata": {
        "colab": {
          "base_uri": "https://localhost:8080/"
        },
        "id": "SV1qooInSTEN",
        "outputId": "bc58c6a8-3dc3-4ab6-bec9-6769fde88ebe"
      },
      "execution_count": 63,
      "outputs": [
        {
          "output_type": "execute_result",
          "data": {
            "text/plain": [
              "0"
            ]
          },
          "metadata": {},
          "execution_count": 63
        }
      ]
    },
    {
      "cell_type": "code",
      "source": [],
      "metadata": {
        "id": "In2_gAEPSXL1"
      },
      "execution_count": null,
      "outputs": []
    },
    {
      "cell_type": "markdown",
      "source": [
        "숫자로 구성된 하나의 리스트를 입력받아, 짝수들을 추출하여 리스트로 반환하는 pickup_enve 함수를 구현할 때 list comprehen를 사용"
      ],
      "metadata": {
        "id": "XSFaUq4wTg4B"
      }
    },
    {
      "cell_type": "code",
      "source": [
        "a = []\n",
        "def pickup_even(items):\n",
        "  for i in items:\n",
        "    if i % 2 == 0:\n",
        "      a.append(i)\n",
        "  print(a)"
      ],
      "metadata": {
        "id": "NhcdOZhBT1u-"
      },
      "execution_count": 68,
      "outputs": []
    },
    {
      "cell_type": "code",
      "source": [
        "pickup_even([3, 4, 5, 6, 7, 8])"
      ],
      "metadata": {
        "colab": {
          "base_uri": "https://localhost:8080/"
        },
        "id": "ozEvOhbRUcD-",
        "outputId": "bfe60691-fa55-4bfe-f95d-2b25fa6eab7d"
      },
      "execution_count": 69,
      "outputs": [
        {
          "output_type": "stream",
          "name": "stdout",
          "text": [
            "[4, 6, 8]\n"
          ]
        }
      ]
    },
    {
      "cell_type": "code",
      "source": [],
      "metadata": {
        "id": "ziPxrMt4UgN2"
      },
      "execution_count": null,
      "outputs": []
    },
    {
      "cell_type": "code",
      "source": [
        "a = []\n",
        "def pickup_even(items):\n",
        "  return [i for i in items if i % 2 == 0]"
      ],
      "metadata": {
        "id": "ZnYwuWtvUwFh"
      },
      "execution_count": 70,
      "outputs": []
    },
    {
      "cell_type": "code",
      "source": [
        "pickup_even([3, 4, 5, 6, 7, 8])"
      ],
      "metadata": {
        "colab": {
          "base_uri": "https://localhost:8080/"
        },
        "id": "Bo29pbM2U53e",
        "outputId": "363bd534-4855-447a-a4dd-9dd119bbeb18"
      },
      "execution_count": 71,
      "outputs": [
        {
          "output_type": "execute_result",
          "data": {
            "text/plain": [
              "[4, 6, 8]"
            ]
          },
          "metadata": {},
          "execution_count": 71
        }
      ]
    },
    {
      "cell_type": "code",
      "source": [],
      "metadata": {
        "id": "fM8faOUfU75-"
      },
      "execution_count": null,
      "outputs": []
    },
    {
      "cell_type": "markdown",
      "source": [
        "총 판매금액을 구하는 프로그램(list comprehension을 사용)  \n",
        "\n",
        "cnt = [1, 1, 2, 1]  \n",
        "\n",
        "prod = [500, 1000, 400, 600]"
      ],
      "metadata": {
        "id": "Ykw2BttBVY_Z"
      }
    },
    {
      "cell_type": "code",
      "source": [
        "cnt = [1, 1, 2, 1]\n",
        "prod = [500, 1000, 400, 600]\n",
        "sum([c * p for c, p in zip(cnt, prod)])"
      ],
      "metadata": {
        "colab": {
          "base_uri": "https://localhost:8080/"
        },
        "id": "borQACneVj_m",
        "outputId": "9e4ff45f-16c0-46cf-ff23-256784eaa898"
      },
      "execution_count": 73,
      "outputs": [
        {
          "output_type": "execute_result",
          "data": {
            "text/plain": [
              "2900"
            ]
          },
          "metadata": {},
          "execution_count": 73
        }
      ]
    },
    {
      "cell_type": "code",
      "source": [],
      "metadata": {
        "id": "G0OAxtDgV0Y-"
      },
      "execution_count": null,
      "outputs": []
    },
    {
      "cell_type": "markdown",
      "source": [
        "리스트에서 짝수값만 추출해서 index와 함께 출력하는 프로그램을 구현하세요.  \n",
        "data = [1, 3, 5, 8, 9, 11, 15, 19, 18, 20, 30, 33, 31]"
      ],
      "metadata": {
        "id": "PaZMhb7sXBwR"
      }
    },
    {
      "cell_type": "code",
      "source": [
        "data = [1, 3, 5, 8, 9, 11, 15, 19, 18, 20, 30, 33, 31]\n",
        "for i, v in enumerate([i for i in data if i % 2 == 0]):\n",
        "  print(i, v)"
      ],
      "metadata": {
        "colab": {
          "base_uri": "https://localhost:8080/"
        },
        "id": "fYWpvO_4XOJu",
        "outputId": "8b0cd8d1-9ea5-423c-e458-9f8887629e30"
      },
      "execution_count": 77,
      "outputs": [
        {
          "output_type": "stream",
          "name": "stdout",
          "text": [
            "0 8\n",
            "1 18\n",
            "2 20\n",
            "3 30\n"
          ]
        }
      ]
    },
    {
      "cell_type": "code",
      "source": [],
      "metadata": {
        "id": "iQXcsmg0XuhG"
      },
      "execution_count": null,
      "outputs": []
    },
    {
      "cell_type": "markdown",
      "source": [
        "'e'가 포함되어 있는 과일들만 추출해서 대문자로 출력하는 프로그램을 구현하세요.  \n",
        "frults = ['apple', 'bananan', 'cherry', 'grape', 'kiwi', 'tomato']  \n",
        "\n",
        "[출력결과]  \n",
        "['APPLE', 'CHERRY', 'GRAPE']"
      ],
      "metadata": {
        "id": "XFH7P_9Ac8lj"
      }
    },
    {
      "cell_type": "code",
      "source": [
        "frults = ['apple', 'bananan', 'cherry', 'grape', 'kiwi', 'tomato']\n",
        "result = [f.upper() for f in frults if 'e' in f]\n",
        "print(result)"
      ],
      "metadata": {
        "colab": {
          "base_uri": "https://localhost:8080/"
        },
        "id": "UYoa_bkPdYfQ",
        "outputId": "fb313a29-7d47-4326-8481-02aef30295c4"
      },
      "execution_count": 80,
      "outputs": [
        {
          "output_type": "stream",
          "name": "stdout",
          "text": [
            "['APPLE', 'CHERRY', 'GRAPE']\n"
          ]
        }
      ]
    },
    {
      "cell_type": "code",
      "source": [],
      "metadata": {
        "id": "r9R5nYjRdsLI"
      },
      "execution_count": null,
      "outputs": []
    }
  ]
}