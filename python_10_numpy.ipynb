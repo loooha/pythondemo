{
  "nbformat": 4,
  "nbformat_minor": 0,
  "metadata": {
    "colab": {
      "provenance": [],
      "collapsed_sections": [
        "2XhD7YZxf-vs",
        "f-1nvEGPhJxs",
        "B9R7TjTpil1s",
        "ENxZoVyPjis9",
        "ubsl7nJqnlHk",
        "WKq9bF8UpcEl",
        "7SRyuIG8rC-b",
        "mzs1IgHCssdj",
        "5GMxZGn2uqsT",
        "5cdSy5B4vnYz",
        "3sdYaKGk5RgT",
        "nTf-Ue2d5jiJ",
        "PWHuMCu_7gbq",
        "B1BYOw7X-Tc5",
        "fMk37D3B-pHy"
      ],
      "include_colab_link": true
    },
    "kernelspec": {
      "name": "python3",
      "display_name": "Python 3"
    },
    "language_info": {
      "name": "python"
    }
  },
  "cells": [
    {
      "cell_type": "markdown",
      "metadata": {
        "id": "view-in-github",
        "colab_type": "text"
      },
      "source": [
        "<a href=\"https://colab.research.google.com/github/loooha/pythondemo/blob/main/python_10_numpy.ipynb\" target=\"_parent\"><img src=\"https://colab.research.google.com/assets/colab-badge.svg\" alt=\"Open In Colab\"/></a>"
      ]
    },
    {
      "cell_type": "markdown",
      "source": [
        "# Numpy\n",
        "- Numpy는 Numerical Python의 줄임말로, 파이썬에서 산술 계산을 위한 가장 필수 패키지 중 하나이다.\n",
        "- 과학 계산을 위한 대부분의 패키지는 NumPy의 배열 객체를 데이터 교환을 위한 공통 언어처럼 사용한다.\n",
        "- 효율적인 다차원 배열인 ndarray(n dimensional array)는 빠른 배열 계산과 유연한 브로드캐스팅 기능을 제공한다.\n",
        "- 반복문을 작성할 필요 없이 전체 데이터 배열을 빠르게 계산할 수 있는 표준 수학 함수이다.\n",
        "- 배열 데이터를 디스크에 쓰거나 읽을 수 있는 도구와 메모리에 적재된 파일을 다루는 도구이다.\n",
        "- 선형대수, 난수 생성기등에 사용된다.\n",
        "- C, C++, 포트란으로 작성한 코드를 연결할 수 있는 C API가 제공된다.\n",
        "\n",
        "공식문서 https://numpy.org/doc/stable/  \n",
        "numpy 100 문제 https://github.com/rougier/numpy-100"
      ],
      "metadata": {
        "id": "PxsQV_pLWVmm"
      }
    },
    {
      "cell_type": "markdown",
      "source": [
        "### 1. 데이터 생성"
      ],
      "metadata": {
        "id": "sH9n4WD6ZUNt"
      }
    },
    {
      "cell_type": "code",
      "execution_count": null,
      "metadata": {
        "id": "mC3N2QdpVcIG"
      },
      "outputs": [],
      "source": [
        "# !pip install numpy -> numpy 설치 필요한 경우는 작성 및 실행하여 설치\n",
        "import numpy as np"
      ]
    },
    {
      "cell_type": "code",
      "source": [
        "a = np.zeros(3) #1차원 배열 = 벡터\n",
        "a"
      ],
      "metadata": {
        "colab": {
          "base_uri": "https://localhost:8080/"
        },
        "id": "BApCSQ3VZYxH",
        "outputId": "2701d76e-3fcd-4724-c5bb-cc8c55f1c6bb"
      },
      "execution_count": null,
      "outputs": [
        {
          "output_type": "execute_result",
          "data": {
            "text/plain": [
              "array([0., 0., 0.])"
            ]
          },
          "metadata": {},
          "execution_count": 2
        }
      ]
    },
    {
      "cell_type": "code",
      "source": [
        "print(a)"
      ],
      "metadata": {
        "colab": {
          "base_uri": "https://localhost:8080/"
        },
        "id": "IYCILyrxZxFk",
        "outputId": "6d148c00-2fdd-44e3-cf08-b44aac835ffa"
      },
      "execution_count": null,
      "outputs": [
        {
          "output_type": "stream",
          "name": "stdout",
          "text": [
            "[0. 0. 0.]\n"
          ]
        }
      ]
    },
    {
      "cell_type": "code",
      "source": [
        "# 처음 객체들은 type( ), dir( )을 해본다\n",
        "print(type(a))\n",
        "print(dir(a))"
      ],
      "metadata": {
        "colab": {
          "base_uri": "https://localhost:8080/"
        },
        "id": "byMb_ZzpZ6b1",
        "outputId": "b30ee5f3-b5ad-4afd-85be-096baa1f2db2"
      },
      "execution_count": null,
      "outputs": [
        {
          "output_type": "stream",
          "name": "stdout",
          "text": [
            "<class 'numpy.ndarray'>\n",
            "['T', '__abs__', '__add__', '__and__', '__array__', '__array_finalize__', '__array_function__', '__array_interface__', '__array_prepare__', '__array_priority__', '__array_struct__', '__array_ufunc__', '__array_wrap__', '__bool__', '__class__', '__complex__', '__contains__', '__copy__', '__deepcopy__', '__delattr__', '__delitem__', '__dir__', '__divmod__', '__doc__', '__eq__', '__float__', '__floordiv__', '__format__', '__ge__', '__getattribute__', '__getitem__', '__gt__', '__hash__', '__iadd__', '__iand__', '__ifloordiv__', '__ilshift__', '__imatmul__', '__imod__', '__imul__', '__index__', '__init__', '__init_subclass__', '__int__', '__invert__', '__ior__', '__ipow__', '__irshift__', '__isub__', '__iter__', '__itruediv__', '__ixor__', '__le__', '__len__', '__lshift__', '__lt__', '__matmul__', '__mod__', '__mul__', '__ne__', '__neg__', '__new__', '__or__', '__pos__', '__pow__', '__radd__', '__rand__', '__rdivmod__', '__reduce__', '__reduce_ex__', '__repr__', '__rfloordiv__', '__rlshift__', '__rmatmul__', '__rmod__', '__rmul__', '__ror__', '__rpow__', '__rrshift__', '__rshift__', '__rsub__', '__rtruediv__', '__rxor__', '__setattr__', '__setitem__', '__setstate__', '__sizeof__', '__str__', '__sub__', '__subclasshook__', '__truediv__', '__xor__', 'all', 'any', 'argmax', 'argmin', 'argpartition', 'argsort', 'astype', 'base', 'byteswap', 'choose', 'clip', 'compress', 'conj', 'conjugate', 'copy', 'ctypes', 'cumprod', 'cumsum', 'data', 'diagonal', 'dot', 'dtype', 'dump', 'dumps', 'fill', 'flags', 'flat', 'flatten', 'getfield', 'imag', 'item', 'itemset', 'itemsize', 'max', 'mean', 'min', 'nbytes', 'ndim', 'newbyteorder', 'nonzero', 'partition', 'prod', 'ptp', 'put', 'ravel', 'real', 'repeat', 'reshape', 'resize', 'round', 'searchsorted', 'setfield', 'setflags', 'shape', 'size', 'sort', 'squeeze', 'std', 'strides', 'sum', 'swapaxes', 'take', 'tobytes', 'tofile', 'tolist', 'tostring', 'trace', 'transpose', 'var', 'view']\n"
          ]
        }
      ]
    },
    {
      "cell_type": "code",
      "source": [
        "#  1차원 배열 = 벡터\n",
        "a = np.array([1,2,3])\n",
        "a"
      ],
      "metadata": {
        "colab": {
          "base_uri": "https://localhost:8080/"
        },
        "id": "YZTwZJP5aHFW",
        "outputId": "ef45dbc5-4dea-47ca-a9a6-06597df64dbd"
      },
      "execution_count": null,
      "outputs": [
        {
          "output_type": "execute_result",
          "data": {
            "text/plain": [
              "array([1, 2, 3])"
            ]
          },
          "metadata": {},
          "execution_count": 7
        }
      ]
    },
    {
      "cell_type": "code",
      "source": [
        "print(type(a))\n",
        "print(dir(a))\n",
        "print(len(dir(a)))"
      ],
      "metadata": {
        "colab": {
          "base_uri": "https://localhost:8080/"
        },
        "id": "oYEe9uwccYyl",
        "outputId": "ce00270c-de16-4a4d-e6cc-f8ead9b0d557"
      },
      "execution_count": null,
      "outputs": [
        {
          "output_type": "stream",
          "name": "stdout",
          "text": [
            "<class 'numpy.ndarray'>\n",
            "['T', '__abs__', '__add__', '__and__', '__array__', '__array_finalize__', '__array_function__', '__array_interface__', '__array_prepare__', '__array_priority__', '__array_struct__', '__array_ufunc__', '__array_wrap__', '__bool__', '__class__', '__complex__', '__contains__', '__copy__', '__deepcopy__', '__delattr__', '__delitem__', '__dir__', '__divmod__', '__doc__', '__eq__', '__float__', '__floordiv__', '__format__', '__ge__', '__getattribute__', '__getitem__', '__gt__', '__hash__', '__iadd__', '__iand__', '__ifloordiv__', '__ilshift__', '__imatmul__', '__imod__', '__imul__', '__index__', '__init__', '__init_subclass__', '__int__', '__invert__', '__ior__', '__ipow__', '__irshift__', '__isub__', '__iter__', '__itruediv__', '__ixor__', '__le__', '__len__', '__lshift__', '__lt__', '__matmul__', '__mod__', '__mul__', '__ne__', '__neg__', '__new__', '__or__', '__pos__', '__pow__', '__radd__', '__rand__', '__rdivmod__', '__reduce__', '__reduce_ex__', '__repr__', '__rfloordiv__', '__rlshift__', '__rmatmul__', '__rmod__', '__rmul__', '__ror__', '__rpow__', '__rrshift__', '__rshift__', '__rsub__', '__rtruediv__', '__rxor__', '__setattr__', '__setitem__', '__setstate__', '__sizeof__', '__str__', '__sub__', '__subclasshook__', '__truediv__', '__xor__', 'all', 'any', 'argmax', 'argmin', 'argpartition', 'argsort', 'astype', 'base', 'byteswap', 'choose', 'clip', 'compress', 'conj', 'conjugate', 'copy', 'ctypes', 'cumprod', 'cumsum', 'data', 'diagonal', 'dot', 'dtype', 'dump', 'dumps', 'fill', 'flags', 'flat', 'flatten', 'getfield', 'imag', 'item', 'itemset', 'itemsize', 'max', 'mean', 'min', 'nbytes', 'ndim', 'newbyteorder', 'nonzero', 'partition', 'prod', 'ptp', 'put', 'ravel', 'real', 'repeat', 'reshape', 'resize', 'round', 'searchsorted', 'setfield', 'setflags', 'shape', 'size', 'sort', 'squeeze', 'std', 'strides', 'sum', 'swapaxes', 'take', 'tobytes', 'tofile', 'tolist', 'tostring', 'trace', 'transpose', 'var', 'view']\n",
            "162\n"
          ]
        }
      ]
    },
    {
      "cell_type": "code",
      "source": [
        "# 2차원 배열 = 행렬\n",
        "b = np.array([[1,2],[3,4]])\n",
        "b"
      ],
      "metadata": {
        "colab": {
          "base_uri": "https://localhost:8080/"
        },
        "id": "Ou9TRJvIae2F",
        "outputId": "6b73b768-032d-4a32-d571-0b42408e933e"
      },
      "execution_count": null,
      "outputs": [
        {
          "output_type": "execute_result",
          "data": {
            "text/plain": [
              "array([[1, 2],\n",
              "       [3, 4]])"
            ]
          },
          "metadata": {},
          "execution_count": 9
        }
      ]
    },
    {
      "cell_type": "code",
      "source": [
        "print(type(b))\n",
        "print(dir(b))\n",
        "print(len(dir(b)))"
      ],
      "metadata": {
        "colab": {
          "base_uri": "https://localhost:8080/"
        },
        "id": "6UO1LA31ar4V",
        "outputId": "80366e27-913b-4cd6-ad90-7084f0dc0229"
      },
      "execution_count": null,
      "outputs": [
        {
          "output_type": "stream",
          "name": "stdout",
          "text": [
            "<class 'numpy.ndarray'>\n",
            "['T', '__abs__', '__add__', '__and__', '__array__', '__array_finalize__', '__array_function__', '__array_interface__', '__array_prepare__', '__array_priority__', '__array_struct__', '__array_ufunc__', '__array_wrap__', '__bool__', '__class__', '__complex__', '__contains__', '__copy__', '__deepcopy__', '__delattr__', '__delitem__', '__dir__', '__divmod__', '__doc__', '__eq__', '__float__', '__floordiv__', '__format__', '__ge__', '__getattribute__', '__getitem__', '__gt__', '__hash__', '__iadd__', '__iand__', '__ifloordiv__', '__ilshift__', '__imatmul__', '__imod__', '__imul__', '__index__', '__init__', '__init_subclass__', '__int__', '__invert__', '__ior__', '__ipow__', '__irshift__', '__isub__', '__iter__', '__itruediv__', '__ixor__', '__le__', '__len__', '__lshift__', '__lt__', '__matmul__', '__mod__', '__mul__', '__ne__', '__neg__', '__new__', '__or__', '__pos__', '__pow__', '__radd__', '__rand__', '__rdivmod__', '__reduce__', '__reduce_ex__', '__repr__', '__rfloordiv__', '__rlshift__', '__rmatmul__', '__rmod__', '__rmul__', '__ror__', '__rpow__', '__rrshift__', '__rshift__', '__rsub__', '__rtruediv__', '__rxor__', '__setattr__', '__setitem__', '__setstate__', '__sizeof__', '__str__', '__sub__', '__subclasshook__', '__truediv__', '__xor__', 'all', 'any', 'argmax', 'argmin', 'argpartition', 'argsort', 'astype', 'base', 'byteswap', 'choose', 'clip', 'compress', 'conj', 'conjugate', 'copy', 'ctypes', 'cumprod', 'cumsum', 'data', 'diagonal', 'dot', 'dtype', 'dump', 'dumps', 'fill', 'flags', 'flat', 'flatten', 'getfield', 'imag', 'item', 'itemset', 'itemsize', 'max', 'mean', 'min', 'nbytes', 'ndim', 'newbyteorder', 'nonzero', 'partition', 'prod', 'ptp', 'put', 'ravel', 'real', 'repeat', 'reshape', 'resize', 'round', 'searchsorted', 'setfield', 'setflags', 'shape', 'size', 'sort', 'squeeze', 'std', 'strides', 'sum', 'swapaxes', 'take', 'tobytes', 'tofile', 'tolist', 'tostring', 'trace', 'transpose', 'var', 'view']\n",
            "162\n"
          ]
        }
      ]
    },
    {
      "cell_type": "code",
      "source": [
        "# 3차원 배열 이상 = 텐서(tensor)\n",
        "c = np.array([[[1,2],[3,4]],\n",
        "              [[5,6],[7,8]]])\n",
        "c"
      ],
      "metadata": {
        "colab": {
          "base_uri": "https://localhost:8080/"
        },
        "id": "cH5-_Vwxa5Ll",
        "outputId": "86a05338-0f97-4a1b-819d-8d4f3a93c9bf"
      },
      "execution_count": null,
      "outputs": [
        {
          "output_type": "execute_result",
          "data": {
            "text/plain": [
              "array([[[1, 2],\n",
              "        [3, 4]],\n",
              "\n",
              "       [[5, 6],\n",
              "        [7, 8]]])"
            ]
          },
          "metadata": {},
          "execution_count": 13
        }
      ]
    },
    {
      "cell_type": "code",
      "source": [
        "print(type(c))\n",
        "print(dir(c))\n",
        "print(len(dir(c)))"
      ],
      "metadata": {
        "colab": {
          "base_uri": "https://localhost:8080/"
        },
        "id": "03wNcZjXbPqe",
        "outputId": "7e852a84-2a16-4ef2-8a7b-1f431eda9355"
      },
      "execution_count": null,
      "outputs": [
        {
          "output_type": "stream",
          "name": "stdout",
          "text": [
            "<class 'numpy.ndarray'>\n",
            "['T', '__abs__', '__add__', '__and__', '__array__', '__array_finalize__', '__array_function__', '__array_interface__', '__array_prepare__', '__array_priority__', '__array_struct__', '__array_ufunc__', '__array_wrap__', '__bool__', '__class__', '__complex__', '__contains__', '__copy__', '__deepcopy__', '__delattr__', '__delitem__', '__dir__', '__divmod__', '__doc__', '__eq__', '__float__', '__floordiv__', '__format__', '__ge__', '__getattribute__', '__getitem__', '__gt__', '__hash__', '__iadd__', '__iand__', '__ifloordiv__', '__ilshift__', '__imatmul__', '__imod__', '__imul__', '__index__', '__init__', '__init_subclass__', '__int__', '__invert__', '__ior__', '__ipow__', '__irshift__', '__isub__', '__iter__', '__itruediv__', '__ixor__', '__le__', '__len__', '__lshift__', '__lt__', '__matmul__', '__mod__', '__mul__', '__ne__', '__neg__', '__new__', '__or__', '__pos__', '__pow__', '__radd__', '__rand__', '__rdivmod__', '__reduce__', '__reduce_ex__', '__repr__', '__rfloordiv__', '__rlshift__', '__rmatmul__', '__rmod__', '__rmul__', '__ror__', '__rpow__', '__rrshift__', '__rshift__', '__rsub__', '__rtruediv__', '__rxor__', '__setattr__', '__setitem__', '__setstate__', '__sizeof__', '__str__', '__sub__', '__subclasshook__', '__truediv__', '__xor__', 'all', 'any', 'argmax', 'argmin', 'argpartition', 'argsort', 'astype', 'base', 'byteswap', 'choose', 'clip', 'compress', 'conj', 'conjugate', 'copy', 'ctypes', 'cumprod', 'cumsum', 'data', 'diagonal', 'dot', 'dtype', 'dump', 'dumps', 'fill', 'flags', 'flat', 'flatten', 'getfield', 'imag', 'item', 'itemset', 'itemsize', 'max', 'mean', 'min', 'nbytes', 'ndim', 'newbyteorder', 'nonzero', 'partition', 'prod', 'ptp', 'put', 'ravel', 'real', 'repeat', 'reshape', 'resize', 'round', 'searchsorted', 'setfield', 'setflags', 'shape', 'size', 'sort', 'squeeze', 'std', 'strides', 'sum', 'swapaxes', 'take', 'tobytes', 'tofile', 'tolist', 'tostring', 'trace', 'transpose', 'var', 'view']\n",
            "162\n"
          ]
        }
      ]
    },
    {
      "cell_type": "code",
      "source": [
        "# 문자 데이터가 하나라도 있으면 전체가 문자로 바뀐다.\n",
        "# numpy는 homogeneous이다.\n",
        "a = np.array([1,'2',3])\n",
        "print(a)\n",
        "print(type(a))\n",
        "print(type(a[0])) #<class 'numpy.str_'> "
      ],
      "metadata": {
        "colab": {
          "base_uri": "https://localhost:8080/"
        },
        "id": "kRSTH3dwcPel",
        "outputId": "970f8850-34bd-4f23-a708-9de096db6981"
      },
      "execution_count": null,
      "outputs": [
        {
          "output_type": "stream",
          "name": "stdout",
          "text": [
            "['1' '2' '3']\n",
            "<class 'numpy.ndarray'>\n",
            "<class 'numpy.str_'>\n"
          ]
        }
      ]
    },
    {
      "cell_type": "code",
      "source": [
        "b = np.array(['a',1,True]) # 다 문자열로 취급\n",
        "print(b)\n",
        "print(type(b))\n",
        "b #array(['a', '1', 'True'], dtype='<U21') -> U는 유니코드를 의미"
      ],
      "metadata": {
        "colab": {
          "base_uri": "https://localhost:8080/"
        },
        "id": "8DOMYnsjc81c",
        "outputId": "733cb251-c61b-454f-ec0d-0b525031d349"
      },
      "execution_count": null,
      "outputs": [
        {
          "output_type": "stream",
          "name": "stdout",
          "text": [
            "['a' '1' 'True']\n",
            "<class 'numpy.ndarray'>\n"
          ]
        },
        {
          "output_type": "execute_result",
          "data": {
            "text/plain": [
              "array(['a', '1', 'True'], dtype='<U21')"
            ]
          },
          "metadata": {},
          "execution_count": 24
        }
      ]
    },
    {
      "cell_type": "code",
      "source": [
        "c= np.array([1, True, 2, False])\n",
        "print(c)\n",
        "print(type(c))\n",
        "c\n",
        "print(type(c[0])) #<class 'numpy.int64'> -> 부호있는 64"
      ],
      "metadata": {
        "colab": {
          "base_uri": "https://localhost:8080/"
        },
        "id": "ia8sUEiRdjbM",
        "outputId": "0ceb53a3-1248-4b75-c205-cfe2944fcedd"
      },
      "execution_count": null,
      "outputs": [
        {
          "output_type": "stream",
          "name": "stdout",
          "text": [
            "[1 1 2 0]\n",
            "<class 'numpy.ndarray'>\n",
            "<class 'numpy.int64'>\n"
          ]
        }
      ]
    },
    {
      "cell_type": "markdown",
      "source": [
        "#### np.zeros\n",
        "- tuple로 인자를 넣으면 그대로 모양을 만든다.\n",
        "- (2, 3) : 2행 3열 행렬을 만든다.\n",
        "- zeros는 기본값으로 0.으로 값을 모두 채운다.(실수)  \n",
        "  a = np.zeros((2,3))  \n",
        "  a = np.zeros([2,3])"
      ],
      "metadata": {
        "id": "2XhD7YZxf-vs"
      }
    },
    {
      "cell_type": "code",
      "source": [
        "a = np.zeros([2,3])\n",
        "a"
      ],
      "metadata": {
        "colab": {
          "base_uri": "https://localhost:8080/"
        },
        "id": "yvR3Ej70eAa0",
        "outputId": "b93385e5-c547-4946-cbb0-3b333fe7c7a8"
      },
      "execution_count": null,
      "outputs": [
        {
          "output_type": "execute_result",
          "data": {
            "text/plain": [
              "array([[0., 0., 0.],\n",
              "       [0., 0., 0.]])"
            ]
          },
          "metadata": {},
          "execution_count": 30
        }
      ]
    },
    {
      "cell_type": "code",
      "source": [
        "c = np.zeros([2,3,2]) \n",
        "c"
      ],
      "metadata": {
        "colab": {
          "base_uri": "https://localhost:8080/"
        },
        "id": "IPJwoGWwgbkM",
        "outputId": "a79acc1a-8c8c-4d80-d5d9-20b15aae38c3"
      },
      "execution_count": null,
      "outputs": [
        {
          "output_type": "execute_result",
          "data": {
            "text/plain": [
              "array([[[0., 0.],\n",
              "        [0., 0.],\n",
              "        [0., 0.]],\n",
              "\n",
              "       [[0., 0.],\n",
              "        [0., 0.],\n",
              "        [0., 0.]]])"
            ]
          },
          "metadata": {},
          "execution_count": 32
        }
      ]
    },
    {
      "cell_type": "markdown",
      "source": [
        "#### np.eye\n",
        "- eye는 단위 행렬\n",
        "- 숫자만 사용할 수 있다."
      ],
      "metadata": {
        "id": "f-1nvEGPhJxs"
      }
    },
    {
      "cell_type": "code",
      "source": [
        "# 인자값이 1개이면 행과 열이 같다. (정방행렬)\n",
        "# 3행 3열 행렬을 생성한다.\n",
        "a = np.eye(3) \n",
        "a"
      ],
      "metadata": {
        "colab": {
          "base_uri": "https://localhost:8080/"
        },
        "id": "hK9fsDZHg0Db",
        "outputId": "9d4a8375-f11e-4582-b764-e88e4054791e"
      },
      "execution_count": null,
      "outputs": [
        {
          "output_type": "execute_result",
          "data": {
            "text/plain": [
              "array([[1., 0., 0.],\n",
              "       [0., 1., 0.],\n",
              "       [0., 0., 1.]])"
            ]
          },
          "metadata": {},
          "execution_count": 34
        }
      ]
    },
    {
      "cell_type": "code",
      "source": [
        "# eye은 행과 열의 크기를 지정할 수 있다. \n",
        "# 3행 2열 행렬생성\n",
        "b = np.eye(3,2)\n",
        "b"
      ],
      "metadata": {
        "colab": {
          "base_uri": "https://localhost:8080/"
        },
        "id": "XQNDh_WUhTND",
        "outputId": "018ba781-31c6-4ad5-cc7c-46b978122a4c"
      },
      "execution_count": null,
      "outputs": [
        {
          "output_type": "execute_result",
          "data": {
            "text/plain": [
              "array([[1., 0.],\n",
              "       [0., 1.],\n",
              "       [0., 0.]])"
            ]
          },
          "metadata": {},
          "execution_count": 35
        }
      ]
    },
    {
      "cell_type": "code",
      "source": [
        "# 크기(1)가 시작되는 위치를 지정할 수 있다.\n",
        "c = np.eye(3,4,1)\n",
        "c"
      ],
      "metadata": {
        "colab": {
          "base_uri": "https://localhost:8080/"
        },
        "id": "a5-gvvLYhjnL",
        "outputId": "03569836-d287-4318-9837-c84bc61cb4f9"
      },
      "execution_count": null,
      "outputs": [
        {
          "output_type": "execute_result",
          "data": {
            "text/plain": [
              "array([[0., 1., 0., 0.],\n",
              "       [0., 0., 1., 0.],\n",
              "       [0., 0., 0., 1.]])"
            ]
          },
          "metadata": {},
          "execution_count": 39
        }
      ]
    },
    {
      "cell_type": "code",
      "source": [
        "d = np.eye(3, k = 1)\n",
        "d"
      ],
      "metadata": {
        "colab": {
          "base_uri": "https://localhost:8080/"
        },
        "id": "aD00TXBYiOnU",
        "outputId": "0b5fc0f9-43b5-4d55-fc30-d99d64db8171"
      },
      "execution_count": null,
      "outputs": [
        {
          "output_type": "execute_result",
          "data": {
            "text/plain": [
              "array([[0., 1., 0.],\n",
              "       [0., 0., 1.],\n",
              "       [0., 0., 0.]])"
            ]
          },
          "metadata": {},
          "execution_count": 40
        }
      ]
    },
    {
      "cell_type": "markdown",
      "source": [
        "### np.identity\n",
        "- 수학에서 단위행렬은 영어로 identity matrix\n",
        "- 크기한개만 지정해서 생성할 수 있다.\n"
      ],
      "metadata": {
        "id": "B9R7TjTpil1s"
      }
    },
    {
      "cell_type": "code",
      "source": [
        "a = np.identity(3)\n",
        "a"
      ],
      "metadata": {
        "colab": {
          "base_uri": "https://localhost:8080/"
        },
        "id": "Y3ducrxUidl8",
        "outputId": "f6b8d66a-9601-4393-b913-943538d090cc"
      },
      "execution_count": null,
      "outputs": [
        {
          "output_type": "execute_result",
          "data": {
            "text/plain": [
              "array([[1., 0., 0.],\n",
              "       [0., 1., 0.],\n",
              "       [0., 0., 1.]])"
            ]
          },
          "metadata": {},
          "execution_count": 57
        }
      ]
    },
    {
      "cell_type": "code",
      "source": [
        "# TypeError\n",
        "# 인자 하나만 지정할 수 있다.\n",
        "b = np.identity(3,2)\n",
        "b"
      ],
      "metadata": {
        "colab": {
          "base_uri": "https://localhost:8080/",
          "height": 345
        },
        "id": "BlVHJuGEi-aE",
        "outputId": "eb1aa877-537f-4ae9-d75a-1b981bebdcec"
      },
      "execution_count": null,
      "outputs": [
        {
          "output_type": "error",
          "ename": "TypeError",
          "evalue": "ignored",
          "traceback": [
            "\u001b[0;31m---------------------------------------------------------------------------\u001b[0m",
            "\u001b[0;31mTypeError\u001b[0m                                 Traceback (most recent call last)",
            "\u001b[0;32m<ipython-input-42-e75c06959309>\u001b[0m in \u001b[0;36m<module>\u001b[0;34m\u001b[0m\n\u001b[0;32m----> 1\u001b[0;31m \u001b[0mb\u001b[0m \u001b[0;34m=\u001b[0m \u001b[0mnp\u001b[0m\u001b[0;34m.\u001b[0m\u001b[0midentity\u001b[0m\u001b[0;34m(\u001b[0m\u001b[0;36m3\u001b[0m\u001b[0;34m,\u001b[0m\u001b[0;36m2\u001b[0m\u001b[0;34m)\u001b[0m\u001b[0;34m\u001b[0m\u001b[0;34m\u001b[0m\u001b[0m\n\u001b[0m\u001b[1;32m      2\u001b[0m \u001b[0mb\u001b[0m\u001b[0;34m\u001b[0m\u001b[0;34m\u001b[0m\u001b[0m\n",
            "\u001b[0;32m/usr/local/lib/python3.8/dist-packages/numpy/core/numeric.py\u001b[0m in \u001b[0;36midentity\u001b[0;34m(n, dtype, like)\u001b[0m\n\u001b[1;32m   2165\u001b[0m \u001b[0;34m\u001b[0m\u001b[0m\n\u001b[1;32m   2166\u001b[0m     \u001b[0;32mfrom\u001b[0m \u001b[0mnumpy\u001b[0m \u001b[0;32mimport\u001b[0m \u001b[0meye\u001b[0m\u001b[0;34m\u001b[0m\u001b[0;34m\u001b[0m\u001b[0m\n\u001b[0;32m-> 2167\u001b[0;31m     \u001b[0;32mreturn\u001b[0m \u001b[0meye\u001b[0m\u001b[0;34m(\u001b[0m\u001b[0mn\u001b[0m\u001b[0;34m,\u001b[0m \u001b[0mdtype\u001b[0m\u001b[0;34m=\u001b[0m\u001b[0mdtype\u001b[0m\u001b[0;34m,\u001b[0m \u001b[0mlike\u001b[0m\u001b[0;34m=\u001b[0m\u001b[0mlike\u001b[0m\u001b[0;34m)\u001b[0m\u001b[0;34m\u001b[0m\u001b[0;34m\u001b[0m\u001b[0m\n\u001b[0m\u001b[1;32m   2168\u001b[0m \u001b[0;34m\u001b[0m\u001b[0m\n\u001b[1;32m   2169\u001b[0m \u001b[0;34m\u001b[0m\u001b[0m\n",
            "\u001b[0;32m/usr/local/lib/python3.8/dist-packages/numpy/lib/twodim_base.py\u001b[0m in \u001b[0;36meye\u001b[0;34m(N, M, k, dtype, order, like)\u001b[0m\n\u001b[1;32m    212\u001b[0m     \u001b[0;32mif\u001b[0m \u001b[0mM\u001b[0m \u001b[0;32mis\u001b[0m \u001b[0;32mNone\u001b[0m\u001b[0;34m:\u001b[0m\u001b[0;34m\u001b[0m\u001b[0;34m\u001b[0m\u001b[0m\n\u001b[1;32m    213\u001b[0m         \u001b[0mM\u001b[0m \u001b[0;34m=\u001b[0m \u001b[0mN\u001b[0m\u001b[0;34m\u001b[0m\u001b[0;34m\u001b[0m\u001b[0m\n\u001b[0;32m--> 214\u001b[0;31m     \u001b[0mm\u001b[0m \u001b[0;34m=\u001b[0m \u001b[0mzeros\u001b[0m\u001b[0;34m(\u001b[0m\u001b[0;34m(\u001b[0m\u001b[0mN\u001b[0m\u001b[0;34m,\u001b[0m \u001b[0mM\u001b[0m\u001b[0;34m)\u001b[0m\u001b[0;34m,\u001b[0m \u001b[0mdtype\u001b[0m\u001b[0;34m=\u001b[0m\u001b[0mdtype\u001b[0m\u001b[0;34m,\u001b[0m \u001b[0morder\u001b[0m\u001b[0;34m=\u001b[0m\u001b[0morder\u001b[0m\u001b[0;34m)\u001b[0m\u001b[0;34m\u001b[0m\u001b[0;34m\u001b[0m\u001b[0m\n\u001b[0m\u001b[1;32m    215\u001b[0m     \u001b[0;32mif\u001b[0m \u001b[0mk\u001b[0m \u001b[0;34m>=\u001b[0m \u001b[0mM\u001b[0m\u001b[0;34m:\u001b[0m\u001b[0;34m\u001b[0m\u001b[0;34m\u001b[0m\u001b[0m\n\u001b[1;32m    216\u001b[0m         \u001b[0;32mreturn\u001b[0m \u001b[0mm\u001b[0m\u001b[0;34m\u001b[0m\u001b[0;34m\u001b[0m\u001b[0m\n",
            "\u001b[0;31mTypeError\u001b[0m: Cannot interpret '2' as a data type"
          ]
        }
      ]
    },
    {
      "cell_type": "markdown",
      "source": [
        "### np.full\n",
        "- 지정한 크기의 배열을 생성하고 채울 값을 지정한다.\n",
        "- 2행 2열의 배열 생성후 1로 채워준다.  \n",
        "  np.full((2,2),1) -> 첫번째 인자값은 tuple로 지정"
      ],
      "metadata": {
        "id": "ENxZoVyPjis9"
      }
    },
    {
      "cell_type": "code",
      "source": [
        "# 2행 2열의 행렬을 생성하고 1로 초기화 해준다\n",
        "a = np.full((2,2), 1)\n",
        "a"
      ],
      "metadata": {
        "colab": {
          "base_uri": "https://localhost:8080/"
        },
        "id": "vtMoRU-0jijs",
        "outputId": "7d9e0692-4de7-4a8f-e2fe-0c209dd03f22"
      },
      "execution_count": null,
      "outputs": [
        {
          "output_type": "execute_result",
          "data": {
            "text/plain": [
              "array([[1, 1],\n",
              "       [1, 1]])"
            ]
          },
          "metadata": {},
          "execution_count": 55
        }
      ]
    },
    {
      "cell_type": "code",
      "source": [
        "# 1행 3열의 배열 생성 후 4로 채워준다.\n",
        "b = np.full(3,4)\n",
        "b"
      ],
      "metadata": {
        "colab": {
          "base_uri": "https://localhost:8080/"
        },
        "id": "W3hL0AkAjEmb",
        "outputId": "bfc3510f-83da-45cb-ebdc-f805d8140c7a"
      },
      "execution_count": null,
      "outputs": [
        {
          "output_type": "execute_result",
          "data": {
            "text/plain": [
              "array([4, 4, 4])"
            ]
          },
          "metadata": {},
          "execution_count": 44
        }
      ]
    },
    {
      "cell_type": "code",
      "source": [
        "c = np.full((2,2), [1,2])\n",
        "c"
      ],
      "metadata": {
        "colab": {
          "base_uri": "https://localhost:8080/"
        },
        "id": "MMnt4pk-m9rb",
        "outputId": "1d587efe-4c2e-491d-c320-fbe894de7b54"
      },
      "execution_count": null,
      "outputs": [
        {
          "output_type": "execute_result",
          "data": {
            "text/plain": [
              "array([[1, 2],\n",
              "       [1, 2]])"
            ]
          },
          "metadata": {},
          "execution_count": 45
        }
      ]
    },
    {
      "cell_type": "code",
      "source": [
        "d = np.full((2,2),[[1,2],[3,4]])\n",
        "d"
      ],
      "metadata": {
        "colab": {
          "base_uri": "https://localhost:8080/"
        },
        "id": "NjhNnT8AnYml",
        "outputId": "9c532f72-1920-4bf4-c958-244cdc0ffae5"
      },
      "execution_count": null,
      "outputs": [
        {
          "output_type": "execute_result",
          "data": {
            "text/plain": [
              "array([[1, 2],\n",
              "       [3, 4]])"
            ]
          },
          "metadata": {},
          "execution_count": 46
        }
      ]
    },
    {
      "cell_type": "markdown",
      "source": [
        "### np.empty\n",
        "- 배열을 생성하고 초기화를 지정하지 않는다.\n",
        "- 메모리에 있는 값이나 이전에 사용했던 값들로 채워진다."
      ],
      "metadata": {
        "id": "ubsl7nJqnlHk"
      }
    },
    {
      "cell_type": "code",
      "source": [
        "a = np.empty(3) \n",
        "a # 메모리에 남아있는 찌꺼기?"
      ],
      "metadata": {
        "colab": {
          "base_uri": "https://localhost:8080/"
        },
        "id": "l-Qae1YAngvr",
        "outputId": "a97120b5-1356-4bf9-c230-47e889fd9e3e"
      },
      "execution_count": null,
      "outputs": [
        {
          "output_type": "execute_result",
          "data": {
            "text/plain": [
              "array([1., 1., 1.])"
            ]
          },
          "metadata": {},
          "execution_count": 58
        }
      ]
    },
    {
      "cell_type": "code",
      "source": [
        "k = np.zeros((2,3))\n",
        "k"
      ],
      "metadata": {
        "colab": {
          "base_uri": "https://localhost:8080/"
        },
        "id": "vIpH_JFhn3UM",
        "outputId": "e462cc87-f9e0-40ad-f113-afda60cd9d68"
      },
      "execution_count": null,
      "outputs": [
        {
          "output_type": "execute_result",
          "data": {
            "text/plain": [
              "array([[0., 0., 0.],\n",
              "       [0., 0., 0.]])"
            ]
          },
          "metadata": {},
          "execution_count": 51
        }
      ]
    },
    {
      "cell_type": "code",
      "source": [
        "# zeros에서 생성한 배열이 있으면 배열의 값을 0으로 채워 준다\n",
        "b = np.empty((2,3))\n",
        "b"
      ],
      "metadata": {
        "colab": {
          "base_uri": "https://localhost:8080/"
        },
        "id": "KnBK_qruobek",
        "outputId": "2bb17b75-23fd-44b0-d28b-214049970c5a"
      },
      "execution_count": null,
      "outputs": [
        {
          "output_type": "execute_result",
          "data": {
            "text/plain": [
              "array([[0., 0., 0.],\n",
              "       [0., 0., 0.]])"
            ]
          },
          "metadata": {},
          "execution_count": 52
        }
      ]
    },
    {
      "cell_type": "code",
      "source": [
        "c = np.empty((2,5))\n",
        "c"
      ],
      "metadata": {
        "colab": {
          "base_uri": "https://localhost:8080/"
        },
        "id": "szzui3b8op37",
        "outputId": "6e487ca7-983f-4535-a836-46a1fafc1bcb"
      },
      "execution_count": null,
      "outputs": [
        {
          "output_type": "execute_result",
          "data": {
            "text/plain": [
              "array([[0.00000000e+000, 1.77863633e-322, 0.00000000e+000,\n",
              "        0.00000000e+000, 2.41907520e-312],\n",
              "       [9.73968435e-072, 4.99026606e+174, 5.89114717e-091,\n",
              "        1.43687900e-071, 4.49175633e-315]])"
            ]
          },
          "metadata": {},
          "execution_count": 54
        }
      ]
    },
    {
      "cell_type": "markdown",
      "source": [
        "### np.ones\n",
        "- 배열의 모든 값을 1로 채운다."
      ],
      "metadata": {
        "id": "WKq9bF8UpcEl"
      }
    },
    {
      "cell_type": "code",
      "source": [
        "# 1행 3열의 배열 생성 후 모든 값을 1로 채운다.\n",
        "a = np.ones(3)\n",
        "a"
      ],
      "metadata": {
        "colab": {
          "base_uri": "https://localhost:8080/"
        },
        "id": "VwKXYnx1pkbA",
        "outputId": "f7627d85-6dc6-4f77-948b-e47f6ef812f8"
      },
      "execution_count": null,
      "outputs": [
        {
          "output_type": "execute_result",
          "data": {
            "text/plain": [
              "array([1., 1., 1.])"
            ]
          },
          "metadata": {},
          "execution_count": 59
        }
      ]
    },
    {
      "cell_type": "code",
      "source": [
        "# b = np.ones((2,3))\n",
        "b = np.ones([2,3])\n",
        "b"
      ],
      "metadata": {
        "colab": {
          "base_uri": "https://localhost:8080/"
        },
        "id": "AtBtTRqyo3uD",
        "outputId": "b9cda165-e900-41e5-bdbd-d5af25d91a9f"
      },
      "execution_count": null,
      "outputs": [
        {
          "output_type": "execute_result",
          "data": {
            "text/plain": [
              "array([[1., 1., 1.],\n",
              "       [1., 1., 1.]])"
            ]
          },
          "metadata": {},
          "execution_count": 62
        }
      ]
    },
    {
      "cell_type": "code",
      "source": [
        "c = np.empty((2,3))\n",
        "c"
      ],
      "metadata": {
        "colab": {
          "base_uri": "https://localhost:8080/"
        },
        "id": "wpwXyyTupUHE",
        "outputId": "30c23d86-d7ba-4d70-b293-6967ea882624"
      },
      "execution_count": null,
      "outputs": [
        {
          "output_type": "execute_result",
          "data": {
            "text/plain": [
              "array([[1., 1., 1.],\n",
              "       [1., 1., 1.]])"
            ]
          },
          "metadata": {},
          "execution_count": 63
        }
      ]
    },
    {
      "cell_type": "code",
      "source": [
        "e = np.eye(3,4)\n",
        "e"
      ],
      "metadata": {
        "colab": {
          "base_uri": "https://localhost:8080/"
        },
        "id": "BSV6COtTqC6K",
        "outputId": "dbec767a-587a-4b0b-88bc-22826f239541"
      },
      "execution_count": null,
      "outputs": [
        {
          "output_type": "execute_result",
          "data": {
            "text/plain": [
              "array([[1., 0., 0., 0.],\n",
              "       [0., 1., 0., 0.],\n",
              "       [0., 0., 1., 0.]])"
            ]
          },
          "metadata": {},
          "execution_count": 66
        }
      ]
    },
    {
      "cell_type": "code",
      "source": [
        "d = np.empty((3,4))\n",
        "d"
      ],
      "metadata": {
        "colab": {
          "base_uri": "https://localhost:8080/"
        },
        "id": "pp_t0_9_qOmr",
        "outputId": "c1cf340e-a707-480b-9adb-0e8553994fe6"
      },
      "execution_count": null,
      "outputs": [
        {
          "output_type": "execute_result",
          "data": {
            "text/plain": [
              "array([[1., 0., 0., 0.],\n",
              "       [0., 1., 0., 0.],\n",
              "       [0., 0., 1., 0.]])"
            ]
          },
          "metadata": {},
          "execution_count": 69
        }
      ]
    },
    {
      "cell_type": "code",
      "source": [
        "e = np.full((3,4),0)\n",
        "e"
      ],
      "metadata": {
        "colab": {
          "base_uri": "https://localhost:8080/"
        },
        "id": "WDux3B4uqY1j",
        "outputId": "a3e1b895-4a44-4f99-fe70-61fb6937b512"
      },
      "execution_count": null,
      "outputs": [
        {
          "output_type": "execute_result",
          "data": {
            "text/plain": [
              "array([[0, 0, 0, 0],\n",
              "       [0, 0, 0, 0],\n",
              "       [0, 0, 0, 0]])"
            ]
          },
          "metadata": {},
          "execution_count": 70
        }
      ]
    },
    {
      "cell_type": "code",
      "source": [
        "f = np.empty((3,4))\n",
        "f"
      ],
      "metadata": {
        "colab": {
          "base_uri": "https://localhost:8080/"
        },
        "id": "pgZ8R8kDqvwz",
        "outputId": "13ad0bea-de40-4962-915e-a6efd9fb7d00"
      },
      "execution_count": null,
      "outputs": [
        {
          "output_type": "execute_result",
          "data": {
            "text/plain": [
              "array([[2.81799709e-316, 6.79038653e-313, 2.37663529e-312,\n",
              "        2.16443571e-312],\n",
              "       [2.29175545e-312, 8.48798317e-313, 1.08221785e-312,\n",
              "        1.10343781e-312],\n",
              "       [9.33678148e-313, 8.70018275e-313, 2.14321575e-312,\n",
              "        1.46030983e-319]])"
            ]
          },
          "metadata": {},
          "execution_count": 71
        }
      ]
    },
    {
      "cell_type": "markdown",
      "source": [
        "### _like\n",
        "- _like가 붙으면 shape이 같게 만들어진다.\n",
        "- 연산하기 위해서 shape를 맞춰야 하는 경우가 있다.\n"
      ],
      "metadata": {
        "id": "7SRyuIG8rC-b"
      }
    },
    {
      "cell_type": "code",
      "source": [
        "a = np.array([[1,2,3],[4,5,6]])\n",
        "a"
      ],
      "metadata": {
        "colab": {
          "base_uri": "https://localhost:8080/"
        },
        "id": "Mp2l9t0EqyxM",
        "outputId": "9f3fbe94-77c7-421a-c5f9-9ab086e42d23"
      },
      "execution_count": null,
      "outputs": [
        {
          "output_type": "execute_result",
          "data": {
            "text/plain": [
              "array([[1, 2, 3],\n",
              "       [4, 5, 6]])"
            ]
          },
          "metadata": {},
          "execution_count": 76
        }
      ]
    },
    {
      "cell_type": "code",
      "source": [
        "a.shape"
      ],
      "metadata": {
        "colab": {
          "base_uri": "https://localhost:8080/"
        },
        "id": "D7yfKZUMrY6r",
        "outputId": "61a63c1a-36e7-471c-8e73-e09fa1436f36"
      },
      "execution_count": null,
      "outputs": [
        {
          "output_type": "execute_result",
          "data": {
            "text/plain": [
              "(2, 3)"
            ]
          },
          "metadata": {},
          "execution_count": 77
        }
      ]
    },
    {
      "cell_type": "code",
      "source": [
        "b = np.empty_like(a)\n",
        "b"
      ],
      "metadata": {
        "colab": {
          "base_uri": "https://localhost:8080/"
        },
        "id": "lzI0M-PdrdgS",
        "outputId": "41335712-415d-4405-def8-580cddcacfa0"
      },
      "execution_count": null,
      "outputs": [
        {
          "output_type": "execute_result",
          "data": {
            "text/plain": [
              "array([[58523840,        0,        0],\n",
              "       [       0,        0,        0]])"
            ]
          },
          "metadata": {},
          "execution_count": 86
        }
      ]
    },
    {
      "cell_type": "code",
      "source": [
        "c = np.eye(2)\n",
        "c"
      ],
      "metadata": {
        "colab": {
          "base_uri": "https://localhost:8080/"
        },
        "id": "_AsLoZpLrmxz",
        "outputId": "73acf6da-88f9-4ddb-a10a-87e9d22e3def"
      },
      "execution_count": null,
      "outputs": [
        {
          "output_type": "execute_result",
          "data": {
            "text/plain": [
              "array([[1., 0.],\n",
              "       [0., 1.]])"
            ]
          },
          "metadata": {},
          "execution_count": 79
        }
      ]
    },
    {
      "cell_type": "code",
      "source": [
        "c.shape"
      ],
      "metadata": {
        "colab": {
          "base_uri": "https://localhost:8080/"
        },
        "id": "ONx_LJAmrv3b",
        "outputId": "0635c196-c01c-4fc4-c137-2457226fae31"
      },
      "execution_count": null,
      "outputs": [
        {
          "output_type": "execute_result",
          "data": {
            "text/plain": [
              "(2, 2)"
            ]
          },
          "metadata": {},
          "execution_count": 81
        }
      ]
    },
    {
      "cell_type": "code",
      "source": [
        "d = np.eye(3)\n",
        "d"
      ],
      "metadata": {
        "colab": {
          "base_uri": "https://localhost:8080/"
        },
        "id": "FiEh0DNOrzGz",
        "outputId": "695bb523-7727-42b4-b76e-c3e5b6bbd791"
      },
      "execution_count": null,
      "outputs": [
        {
          "output_type": "execute_result",
          "data": {
            "text/plain": [
              "array([[1., 0., 0.],\n",
              "       [0., 1., 0.],\n",
              "       [0., 0., 1.]])"
            ]
          },
          "metadata": {},
          "execution_count": 82
        }
      ]
    },
    {
      "cell_type": "code",
      "source": [
        "d.shape"
      ],
      "metadata": {
        "colab": {
          "base_uri": "https://localhost:8080/"
        },
        "id": "eb1D47m-r5Eb",
        "outputId": "8a20a887-d749-48c4-88cf-911c34b33faa"
      },
      "execution_count": null,
      "outputs": [
        {
          "output_type": "execute_result",
          "data": {
            "text/plain": [
              "(3, 3)"
            ]
          },
          "metadata": {},
          "execution_count": 83
        }
      ]
    },
    {
      "cell_type": "code",
      "source": [
        "#ValueError\n",
        "c + b"
      ],
      "metadata": {
        "colab": {
          "base_uri": "https://localhost:8080/",
          "height": 174
        },
        "id": "QpRIXzhEr7LL",
        "outputId": "51537f1c-2966-4916-acb8-cc408690d5df"
      },
      "execution_count": null,
      "outputs": [
        {
          "output_type": "error",
          "ename": "ValueError",
          "evalue": "ignored",
          "traceback": [
            "\u001b[0;31m---------------------------------------------------------------------------\u001b[0m",
            "\u001b[0;31mValueError\u001b[0m                                Traceback (most recent call last)",
            "\u001b[0;32m<ipython-input-84-93e37e1cb2c9>\u001b[0m in \u001b[0;36m<module>\u001b[0;34m\u001b[0m\n\u001b[0;32m----> 1\u001b[0;31m \u001b[0mc\u001b[0m \u001b[0;34m+\u001b[0m \u001b[0mb\u001b[0m\u001b[0;34m\u001b[0m\u001b[0;34m\u001b[0m\u001b[0m\n\u001b[0m",
            "\u001b[0;31mValueError\u001b[0m: operands could not be broadcast together with shapes (2,2) (2,3) "
          ]
        }
      ]
    },
    {
      "cell_type": "markdown",
      "source": [
        "### linspace\n",
        "- 동등한 간격으로 값을 생성한다.\n",
        "- 0부터49까지 50개가 생성된다면 세번째 num인자 값이 생략되어 있으므로 start와 end계산해서 default 50이 생성된다.    \n",
        "  linspace(start, end, num)  \n",
        "  linspace(0,49) #num = 50"
      ],
      "metadata": {
        "id": "mzs1IgHCssdj"
      }
    },
    {
      "cell_type": "code",
      "source": [
        "a = np.linspace(0,49)\n",
        "a"
      ],
      "metadata": {
        "colab": {
          "base_uri": "https://localhost:8080/"
        },
        "id": "R-2ENkS2tU8-",
        "outputId": "4aab41db-c61e-45d6-e3c9-7e919d755752"
      },
      "execution_count": null,
      "outputs": [
        {
          "output_type": "execute_result",
          "data": {
            "text/plain": [
              "array([ 0.,  1.,  2.,  3.,  4.,  5.,  6.,  7.,  8.,  9., 10., 11., 12.,\n",
              "       13., 14., 15., 16., 17., 18., 19., 20., 21., 22., 23., 24., 25.,\n",
              "       26., 27., 28., 29., 30., 31., 32., 33., 34., 35., 36., 37., 38.,\n",
              "       39., 40., 41., 42., 43., 44., 45., 46., 47., 48., 49.])"
            ]
          },
          "metadata": {},
          "execution_count": 87
        }
      ]
    },
    {
      "cell_type": "code",
      "source": [
        "b = np.linspace(1,5)\n",
        "b"
      ],
      "metadata": {
        "colab": {
          "base_uri": "https://localhost:8080/"
        },
        "id": "MNCG_UCSr9TD",
        "outputId": "a707e119-a2b0-4085-85ed-6e2280a2f670"
      },
      "execution_count": null,
      "outputs": [
        {
          "output_type": "execute_result",
          "data": {
            "text/plain": [
              "array([1.        , 1.08163265, 1.16326531, 1.24489796, 1.32653061,\n",
              "       1.40816327, 1.48979592, 1.57142857, 1.65306122, 1.73469388,\n",
              "       1.81632653, 1.89795918, 1.97959184, 2.06122449, 2.14285714,\n",
              "       2.2244898 , 2.30612245, 2.3877551 , 2.46938776, 2.55102041,\n",
              "       2.63265306, 2.71428571, 2.79591837, 2.87755102, 2.95918367,\n",
              "       3.04081633, 3.12244898, 3.20408163, 3.28571429, 3.36734694,\n",
              "       3.44897959, 3.53061224, 3.6122449 , 3.69387755, 3.7755102 ,\n",
              "       3.85714286, 3.93877551, 4.02040816, 4.10204082, 4.18367347,\n",
              "       4.26530612, 4.34693878, 4.42857143, 4.51020408, 4.59183673,\n",
              "       4.67346939, 4.75510204, 4.83673469, 4.91836735, 5.        ])"
            ]
          },
          "metadata": {},
          "execution_count": 89
        }
      ]
    },
    {
      "cell_type": "code",
      "source": [
        "len(b)"
      ],
      "metadata": {
        "colab": {
          "base_uri": "https://localhost:8080/"
        },
        "id": "4ZtTqfp8tfE0",
        "outputId": "8a8355d2-5043-40f7-af07-88f69ad7e8d0"
      },
      "execution_count": null,
      "outputs": [
        {
          "output_type": "execute_result",
          "data": {
            "text/plain": [
              "50"
            ]
          },
          "metadata": {},
          "execution_count": 90
        }
      ]
    },
    {
      "cell_type": "code",
      "source": [
        "# 1부터 10까지 3개의 요소로 생성한다.\n",
        "# 기본은 endpoint=True로 설정되어 있기 때문에 10이 포함이 된다.\n",
        "# start와 end값 포함\n",
        "np.linspace(1, 10, 3)"
      ],
      "metadata": {
        "colab": {
          "base_uri": "https://localhost:8080/"
        },
        "id": "hgIzgVzytsFa",
        "outputId": "c195198f-b8d0-4f0b-9db9-56ee28e6a01a"
      },
      "execution_count": null,
      "outputs": [
        {
          "output_type": "execute_result",
          "data": {
            "text/plain": [
              "array([ 1. ,  5.5, 10. ])"
            ]
          },
          "metadata": {},
          "execution_count": 91
        }
      ]
    },
    {
      "cell_type": "code",
      "source": [
        "# 1부터 10미만 사이에서 3개의 요소를 생성한다.\n",
        "# endpoint = False로 설정되어 있으므로 10이 포함이 안된다.\n",
        "np.linspace(1,10, 3,endpoint=False)"
      ],
      "metadata": {
        "colab": {
          "base_uri": "https://localhost:8080/"
        },
        "id": "mr_ZLBc7tzly",
        "outputId": "ed9b5cc1-099a-4c0b-f363-f16630a1e094"
      },
      "execution_count": null,
      "outputs": [
        {
          "output_type": "execute_result",
          "data": {
            "text/plain": [
              "array([1., 4., 7.])"
            ]
          },
          "metadata": {},
          "execution_count": 94
        }
      ]
    },
    {
      "cell_type": "markdown",
      "source": [
        "### logspace\n",
        "- linspace와 비슷하다.\n",
        "- log scale을 사용하는 차이가 있다.  \n",
        "- 1부터 50까지 사이의 10개의 요소를 생성한다.  \n",
        "  np.logspace(1,50,10)"
      ],
      "metadata": {
        "id": "5GMxZGn2uqsT"
      }
    },
    {
      "cell_type": "code",
      "source": [
        "np.logspace(1,50,10)"
      ],
      "metadata": {
        "colab": {
          "base_uri": "https://localhost:8080/"
        },
        "id": "a7OT7POVuQvS",
        "outputId": "fbf9bc70-9f3e-46c8-db01-482d79cc7a0b"
      },
      "execution_count": null,
      "outputs": [
        {
          "output_type": "execute_result",
          "data": {
            "text/plain": [
              "array([1.00000000e+01, 2.78255940e+06, 7.74263683e+11, 2.15443469e+17,\n",
              "       5.99484250e+22, 1.66810054e+28, 4.64158883e+33, 1.29154967e+39,\n",
              "       3.59381366e+44, 1.00000000e+50])"
            ]
          },
          "metadata": {},
          "execution_count": 95
        }
      ]
    },
    {
      "cell_type": "markdown",
      "source": [
        "### *dtype*\n",
        "- numpy는 c언어를 기반으로 해서 만들었기 때문에 c의 데이터 타입을 차용할 수 있다."
      ],
      "metadata": {
        "id": "5cdSy5B4vnYz"
      }
    },
    {
      "cell_type": "code",
      "source": [
        "a = np.array([1,2,3]) #8byte\n",
        "a"
      ],
      "metadata": {
        "colab": {
          "base_uri": "https://localhost:8080/"
        },
        "id": "VbpGOUI2vnKE",
        "outputId": "0e3031f2-d216-4033-9e73-ebe7e20beaae"
      },
      "execution_count": null,
      "outputs": [
        {
          "output_type": "execute_result",
          "data": {
            "text/plain": [
              "array([1, 2, 3])"
            ]
          },
          "metadata": {},
          "execution_count": 96
        }
      ]
    },
    {
      "cell_type": "code",
      "source": [
        "print(type(a))\n",
        "print(a.dtype)"
      ],
      "metadata": {
        "colab": {
          "base_uri": "https://localhost:8080/"
        },
        "id": "3saF6Z4JvHRz",
        "outputId": "fd7dfafd-8495-471e-baca-26ae4b2a1b1d"
      },
      "execution_count": null,
      "outputs": [
        {
          "output_type": "stream",
          "name": "stdout",
          "text": [
            "<class 'numpy.ndarray'>\n",
            "int64\n"
          ]
        }
      ]
    },
    {
      "cell_type": "code",
      "source": [
        "b = np.array([1,2,3], dtype=np.int8) #1byte\n",
        "b"
      ],
      "metadata": {
        "colab": {
          "base_uri": "https://localhost:8080/"
        },
        "id": "6YLrenM4v5Rp",
        "outputId": "154f0b15-e06d-4625-8075-31098a9afeb5"
      },
      "execution_count": null,
      "outputs": [
        {
          "output_type": "execute_result",
          "data": {
            "text/plain": [
              "array([1, 2, 3], dtype=int8)"
            ]
          },
          "metadata": {},
          "execution_count": 99
        }
      ]
    },
    {
      "cell_type": "code",
      "source": [
        "#np.int8은 -128 ~ 127 사이의 값을 저장할 수 있다.\n",
        "c = np.array([-127,-128,17,2,3,-127,-128,127], dtype=np.int8)\n",
        "c"
      ],
      "metadata": {
        "colab": {
          "base_uri": "https://localhost:8080/"
        },
        "id": "5_jWmX7qwOOi",
        "outputId": "65639614-1a3a-4e3c-d236-7b0e4d64fad3"
      },
      "execution_count": null,
      "outputs": [
        {
          "output_type": "execute_result",
          "data": {
            "text/plain": [
              "array([-127, -128,   17,    2,    3, -127, -128,  127], dtype=int8)"
            ]
          },
          "metadata": {},
          "execution_count": 101
        }
      ]
    },
    {
      "cell_type": "code",
      "source": [
        "# int는 python의 int를 사용한다.\n",
        "d = np.array([127,2,3,-127,-128], dtype=int)\n",
        "d"
      ],
      "metadata": {
        "colab": {
          "base_uri": "https://localhost:8080/"
        },
        "id": "kcHABIKawucL",
        "outputId": "7ac076cd-234f-4435-a158-c4c373a27336"
      },
      "execution_count": null,
      "outputs": [
        {
          "output_type": "execute_result",
          "data": {
            "text/plain": [
              "array([ 127,    2,    3, -127, -128])"
            ]
          },
          "metadata": {},
          "execution_count": 102
        }
      ]
    },
    {
      "cell_type": "code",
      "source": [
        "#python에서 int는 int64와 같음\n",
        "type(d[0]) #numpy.int64"
      ],
      "metadata": {
        "colab": {
          "base_uri": "https://localhost:8080/"
        },
        "id": "1cGkfODdw5zB",
        "outputId": "2d876eb8-8937-4255-f1c3-0759b8a7101b"
      },
      "execution_count": null,
      "outputs": [
        {
          "output_type": "execute_result",
          "data": {
            "text/plain": [
              "numpy.int64"
            ]
          },
          "metadata": {},
          "execution_count": 103
        }
      ]
    },
    {
      "cell_type": "markdown",
      "source": [
        "#### python 도움말"
      ],
      "metadata": {
        "id": "3sdYaKGk5RgT"
      }
    },
    {
      "cell_type": "code",
      "source": [
        "?sum #오른쪽에 도움말 나옴, 파이썬 도움말"
      ],
      "metadata": {
        "id": "kDRgFNqwxKNK"
      },
      "execution_count": null,
      "outputs": []
    },
    {
      "cell_type": "code",
      "source": [
        "help(sum)"
      ],
      "metadata": {
        "colab": {
          "base_uri": "https://localhost:8080/"
        },
        "id": "DL2cHPJr5Aoa",
        "outputId": "0f9e8c35-fef9-4633-fa24-f09247fd6867"
      },
      "execution_count": null,
      "outputs": [
        {
          "output_type": "stream",
          "name": "stdout",
          "text": [
            "Help on built-in function sum in module builtins:\n",
            "\n",
            "sum(iterable, /, start=0)\n",
            "    Return the sum of a 'start' value (default: 0) plus an iterable of numbers\n",
            "    \n",
            "    When the iterable is empty, return the start value.\n",
            "    This function is intended specifically for use with numeric values and may\n",
            "    reject non-numeric types.\n",
            "\n"
          ]
        }
      ]
    },
    {
      "cell_type": "markdown",
      "source": [
        "### numpy 도움말"
      ],
      "metadata": {
        "id": "nTf-Ue2d5jiJ"
      }
    },
    {
      "cell_type": "code",
      "source": [
        "np.lookfor('sum')"
      ],
      "metadata": {
        "colab": {
          "base_uri": "https://localhost:8080/"
        },
        "id": "lenjlSC-5CWa",
        "outputId": "5fb76399-1ca1-40e3-ec1a-f49bf152fb38"
      },
      "execution_count": null,
      "outputs": [
        {
          "output_type": "stream",
          "name": "stdout",
          "text": [
            "Search results for 'sum'\n",
            "------------------------\n",
            "numpy.sum\n",
            "    Sum of array elements over a given axis.\n",
            "numpy.cumsum\n",
            "    Return the cumulative sum of the elements along a given axis.\n",
            "numpy.einsum\n",
            "    einsum(subscripts, *operands, out=None, dtype=None, order='K',\n",
            "numpy.nansum\n",
            "    Return the sum of array elements over a given axis treating Not a\n",
            "numpy.nancumsum\n",
            "    Return the cumulative sum of array elements over a given axis treating Not a\n",
            "numpy.einsum_path\n",
            "    Evaluates the lowest cost contraction order for an einsum expression by\n",
            "numpy.trace\n",
            "    Return the sum along diagonals of the array.\n",
            "numpy.ma.sum\n",
            "    Return the sum of the array elements over the given axis.\n",
            "numpy.Bytes0.sum\n",
            "    Scalar method identical to the corresponding array attribute.\n",
            "numpy.polyadd\n",
            "    Find the sum of two polynomials.\n",
            "numpy.ma.cumsum\n",
            "    Return the cumulative sum of the array elements over the given axis.\n",
            "numpy.logaddexp\n",
            "    Logarithm of the sum of exponentiations of the inputs.\n",
            "numpy.Bytes0.cumsum\n",
            "    Scalar method identical to the corresponding array attribute.\n",
            "numpy.logaddexp2\n",
            "    Logarithm of the sum of exponentiations of the inputs in base-2.\n",
            "numpy.matrix.sum\n",
            "    Returns the sum of the matrix elements, along the given axis.\n",
            "numpy.chararray.sum\n",
            "    Return the sum of the array elements over the given axis.\n",
            "numpy.mask_indices\n",
            "    Return the indices to access (n, n) arrays, given a masking function.\n",
            "numpy.chararray.cumsum\n",
            "    Return the cumulative sum of the elements along the given axis.\n",
            "numpy.Str0.expandtabs\n",
            "    Return a copy where all tab characters are expanded using spaces.\n",
            "numpy.chararray.trace\n",
            "    Return the sum along diagonals of the array.\n",
            "numpy.Bytes0.expandtabs\n",
            "    Return a copy where all tab characters are expanded using spaces.\n",
            "numpy.format_float_positional\n",
            "    Format a floating-point scalar as a decimal string in positional notation.\n",
            "numpy.format_float_scientific\n",
            "    Format a floating-point scalar as a decimal string in scientific notation.\n",
            "numpy.linalg.tensorsolve\n",
            "    Solve the tensor equation ``a x = b`` for x.\n",
            "numpy.ma.MaskedArray.sum\n",
            "    Return the sum of the array elements over the given axis.\n",
            "numpy.ma.MaskedArray.cumsum\n",
            "    Return the cumulative sum of the array elements over the given axis.\n",
            "numpy.core._umath_tests.cumsum\n",
            "    Cumulative sum of the input (n)->(n)\n",
            "numpy.ma.MaskedArray.trace\n",
            "    Return the sum along diagonals of the array.\n",
            "numpy.core._multiarray_umath.c_einsum\n",
            "    c_einsum(subscripts, *operands, out=None, dtype=None, order='K',\n",
            "numpy.polynomial.Hermite._add\n",
            "    Add one Hermite series to another.\n",
            "numpy.polynomial.HermiteE._add\n",
            "    Add one Hermite series to another.\n",
            "numpy.polynomial.Laguerre._add\n",
            "    Add one Laguerre series to another.\n",
            "numpy.polynomial.Legendre._add\n",
            "    Add one Legendre series to another.\n",
            "numpy.polynomial.Chebyshev._add\n",
            "    Add one Chebyshev series to another.\n",
            "numpy.polynomial.Polynomial._add\n",
            "    Add one polynomial to another.\n",
            "numpy.AxisError.__class__.__sizeof__\n",
            "    Return memory consumption of the type object.\n",
            "numpy.add\n",
            "    Add arguments element-wise.\n",
            "numpy.cov\n",
            "    Estimate a covariance matrix, given data and weights.\n",
            "numpy.dot\n",
            "    Dot product of two arrays. Specifically,\n",
            "numpy.std\n",
            "    Compute the standard deviation along the specified axis.\n",
            "numpy.var\n",
            "    Compute the variance along the specified axis.\n",
            "numpy.diag\n",
            "    Extract a diagonal or construct a diagonal array.\n",
            "numpy.diff\n",
            "    Calculate the n-th discrete difference along the given axis.\n",
            "numpy.in1d\n",
            "    Test whether each element of a 1-D array is also present in a second array.\n",
            "numpy.isin\n",
            "    Calculates `element in test_elements`, broadcasting over `element` only.\n",
            "numpy.kron\n",
            "    Kronecker product of two arrays.\n",
            "numpy.mean\n",
            "    Compute the arithmetic mean along the specified axis.\n",
            "numpy.core.setup_common.get_api_versions\n",
            "    Return current C API checksum and the recorded checksum.\n",
            "numpy.poly\n",
            "    Find the coefficients of a polynomial with the given sequence of roots.\n",
            "numpy.cross\n",
            "    Return the cross product of two (arrays of) vectors.\n",
            "numpy.inner\n",
            "    Inner product of two arrays.\n",
            "numpy.outer\n",
            "    Compute the outer product of two vectors.\n",
            "numpy.roots\n",
            "    Return the roots of a polynomial with coefficients given in p.\n",
            "numpy.trapz\n",
            "    Integrate along the given axis using the composite trapezoidal rule.\n",
            "numpy.choose\n",
            "    Construct an array from an index array and a list of arrays to choose from.\n",
            "numpy.matmul\n",
            "    Matrix product of two arrays.\n",
            "numpy.nanstd\n",
            "    Compute the standard deviation along the specified axis, while\n",
            "numpy.nanvar\n",
            "    Compute the variance along the specified axis, while ignoring NaNs.\n",
            "numpy.nditer\n",
            "    Efficient multi-dimensional iterator object to iterate over arrays.\n",
            "numpy.poly1d\n",
            "    A one-dimensional polynomial class.\n",
            "numpy.average\n",
            "    Compute the weighted average along the specified axis.\n",
            "numpy.isclose\n",
            "    Returns a boolean array where two arrays are element-wise equal within a\n",
            "numpy.nanmean\n",
            "    Compute the arithmetic mean along the specified axis, ignoring NaNs.\n",
            "numpy.nanprod\n",
            "    Return the product of array elements over a given axis treating Not a\n",
            "numpy.polyder\n",
            "    Return the derivative of the specified order of a polynomial.\n",
            "numpy.polydiv\n",
            "    Returns the quotient and remainder of polynomial division.\n",
            "numpy.polyfit\n",
            "    Least squares polynomial fit.\n",
            "numpy.polyint\n",
            "    Return an antiderivative (indefinite integral) of a polynomial.\n",
            "numpy.polymul\n",
            "    Find the product of two polynomials.\n",
            "numpy.polysub\n",
            "    Difference (subtraction) of two polynomials.\n",
            "numpy.polyval\n",
            "    Evaluate a polynomial at specific values.\n",
            "numpy.bincount\n",
            "    Count number of occurrences of each value in array of non-negative ints.\n",
            "numpy.blackman\n",
            "    Return the Blackman window.\n",
            "numpy.convolve\n",
            "    Returns the discrete, linear convolution of two one-dimensional sequences.\n",
            "numpy.diagflat\n",
            "    Create a two-dimensional array with the flattened input as a diagonal.\n",
            "numpy.diagonal\n",
            "    Return specified diagonals.\n",
            "numpy.gradient\n",
            "    Return the gradient of an N-dimensional array.\n",
            "numpy.setxor1d\n",
            "    Find the set exclusive-or of two arrays.\n",
            "numpy.correlate\n",
            "    Cross-correlation of two 1-dimensional sequences.\n",
            "numpy.histogram\n",
            "    Compute the histogram of a dataset.\n",
            "numpy.isrealobj\n",
            "    Return True if x is a not complex type or an array of complex numbers.\n",
            "numpy.piecewise\n",
            "    Evaluate a piecewise-defined function.\n",
            "numpy.setdiff1d\n",
            "    Find the set difference of two arrays.\n",
            "numpy.tensordot\n",
            "    Compute tensor dot product along specified axes.\n",
            "numpy.vectorize\n",
            "    vectorize(pyfunc, otypes=None, doc=None, excluded=None, cache=False,\n",
            "numpy.histogram2d\n",
            "    Compute the bi-dimensional histogram of two data samples.\n",
            "numpy.histogramdd\n",
            "    Compute the multidimensional histogram of some data.\n",
            "numpy.intersect1d\n",
            "    Find the intersection of two arrays.\n",
            "numpy.ma.add\n",
            "    Add arguments element-wise.\n",
            "numpy.array2string\n",
            "    Return a string representation of an array.\n",
            "numpy.ma.var\n",
            "    Compute the variance along the specified axis.\n",
            "numpy.searchsorted\n",
            "    Find indices where elements should be inserted to maintain order.\n",
            "numpy.lib.tests.test_utils.old_func4\n",
            "    Summary.\n",
            "numpy.lib.tests.test_utils.old_func5\n",
            "    Summary.\n",
            "numpy.fft.hfft\n",
            "    Compute the FFT of a signal that has Hermitian symmetry, i.e., a real\n",
            "numpy.fft.ifft\n",
            "    Compute the one-dimensional inverse discrete Fourier Transform.\n",
            "numpy.fft.irfft\n",
            "    Computes the inverse of `rfft`.\n",
            "numpy.ma.inner\n",
            "    Inner product of two arrays.\n",
            "numpy.ma.outer\n",
            "    Compute the outer product of two vectors.\n",
            "numpy.ma.trace\n",
            "    a.trace(offset=0, axis1=0, axis2=1, dtype=None, out=None)\n",
            "numpy.apply_over_axes\n",
            "    Apply a function repeatedly over multiple axes.\n",
            "numpy.fft.irfftn\n",
            "    Computes the inverse of `rfftn`.\n",
            "numpy.linalg.svd\n",
            "    Singular Value Decomposition.\n",
            "numpy.ma.average\n",
            "    Return the weighted average of array over the given axis.\n",
            "numpy.ma.polyfit\n",
            "    Least squares polynomial fit.\n",
            "numpy.set_printoptions\n",
            "    Set printing options.\n",
            "numpy.linalg.cond\n",
            "    Compute the condition number of a matrix.\n",
            "numpy.linalg.norm\n",
            "    Matrix or vector norm.\n",
            "numpy.linalg.pinv\n",
            "    Compute the (Moore-Penrose) pseudo-inverse of a matrix.\n",
            "numpy.ma.convolve\n",
            "    Returns the discrete, linear convolution of two one-dimensional sequences.\n",
            "numpy.ma.diagflat\n",
            "    Create a two-dimensional array with the flattened input as a diagonal.\n",
            "numpy.linalg.lstsq\n",
            "    Return the least-squares solution to a linear matrix equation.\n",
            "numpy.random.PCG64\n",
            "    BitGenerator for the PCG-64 pseudo-random number generator.\n",
            "numpy.random.SFC64\n",
            "    BitGenerator for Chris Doty-Humphrey's Small Fast Chaotic PRNG.\n",
            "numpy.ufunc.reduce\n",
            "    Reduces `array`'s dimension by one, by applying ufunc along one axis.\n",
            "numpy.histogram_bin_edges\n",
            "    Function to calculate only the edges of the bins used by the `histogram`\n",
            "numpy.random.Philox\n",
            "    Container for the Philox (4x64) pseudo-random number generator.\n",
            "numpy.random.MT19937\n",
            "    Container for the Mersenne Twister pseudo-random number generator.\n",
            "numpy.ufunc.reduceat\n",
            "    Performs a (local) reduce with specified slices over a single axis.\n",
            "numpy.linalg.multi_dot\n",
            "    Compute the dot product of two or more arrays in a single function call,\n",
            "numpy.linalg.tensorinv\n",
            "    Compute the 'inverse' of an N-dimensional array.\n",
            "numpy.random.PCG64DXSM\n",
            "    BitGenerator for the PCG-64 DXSM pseudo-random number generator.\n",
            "numpy.ufunc.accumulate\n",
            "    Accumulate the result of applying the operator to all elements.\n",
            "numpy.linalg.matrix_rank\n",
            "    Return matrix rank of array using SVD method\n",
            "numpy.ma.apply_over_axes\n",
            "    Apply a function repeatedly over multiple axes.\n",
            "numpy.ma.MaskedArray.var\n",
            "    Compute the variance along the specified axis.\n",
            "numpy.random.Generator.f\n",
            "    Draw samples from an F distribution.\n",
            "numpy.distutils.command.sdist.sdist.write_manifest\n",
            "    Write the file list in 'self.filelist' (presumably as filled in\n",
            "numpy.random.RandomState.f\n",
            "    Draw samples from an F distribution.\n",
            "numpy.random.MT19937.jumped\n",
            "    Returns a new bit generator with the state jumped\n",
            "numpy.polynomial.Hermite.fit\n",
            "    Least squares fit to data.\n",
            "numpy.polynomial.Hermite._fit\n",
            "    Least squares fit of Hermite series to data.\n",
            "numpy.core._multiarray_umath.dot\n",
            "    Dot product of two arrays. Specifically,\n",
            "numpy.polynomial.HermiteE.fit\n",
            "    Least squares fit to data.\n",
            "numpy.polynomial.Laguerre.fit\n",
            "    Least squares fit to data.\n",
            "numpy.polynomial.Legendre.fit\n",
            "    Least squares fit to data.\n",
            "numpy.random.Generator.choice\n",
            "    Generates a random sample from a given array\n",
            "numpy.polynomial.Chebyshev.fit\n",
            "    Least squares fit to data.\n",
            "numpy.polynomial.HermiteE._fit\n",
            "    Least squares fit of Hermite series to data.\n",
            "numpy.polynomial.Laguerre._fit\n",
            "    Least squares fit of Laguerre series to data.\n",
            "numpy.polynomial.Legendre._fit\n",
            "    Least squares fit of Legendre series to data.\n",
            "numpy.polynomial.Chebyshev._fit\n",
            "    Least squares fit of Chebyshev series to data.\n",
            "numpy.polynomial.Hermite._roots\n",
            "    Compute the roots of a Hermite series.\n",
            "numpy.core._multiarray_umath.inner\n",
            "    Inner product of two arrays.\n",
            "numpy.polynomial.Polynomial.fit\n",
            "    Least squares fit to data.\n",
            "numpy.random.Generator.binomial\n",
            "    Draw samples from a binomial distribution.\n",
            "numpy.random.Generator.logistic\n",
            "    Draw samples from a logistic distribution.\n",
            "numpy.random.Generator.rayleigh\n",
            "    Draw samples from a Rayleigh distribution.\n",
            "numpy.random.RandomState.choice\n",
            "    Generates a random sample from a given 1-D array\n",
            "numpy.polynomial.HermiteE._roots\n",
            "    Compute the roots of a HermiteE series.\n",
            "numpy.polynomial.Laguerre._roots\n",
            "    Compute the roots of a Laguerre series.\n",
            "numpy.polynomial.Legendre._roots\n",
            "    Compute the roots of a Legendre series.\n",
            "numpy.polynomial.Polynomial._fit\n",
            "    Least-squares fit of a polynomial to data.\n",
            "numpy.random.Generator.chisquare\n",
            "    Draw samples from a chi-square distribution.\n",
            "numpy.random.Generator.dirichlet\n",
            "    Draw samples from the Dirichlet distribution.\n",
            "numpy.random.Generator.geometric\n",
            "    Draw samples from the geometric distribution.\n",
            "numpy.random.Generator.lognormal\n",
            "    Draw samples from a log-normal distribution.\n",
            "numpy.polynomial.Chebyshev._roots\n",
            "    Compute the roots of a Chebyshev series.\n",
            "numpy.random.Generator.standard_t\n",
            "    Draw samples from a standard Student's t distribution with `df` degrees\n",
            "numpy.random.RandomState.binomial\n",
            "    Draw samples from a binomial distribution.\n",
            "numpy.random.RandomState.logistic\n",
            "    Draw samples from a logistic distribution.\n",
            "numpy.random.RandomState.rayleigh\n",
            "    Draw samples from a Rayleigh distribution.\n",
            "numpy.core._multiarray_umath.bincount\n",
            "    Count number of occurrences of each value in array of non-negative ints.\n",
            "numpy.polynomial.Polynomial._roots\n",
            "    Compute the roots of a polynomial.\n",
            "numpy.polynomial.hermite.hermval2d\n",
            "    Evaluate a 2-D Hermite series at points (x, y).\n",
            "numpy.polynomial.hermite.hermval3d\n",
            "    Evaluate a 3-D Hermite series at points (x, y, z).\n",
            "numpy.polynomial.laguerre.lagval2d\n",
            "    Evaluate a 2-D Laguerre series at points (x, y).\n",
            "numpy.polynomial.laguerre.lagval3d\n",
            "    Evaluate a 3-D Laguerre series at points (x, y, z).\n",
            "numpy.polynomial.legendre.legval2d\n",
            "    Evaluate a 2-D Legendre series at points (x, y).\n",
            "numpy.polynomial.legendre.legval3d\n",
            "    Evaluate a 3-D Legendre series at points (x, y, z).\n",
            "numpy.random.Generator.multinomial\n",
            "    Draw samples from a multinomial distribution.\n",
            "numpy.random.RandomState.chisquare\n",
            "    Draw samples from a chi-square distribution.\n",
            "numpy.random.RandomState.dirichlet\n",
            "    Draw samples from the Dirichlet distribution.\n",
            "numpy.random.RandomState.geometric\n",
            "    Draw samples from the geometric distribution.\n",
            "numpy.random.RandomState.lognormal\n",
            "    Draw samples from a log-normal distribution.\n",
            "numpy.random.RandomState.set_state\n",
            "    set_state(state)\n",
            "numpy.polynomial.hermite.hermgrid2d\n",
            "    Evaluate a 2-D Hermite series on the Cartesian product of x and y.\n",
            "numpy.polynomial.hermite.hermgrid3d\n",
            "    Evaluate a 3-D Hermite series on the Cartesian product of x, y, and z.\n",
            "numpy.polynomial.laguerre.laggrid2d\n",
            "    Evaluate a 2-D Laguerre series on the Cartesian product of x and y.\n",
            "numpy.polynomial.laguerre.laggrid3d\n",
            "    Evaluate a 3-D Laguerre series on the Cartesian product of x, y, and z.\n",
            "numpy.polynomial.legendre.leggrid2d\n",
            "    Evaluate a 2-D Legendre series on the Cartesian product of x and y.\n",
            "numpy.polynomial.legendre.leggrid3d\n",
            "    Evaluate a 3-D Legendre series on the Cartesian product of x, y, and z.\n",
            "numpy.random.Generator.noncentral_f\n",
            "    Draw samples from the noncentral F distribution.\n",
            "numpy.random.RandomState.standard_t\n",
            "    Draw samples from a standard Student's t distribution with `df` degrees\n",
            "numpy.polynomial.chebyshev.chebval2d\n",
            "    Evaluate a 2-D Chebyshev series at points (x, y).\n",
            "numpy.polynomial.chebyshev.chebval3d\n",
            "    Evaluate a 3-D Chebyshev series at points (x, y, z).\n",
            "numpy.random.RandomState.multinomial\n",
            "    Draw samples from a multinomial distribution.\n",
            "numpy.polynomial.chebyshev.chebgrid2d\n",
            "    Evaluate a 2-D Chebyshev series on the Cartesian product of x and y.\n",
            "numpy.polynomial.chebyshev.chebgrid3d\n",
            "    Evaluate a 3-D Chebyshev series on the Cartesian product of x, y, and z.\n",
            "numpy.polynomial.hermite_e.hermeval2d\n",
            "    Evaluate a 2-D HermiteE series at points (x, y).\n",
            "numpy.polynomial.hermite_e.hermeval3d\n",
            "    Evaluate a 3-D Hermite_e series at points (x, y, z).\n",
            "numpy.polynomial.polynomial.polyval2d\n",
            "    Evaluate a 2-D polynomial at points (x, y).\n",
            "numpy.polynomial.polynomial.polyval3d\n",
            "    Evaluate a 3-D polynomial at points (x, y, z).\n",
            "numpy.random.Generator.hypergeometric\n",
            "    Draw samples from a Hypergeometric distribution.\n",
            "numpy.random.RandomState.noncentral_f\n",
            "    Draw samples from the noncentral F distribution.\n",
            "numpy.polynomial.hermite_e.hermegrid2d\n",
            "    Evaluate a 2-D HermiteE series on the Cartesian product of x and y.\n",
            "numpy.polynomial.hermite_e.hermegrid3d\n",
            "    Evaluate a 3-D HermiteE series on the Cartesian product of x, y, and z.\n",
            "numpy.polynomial.polynomial.polygrid2d\n",
            "    Evaluate a 2-D polynomial on the Cartesian product of x and y.\n",
            "numpy.polynomial.polynomial.polygrid3d\n",
            "    Evaluate a 3-D polynomial on the Cartesian product of x, y and z.\n",
            "numpy.random.Generator.standard_cauchy\n",
            "    Draw samples from a standard Cauchy distribution with mode = 0.\n",
            "numpy.distutils.command.build_clib.build_clib.check_library_list\n",
            "    Ensure that the list of libraries is valid.\n",
            "numpy.distutils.command.build_ext.build_ext.check_extensions_list\n",
            "    Ensure that the list of extensions (presumably provided as a\n",
            "numpy.random.RandomState.hypergeometric\n",
            "    Draw samples from a Hypergeometric distribution.\n",
            "numpy.lib.recfunctions.apply_along_fields\n",
            "    Apply function 'func' as a reduction across fields of a structured array.\n",
            "numpy.random.Generator.negative_binomial\n",
            "    Draw samples from a negative binomial distribution.\n",
            "numpy.distutils.command.develop.develop.create_index.__getitem__\n",
            "    Return a newest-to-oldest list of distributions for `project_name`\n",
            "numpy.random.RandomState.random_integers\n",
            "    Random integers of type `np.int_` between `low` and `high`, inclusive.\n",
            "numpy.random.RandomState.standard_cauchy\n",
            "    Draw samples from a standard Cauchy distribution with mode = 0.\n",
            "numpy.random.RandomState.negative_binomial\n",
            "    Draw samples from a negative binomial distribution.\n",
            "numpy.random.Generator.noncentral_chisquare\n",
            "    Draw samples from a noncentral chi-square distribution.\n",
            "numpy.random.RandomState.noncentral_chisquare\n",
            "    Draw samples from a noncentral chi-square distribution.\n",
            "numpy.core.tests.test_simd.Test_SIMD_FP64_128_SSE42_f64.test_conversions\n",
            "    Round to nearest even integer, assume CPU control register is set to rounding.\n",
            "numpy.core.tests.test_simd.Test_SIMD_FP32_128_SSE42_f32.test_conversions\n",
            "    Round to nearest even integer, assume CPU control register is set to rounding.\n",
            "numpy.core.tests.test_simd.Test_SIMD_ALL_128_SSE42_f32.test_arithmetic_reduce_sum\n",
            "    Test reduce sum intrinsics:\n",
            "numpy.random.Generator.multivariate_hypergeometric\n",
            "    multivariate_hypergeometric(colors, nsample, size=None,\n",
            "numpy.core.tests.test_simd.Test_SIMD_ALL_128_SSE42_f32.test_arithmetic_reduce_sumup\n",
            "    Test extend reduce sum intrinsics:\n",
            "numpy.distutils.misc_util.Configuration.set_options\n",
            "    Configure Configuration instance.\n",
            "numpy.distutils.misc_util.Configuration.add_subpackage\n",
            "    Add a sub-package to the current Configuration instance.\n",
            "numpy.distutils.misc_util.Configuration.get_subpackage\n",
            "    Return list of subpackage configurations.\n",
            "numpy.distutils.ccompiler_opt.CCompilerOpt.feature_ahead\n",
            "    Return list of features in 'names' after remove any\n",
            "numpy.distutils.ccompiler_opt.CCompilerOpt.feature_untied\n",
            "    same as 'feature_ahead()' but if both features implied each other\n",
            "numpy.distutils.misc_util.Configuration.add_npy_pkg_config\n",
            "    Generate and install a npy-pkg config file from a template.\n",
            "numpy.linalg.tests.test_deprecations.test_qr_mode_full_future_warning\n",
            "    Check mode='full' FutureWarning.\n",
            "numpy.distutils.tests.test_ccompiler_opt_conf.TestConfFeatures.subTest\n",
            "    Return a context manager that will return the enclosed block"
          ]
        }
      ]
    },
    {
      "cell_type": "code",
      "source": [
        "a = np.array([[1,2,3],[4,5,6]])\n",
        "# array의 shape을 알려준다.\n",
        "a.shape"
      ],
      "metadata": {
        "colab": {
          "base_uri": "https://localhost:8080/"
        },
        "id": "hsqAdgU-5d6K",
        "outputId": "c8e220d4-65f7-45ec-e000-4e511922575a"
      },
      "execution_count": null,
      "outputs": [
        {
          "output_type": "execute_result",
          "data": {
            "text/plain": [
              "(2, 3)"
            ]
          },
          "metadata": {},
          "execution_count": 107
        }
      ]
    },
    {
      "cell_type": "code",
      "source": [
        "# array이 몇 차원인지 알려준다.\n",
        "# shape로도 알 수 있다.\n",
        "a.ndim "
      ],
      "metadata": {
        "colab": {
          "base_uri": "https://localhost:8080/"
        },
        "id": "kLSXwr4e5yZw",
        "outputId": "cdffd9cf-08ac-4f1f-f13a-26fb5c645d34"
      },
      "execution_count": null,
      "outputs": [
        {
          "output_type": "execute_result",
          "data": {
            "text/plain": [
              "2"
            ]
          },
          "metadata": {},
          "execution_count": 108
        }
      ]
    },
    {
      "cell_type": "code",
      "source": [
        "# 데이터 타입을 알려준다.\n",
        "a.dtype"
      ],
      "metadata": {
        "colab": {
          "base_uri": "https://localhost:8080/"
        },
        "id": "JRXZhFC558OB",
        "outputId": "90211fbe-d914-46c2-f44d-e78d6e2f6b03"
      },
      "execution_count": null,
      "outputs": [
        {
          "output_type": "execute_result",
          "data": {
            "text/plain": [
              "dtype('int64')"
            ]
          },
          "metadata": {},
          "execution_count": 109
        }
      ]
    },
    {
      "cell_type": "code",
      "source": [
        "# 요소의 개수를 알려준다.\n",
        "# shape로도 알 수 있다.\n",
        "a.size"
      ],
      "metadata": {
        "colab": {
          "base_uri": "https://localhost:8080/"
        },
        "id": "9GWZvXQn6OZb",
        "outputId": "8b847c69-ebec-440d-9eb8-033d164c3418"
      },
      "execution_count": null,
      "outputs": [
        {
          "output_type": "execute_result",
          "data": {
            "text/plain": [
              "6"
            ]
          },
          "metadata": {},
          "execution_count": 110
        }
      ]
    },
    {
      "cell_type": "code",
      "source": [
        "# 요소당 byte 수를 알려준다.\n",
        "a.itemsize"
      ],
      "metadata": {
        "colab": {
          "base_uri": "https://localhost:8080/"
        },
        "id": "FyCQSjMV6StB",
        "outputId": "cde04c4e-4f70-4896-98cb-c5fc75934b70"
      },
      "execution_count": null,
      "outputs": [
        {
          "output_type": "execute_result",
          "data": {
            "text/plain": [
              "8"
            ]
          },
          "metadata": {},
          "execution_count": 112
        }
      ]
    },
    {
      "cell_type": "markdown",
      "source": [
        "### 2. numpy와 python의 속도 차이"
      ],
      "metadata": {
        "id": "PWHuMCu_7gbq"
      }
    },
    {
      "cell_type": "code",
      "source": [
        "#numpy는 함수와 메소드 구분안함\n",
        "np.arange(10) #range"
      ],
      "metadata": {
        "colab": {
          "base_uri": "https://localhost:8080/"
        },
        "id": "-25NyeVE6VyR",
        "outputId": "0e5ebc37-991d-4778-d963-7957d15a816b"
      },
      "execution_count": null,
      "outputs": [
        {
          "output_type": "execute_result",
          "data": {
            "text/plain": [
              "array([0, 1, 2, 3, 4, 5, 6, 7, 8, 9])"
            ]
          },
          "metadata": {},
          "execution_count": 114
        }
      ]
    },
    {
      "cell_type": "markdown",
      "source": [
        "- 값이 작을 때는 속도가 비슷하다.\n",
        "- 값이 커지면 속도 차이가 난다."
      ],
      "metadata": {
        "id": "7A8SRlaK7zKo"
      }
    },
    {
      "cell_type": "code",
      "source": [
        "# numpy을 이용한 계산\n",
        "%time np.sum(np.arange(1000000000))"
      ],
      "metadata": {
        "colab": {
          "base_uri": "https://localhost:8080/"
        },
        "id": "vY16G9r37q5h",
        "outputId": "9d3d2b9a-2d93-4d3e-b1e6-d3911bf57392"
      },
      "execution_count": null,
      "outputs": [
        {
          "output_type": "stream",
          "name": "stdout",
          "text": [
            "CPU times: user 1.52 s, sys: 2.96 s, total: 4.47 s\n",
            "Wall time: 4.56 s\n"
          ]
        },
        {
          "output_type": "execute_result",
          "data": {
            "text/plain": [
              "499999999500000000"
            ]
          },
          "metadata": {},
          "execution_count": 115
        }
      ]
    },
    {
      "cell_type": "code",
      "source": [
        "#python을 이용한 계산\n",
        "%time sum(range(1000000000))"
      ],
      "metadata": {
        "colab": {
          "base_uri": "https://localhost:8080/"
        },
        "id": "UDqlUFhK8Cgp",
        "outputId": "10401782-8019-49a3-bd13-d0e76bae3ed7"
      },
      "execution_count": null,
      "outputs": [
        {
          "output_type": "stream",
          "name": "stdout",
          "text": [
            "CPU times: user 19.5 s, sys: 0 ns, total: 19.5 s\n",
            "Wall time: 19.5 s\n"
          ]
        },
        {
          "output_type": "execute_result",
          "data": {
            "text/plain": [
              "499999999500000000"
            ]
          },
          "metadata": {},
          "execution_count": 116
        }
      ]
    },
    {
      "cell_type": "code",
      "source": [
        "%time np.sum(range(1000000000))"
      ],
      "metadata": {
        "id": "lXSbk6tx8Iap"
      },
      "execution_count": null,
      "outputs": []
    },
    {
      "cell_type": "markdown",
      "source": [
        "### 3. copy\n",
        "- 대입문 6가지  \n",
        "  - a = 1\n",
        "  - a = b =1\n",
        "  - a,b = 1,2\n",
        "  - a, *b = 1,2,3\n",
        "  - a+= 1\n",
        "  - global, nonlocal"
      ],
      "metadata": {
        "id": "B1BYOw7X-Tc5"
      }
    },
    {
      "cell_type": "markdown",
      "source": [
        "### python에서 copy"
      ],
      "metadata": {
        "id": "fMk37D3B-pHy"
      }
    },
    {
      "cell_type": "code",
      "source": [
        "a = [1,2,3] # 리스트 # heterogeneous, sequence, mutable"
      ],
      "metadata": {
        "id": "UFC1XOUz8sER"
      },
      "execution_count": null,
      "outputs": []
    },
    {
      "cell_type": "code",
      "source": [
        "b = a"
      ],
      "metadata": {
        "id": "LpJBGIGD-saC"
      },
      "execution_count": null,
      "outputs": []
    },
    {
      "cell_type": "code",
      "source": [
        "b"
      ],
      "metadata": {
        "colab": {
          "base_uri": "https://localhost:8080/"
        },
        "id": "Fq8hva_i-vDR",
        "outputId": "d789bb86-543e-4bbc-9d2a-56aa0a2332c7"
      },
      "execution_count": null,
      "outputs": [
        {
          "output_type": "execute_result",
          "data": {
            "text/plain": [
              "[1, 2, 3]"
            ]
          },
          "metadata": {},
          "execution_count": 3
        }
      ]
    },
    {
      "cell_type": "code",
      "source": [
        "a is b #메모리 주소 비교"
      ],
      "metadata": {
        "colab": {
          "base_uri": "https://localhost:8080/"
        },
        "id": "renyX0GP-wBY",
        "outputId": "614a679f-237c-4420-a0e2-4acd8b06b6de"
      },
      "execution_count": null,
      "outputs": [
        {
          "output_type": "execute_result",
          "data": {
            "text/plain": [
              "True"
            ]
          },
          "metadata": {},
          "execution_count": 4
        }
      ]
    },
    {
      "cell_type": "code",
      "source": [
        "# a와 b가 메모리 주소를 공유 #shadow copy\n",
        "# b값을 변경하면 a도 같이 변경이 된다.\n",
        "b[0] = 7"
      ],
      "metadata": {
        "id": "oMQ2LUDs-yWc"
      },
      "execution_count": null,
      "outputs": []
    },
    {
      "cell_type": "code",
      "source": [
        "b"
      ],
      "metadata": {
        "colab": {
          "base_uri": "https://localhost:8080/"
        },
        "id": "f6dZoKtF-1Yx",
        "outputId": "3841cc06-c436-4ad9-eb0f-82254b51c2d0"
      },
      "execution_count": null,
      "outputs": [
        {
          "output_type": "execute_result",
          "data": {
            "text/plain": [
              "[7, 2, 3]"
            ]
          },
          "metadata": {},
          "execution_count": 6
        }
      ]
    },
    {
      "cell_type": "code",
      "source": [
        "a"
      ],
      "metadata": {
        "colab": {
          "base_uri": "https://localhost:8080/"
        },
        "id": "JbOnFoBF-2xg",
        "outputId": "c5a0a567-5547-4845-f74a-447cd842d5a4"
      },
      "execution_count": null,
      "outputs": [
        {
          "output_type": "execute_result",
          "data": {
            "text/plain": [
              "[7, 2, 3]"
            ]
          },
          "metadata": {},
          "execution_count": 7
        }
      ]
    },
    {
      "cell_type": "markdown",
      "source": [
        "list copy"
      ],
      "metadata": {
        "id": "UjFO1cfT_nX5"
      }
    },
    {
      "cell_type": "code",
      "source": [
        "a = [1,2,3]"
      ],
      "metadata": {
        "id": "Af_HMzLs-3dY"
      },
      "execution_count": null,
      "outputs": []
    },
    {
      "cell_type": "code",
      "source": [
        "# copy()는 똑같은 값만 가지고 메모리는 공유하지 않는다.\n",
        "b = a.copy() #1차원일때는 deep copy가능 "
      ],
      "metadata": {
        "id": "-OsHZNg3_l0p"
      },
      "execution_count": null,
      "outputs": []
    },
    {
      "cell_type": "code",
      "source": [
        "# 메모리 주소 비교\n",
        "a is b "
      ],
      "metadata": {
        "colab": {
          "base_uri": "https://localhost:8080/"
        },
        "id": "uLmdOUi8_tYq",
        "outputId": "618adec9-85c4-4e54-d3f3-1fbfb55e5d4a"
      },
      "execution_count": null,
      "outputs": [
        {
          "output_type": "execute_result",
          "data": {
            "text/plain": [
              "False"
            ]
          },
          "metadata": {},
          "execution_count": 12
        }
      ]
    },
    {
      "cell_type": "code",
      "source": [
        "id(a)"
      ],
      "metadata": {
        "colab": {
          "base_uri": "https://localhost:8080/"
        },
        "id": "xp5QUW-V_vNo",
        "outputId": "722ed230-d2c1-4bb7-bdd5-8e918390d34a"
      },
      "execution_count": null,
      "outputs": [
        {
          "output_type": "execute_result",
          "data": {
            "text/plain": [
              "140368141538176"
            ]
          },
          "metadata": {},
          "execution_count": 13
        }
      ]
    },
    {
      "cell_type": "code",
      "source": [
        "id(b)"
      ],
      "metadata": {
        "colab": {
          "base_uri": "https://localhost:8080/"
        },
        "id": "dcjNQX7wAA2o",
        "outputId": "169d395c-1679-41ae-eb36-43981d2d561b"
      },
      "execution_count": null,
      "outputs": [
        {
          "output_type": "execute_result",
          "data": {
            "text/plain": [
              "140368142063296"
            ]
          },
          "metadata": {},
          "execution_count": 14
        }
      ]
    },
    {
      "cell_type": "code",
      "source": [
        "# 값 비교\n",
        "a == b"
      ],
      "metadata": {
        "colab": {
          "base_uri": "https://localhost:8080/"
        },
        "id": "XsBe1osSACjC",
        "outputId": "1d7ac1ec-151a-4873-995a-43427168afb5"
      },
      "execution_count": null,
      "outputs": [
        {
          "output_type": "execute_result",
          "data": {
            "text/plain": [
              "True"
            ]
          },
          "metadata": {},
          "execution_count": 15
        }
      ]
    },
    {
      "cell_type": "code",
      "source": [
        "b[0] = 8\n",
        "# a는 안바뀐다.\n",
        "print(a)\n",
        "print(b)"
      ],
      "metadata": {
        "colab": {
          "base_uri": "https://localhost:8080/"
        },
        "id": "MgwHOwXqAE6Y",
        "outputId": "006b6662-c44b-4f2b-9a55-3370c90473ba"
      },
      "execution_count": null,
      "outputs": [
        {
          "output_type": "stream",
          "name": "stdout",
          "text": [
            "[1, 2, 3]\n",
            "[8, 2, 3]\n"
          ]
        }
      ]
    },
    {
      "cell_type": "code",
      "source": [
        "print(a is b)\n",
        "print(a == b)"
      ],
      "metadata": {
        "colab": {
          "base_uri": "https://localhost:8080/"
        },
        "id": "azVfRC5kAScQ",
        "outputId": "195a1c21-f715-4445-f251-3e2cd79d0d04"
      },
      "execution_count": null,
      "outputs": [
        {
          "output_type": "stream",
          "name": "stdout",
          "text": [
            "False\n",
            "False\n"
          ]
        }
      ]
    },
    {
      "cell_type": "markdown",
      "source": [
        "list가 2차원일때"
      ],
      "metadata": {
        "id": "es-IxLu4A0Zw"
      }
    },
    {
      "cell_type": "code",
      "source": [
        "a = [[1,2,3]]"
      ],
      "metadata": {
        "id": "HZyJprYyAXIg"
      },
      "execution_count": null,
      "outputs": []
    },
    {
      "cell_type": "code",
      "source": [
        "type(a)"
      ],
      "metadata": {
        "colab": {
          "base_uri": "https://localhost:8080/"
        },
        "id": "dB6R9CvsAs5A",
        "outputId": "78b24ddb-4d81-48e4-c183-154f408aea16"
      },
      "execution_count": null,
      "outputs": [
        {
          "output_type": "execute_result",
          "data": {
            "text/plain": [
              "list"
            ]
          },
          "metadata": {},
          "execution_count": 19
        }
      ]
    },
    {
      "cell_type": "code",
      "source": [
        "# shallow copy\n",
        "b = a.copy()"
      ],
      "metadata": {
        "id": "Wwlhfm-sAteY"
      },
      "execution_count": null,
      "outputs": []
    },
    {
      "cell_type": "code",
      "source": [
        "print(a is b)\n",
        "print(a == b)"
      ],
      "metadata": {
        "colab": {
          "base_uri": "https://localhost:8080/"
        },
        "id": "8aoH2riuAxbA",
        "outputId": "54f4485f-7190-4154-f461-972f66175670"
      },
      "execution_count": null,
      "outputs": [
        {
          "output_type": "stream",
          "name": "stdout",
          "text": [
            "False\n",
            "True\n"
          ]
        }
      ]
    },
    {
      "cell_type": "code",
      "source": [
        "print(a[0] is b[0])\n",
        "print(a[0] == b[0])"
      ],
      "metadata": {
        "colab": {
          "base_uri": "https://localhost:8080/"
        },
        "id": "xzJ85HmhA3AA",
        "outputId": "5970d169-75ef-4cd0-97bc-753d6933d2a6"
      },
      "execution_count": null,
      "outputs": [
        {
          "output_type": "stream",
          "name": "stdout",
          "text": [
            "True\n",
            "True\n"
          ]
        }
      ]
    },
    {
      "cell_type": "markdown",
      "source": [
        "list deep copy"
      ],
      "metadata": {
        "id": "dAPVDfHJBqpx"
      }
    },
    {
      "cell_type": "code",
      "source": [
        "import copy"
      ],
      "metadata": {
        "id": "jF_o5WW5A_zY"
      },
      "execution_count": null,
      "outputs": []
    },
    {
      "cell_type": "code",
      "source": [
        "a = [[1,2,3]]\n",
        "b = copy.deepcopy(a)"
      ],
      "metadata": {
        "id": "JuF7wEgyBuDI"
      },
      "execution_count": null,
      "outputs": []
    },
    {
      "cell_type": "code",
      "source": [
        "print(a)\n",
        "print(b)"
      ],
      "metadata": {
        "colab": {
          "base_uri": "https://localhost:8080/"
        },
        "id": "ekchtY34Bytg",
        "outputId": "8eab3a7b-76c2-4535-b46b-3903549a06db"
      },
      "execution_count": null,
      "outputs": [
        {
          "output_type": "stream",
          "name": "stdout",
          "text": [
            "[[1, 2, 3]]\n",
            "[[1, 2, 3]]\n"
          ]
        }
      ]
    },
    {
      "cell_type": "code",
      "source": [
        "print(a is b)\n",
        "print(a == b)\n",
        "print(a[0] is b[0])\n",
        "print(a[0] == b[0])"
      ],
      "metadata": {
        "colab": {
          "base_uri": "https://localhost:8080/"
        },
        "id": "Qol2kLA_B2Qo",
        "outputId": "114e0aa5-c0ee-43dc-aa81-c37127d17a08"
      },
      "execution_count": null,
      "outputs": [
        {
          "output_type": "stream",
          "name": "stdout",
          "text": [
            "False\n",
            "True\n",
            "False\n",
            "True\n"
          ]
        }
      ]
    },
    {
      "cell_type": "markdown",
      "source": [
        "[:]는 전체라는 뜻이다.  \n",
        "- 슬라이싱 방식으로 1차 리스트일때는 재할당하면 deep copy 발생\n",
        "- 슬라이싱 2차 리스트 이상인 경우 shallow copy가 발생"
      ],
      "metadata": {
        "id": "2XxziQi1CPVY"
      }
    },
    {
      "cell_type": "code",
      "source": [
        "a = [1,2,3]\n",
        "b = a[:] #앞, 뒤, 슬라이스 생략 -> 전체 복사\n",
        "print(a is b)\n",
        "print(a == b) #true\n",
        "\n",
        "b[0] = 7\n",
        "print(a is b)\n",
        "print(a == b) #false"
      ],
      "metadata": {
        "colab": {
          "base_uri": "https://localhost:8080/"
        },
        "id": "E3XGDsCsB5RB",
        "outputId": "280d7c6c-e960-4168-bffe-60f630530f27"
      },
      "execution_count": null,
      "outputs": [
        {
          "output_type": "stream",
          "name": "stdout",
          "text": [
            "False\n",
            "True\n",
            "False\n",
            "False\n"
          ]
        }
      ]
    },
    {
      "cell_type": "code",
      "source": [
        "a = [[1,2,3]]\n",
        "# 슬라이싱 2차원 이상인 경우 shallow copy가 된다.\n",
        "b = a[:] \n",
        "print(a is b) #false\n",
        "print(a == b) #false\n",
        "\n",
        "b[0][0] = 7\n",
        "print(a is b) #false\n",
        "print(a == b) #true"
      ],
      "metadata": {
        "colab": {
          "base_uri": "https://localhost:8080/"
        },
        "id": "gcHJXSt2Cv7x",
        "outputId": "e9b58e30-d6c9-45fe-e4d6-22c600290539"
      },
      "execution_count": null,
      "outputs": [
        {
          "output_type": "stream",
          "name": "stdout",
          "text": [
            "False\n",
            "True\n",
            "False\n",
            "True\n"
          ]
        }
      ]
    },
    {
      "cell_type": "markdown",
      "source": [
        "※ python의 copy는 기본적으로 shallow copy을 한다."
      ],
      "metadata": {
        "id": "8DrbEz91DWfg"
      }
    },
    {
      "cell_type": "markdown",
      "source": [
        "### numpy의 copy"
      ],
      "metadata": {
        "id": "ZJIu4MFqDkX4"
      }
    },
    {
      "cell_type": "code",
      "source": [
        "a = b = np.array([1,2,3])"
      ],
      "metadata": {
        "id": "GUvPAwbXDowg"
      },
      "execution_count": null,
      "outputs": []
    },
    {
      "cell_type": "code",
      "source": [
        "print(a is b)\n",
        "print(a == b)"
      ],
      "metadata": {
        "colab": {
          "base_uri": "https://localhost:8080/"
        },
        "id": "BYH3GpPzDtHo",
        "outputId": "3b7b1dba-0d7d-4925-db83-87b717a4a789"
      },
      "execution_count": 5,
      "outputs": [
        {
          "output_type": "stream",
          "name": "stdout",
          "text": [
            "True\n",
            "[ True  True  True]\n"
          ]
        }
      ]
    },
    {
      "cell_type": "code",
      "source": [],
      "metadata": {
        "id": "foErbz48Fiki"
      },
      "execution_count": null,
      "outputs": []
    },
    {
      "cell_type": "markdown",
      "source": [
        "### array는 sequence 타입으로 인덱싱과 슬라이싱이 가능하다."
      ],
      "metadata": {
        "id": "rP0ZP5_mHVaB"
      }
    },
    {
      "cell_type": "code",
      "source": [
        "a[0] # indexing"
      ],
      "metadata": {
        "colab": {
          "base_uri": "https://localhost:8080/"
        },
        "id": "QgDHi4rRHb7Z",
        "outputId": "5b92d298-f998-4906-917d-e48ed9c04cf7"
      },
      "execution_count": 6,
      "outputs": [
        {
          "output_type": "execute_result",
          "data": {
            "text/plain": [
              "1"
            ]
          },
          "metadata": {},
          "execution_count": 6
        }
      ]
    },
    {
      "cell_type": "code",
      "source": [
        "a[:] # slicing"
      ],
      "metadata": {
        "colab": {
          "base_uri": "https://localhost:8080/"
        },
        "id": "QQC_X1d_HfkB",
        "outputId": "24315235-3d4e-4375-f369-92a645e18ec4"
      },
      "execution_count": 7,
      "outputs": [
        {
          "output_type": "execute_result",
          "data": {
            "text/plain": [
              "array([1, 2, 3])"
            ]
          },
          "metadata": {},
          "execution_count": 7
        }
      ]
    },
    {
      "cell_type": "code",
      "source": [
        "# array는 mutable 이다.\n",
        "# 예외가 몇 가지 있지만 mutable에 가깝다.\n",
        "a[0] = 100\n",
        "print(a)\n",
        "print(b)"
      ],
      "metadata": {
        "colab": {
          "base_uri": "https://localhost:8080/"
        },
        "id": "C1LzVzU0HiNA",
        "outputId": "841d561c-0d50-4380-efda-b76f4f0973c3"
      },
      "execution_count": 12,
      "outputs": [
        {
          "output_type": "stream",
          "name": "stdout",
          "text": [
            "[[100 100 100]]\n",
            "[[1 2 3]]\n"
          ]
        }
      ]
    },
    {
      "cell_type": "code",
      "source": [],
      "metadata": {
        "id": "oCwbl7frHtVC"
      },
      "execution_count": null,
      "outputs": []
    },
    {
      "cell_type": "markdown",
      "source": [
        "array는 homogeneous, sequence, mutable 이다."
      ],
      "metadata": {
        "id": "aktSbGtTIIc6"
      }
    },
    {
      "cell_type": "markdown",
      "source": [
        "array deepcopy"
      ],
      "metadata": {
        "id": "DSnA5c2sIRkS"
      }
    },
    {
      "cell_type": "code",
      "source": [
        "a = np.array([[1, 2, 3]])\n",
        "# numpy는 기본적으로 deepcopy이다.\n",
        "b = a.copy()"
      ],
      "metadata": {
        "id": "DI6ZrTQvIUeJ"
      },
      "execution_count": 9,
      "outputs": []
    },
    {
      "cell_type": "code",
      "source": [
        "print(a is b)"
      ],
      "metadata": {
        "colab": {
          "base_uri": "https://localhost:8080/"
        },
        "id": "DBbKIMmsIdNh",
        "outputId": "2b312600-79c6-46ca-e1a3-aa266c5e7dda"
      },
      "execution_count": 10,
      "outputs": [
        {
          "output_type": "stream",
          "name": "stdout",
          "text": [
            "False\n"
          ]
        }
      ]
    },
    {
      "cell_type": "code",
      "source": [
        "print(a[0] is b[0])"
      ],
      "metadata": {
        "colab": {
          "base_uri": "https://localhost:8080/"
        },
        "id": "NpTR5gFfIjsZ",
        "outputId": "aa831cf8-8b6b-472c-ceb2-cfb42a53f1da"
      },
      "execution_count": 11,
      "outputs": [
        {
          "output_type": "stream",
          "name": "stdout",
          "text": [
            "False\n"
          ]
        }
      ]
    },
    {
      "cell_type": "code",
      "source": [],
      "metadata": {
        "id": "SinT8GDcIlJh"
      },
      "execution_count": null,
      "outputs": []
    },
    {
      "cell_type": "markdown",
      "source": [
        "### 4 as 계열\n",
        "다른 데이터 타입을 가져와서 바꿔서 사용할 때는 as 라는 이름이 보통 붙는다."
      ],
      "metadata": {
        "id": "uZENIPMdI93b"
      }
    },
    {
      "cell_type": "code",
      "source": [
        "# python의 list 데이터 타입을 int ndarry로 변환 (asarray())\n",
        "a = [1, 2, 3] # python의 list\n",
        "print(type(a))\n",
        "print(type(a[0]))\n",
        "b = np.array(a)\n",
        "print(type(b))\n",
        "print(type(b[0]))"
      ],
      "metadata": {
        "colab": {
          "base_uri": "https://localhost:8080/"
        },
        "id": "Wk1WJpRsJEv5",
        "outputId": "bcf6529b-f157-49f5-e090-bd091bb20eeb"
      },
      "execution_count": 13,
      "outputs": [
        {
          "output_type": "stream",
          "name": "stdout",
          "text": [
            "<class 'list'>\n",
            "<class 'int'>\n",
            "<class 'numpy.ndarray'>\n",
            "<class 'numpy.int64'>\n"
          ]
        }
      ]
    },
    {
      "cell_type": "code",
      "source": [
        "# python의 list 데이터 타입을 float ndarry로 변환 \n",
        "a = [1, 2, 3] # python의 list\n",
        "print(type(a))\n",
        "print(type(a[0]))\n",
        "b = np.asfarray(a)\n",
        "print(type(b))\n",
        "print(type(b[0]))"
      ],
      "metadata": {
        "colab": {
          "base_uri": "https://localhost:8080/"
        },
        "id": "QNavwEzlJn-R",
        "outputId": "8be10426-6713-43ae-d323-b94c3fe3d118"
      },
      "execution_count": 14,
      "outputs": [
        {
          "output_type": "stream",
          "name": "stdout",
          "text": [
            "<class 'list'>\n",
            "<class 'int'>\n",
            "<class 'numpy.ndarray'>\n",
            "<class 'numpy.float64'>\n"
          ]
        }
      ]
    },
    {
      "cell_type": "code",
      "source": [
        "# python의 list 데이터 타입 float이면 float ndarray로 변환\n",
        "# python의 list 데이터 타입 int이면 int ndarray로 변환\n",
        "a = [1.,2.,3.]\n",
        "print(type(a))\n",
        "print(type(a[0]))\n",
        "\n",
        "b = np.asarray(a)\n",
        "print(type(b))\n",
        "print(type(b[0]))\n",
        "\n",
        "c = np.array(a)\n",
        "print(type(c))\n",
        "print(type(c[0]))"
      ],
      "metadata": {
        "colab": {
          "base_uri": "https://localhost:8080/"
        },
        "id": "20ZNtLywKLAJ",
        "outputId": "bfe8d177-6acb-4fc3-c988-23f892e2ce1a"
      },
      "execution_count": 15,
      "outputs": [
        {
          "output_type": "stream",
          "name": "stdout",
          "text": [
            "<class 'list'>\n",
            "<class 'float'>\n",
            "<class 'numpy.ndarray'>\n",
            "<class 'numpy.float64'>\n",
            "<class 'numpy.ndarray'>\n",
            "<class 'numpy.float64'>\n"
          ]
        }
      ]
    },
    {
      "cell_type": "code",
      "source": [],
      "metadata": {
        "id": "Vv35YY2-Ll_i"
      },
      "execution_count": null,
      "outputs": []
    },
    {
      "cell_type": "markdown",
      "source": [
        "### 5. 값 가져오기"
      ],
      "metadata": {
        "id": "dolbSyzjMJGr"
      }
    },
    {
      "cell_type": "markdown",
      "source": [
        "(1). comma로 값 가져오기"
      ],
      "metadata": {
        "id": "xvkPn-kvMMrT"
      }
    },
    {
      "cell_type": "code",
      "source": [
        "a = [[1, 2, 3], [4, 5, 6]]\n",
        "b = np.array([[1, 2, 3], [4, 5, 6]])"
      ],
      "metadata": {
        "id": "h7DXlQ4YMRa5"
      },
      "execution_count": 16,
      "outputs": []
    },
    {
      "cell_type": "code",
      "source": [
        "# 1차원 리스트로 가져온다.\n",
        "a[0]"
      ],
      "metadata": {
        "colab": {
          "base_uri": "https://localhost:8080/"
        },
        "id": "cWg4SsjDMdkh",
        "outputId": "b9a42b03-2f44-46c2-fb75-c5b9045cef83"
      },
      "execution_count": 17,
      "outputs": [
        {
          "output_type": "execute_result",
          "data": {
            "text/plain": [
              "[1, 2, 3]"
            ]
          },
          "metadata": {},
          "execution_count": 17
        }
      ]
    },
    {
      "cell_type": "code",
      "source": [
        "# TypeError\n",
        "a[0, 1]"
      ],
      "metadata": {
        "colab": {
          "base_uri": "https://localhost:8080/",
          "height": 174
        },
        "id": "PH1qKZZyMhiK",
        "outputId": "448cdc48-79e1-48bb-c928-c57bb6eb7f6f"
      },
      "execution_count": 18,
      "outputs": [
        {
          "output_type": "error",
          "ename": "TypeError",
          "evalue": "ignored",
          "traceback": [
            "\u001b[0;31m---------------------------------------------------------------------------\u001b[0m",
            "\u001b[0;31mTypeError\u001b[0m                                 Traceback (most recent call last)",
            "\u001b[0;32m<ipython-input-18-4446d87ab35e>\u001b[0m in \u001b[0;36m<module>\u001b[0;34m\u001b[0m\n\u001b[0;32m----> 1\u001b[0;31m \u001b[0ma\u001b[0m\u001b[0;34m[\u001b[0m\u001b[0;36m0\u001b[0m\u001b[0;34m,\u001b[0m \u001b[0;36m1\u001b[0m\u001b[0;34m]\u001b[0m\u001b[0;34m\u001b[0m\u001b[0;34m\u001b[0m\u001b[0m\n\u001b[0m",
            "\u001b[0;31mTypeError\u001b[0m: list indices must be integers or slices, not tuple"
          ]
        }
      ]
    },
    {
      "cell_type": "markdown",
      "source": [
        "슬라이스 함수를 이용해서 comma를 사용하는 방법은 가능하다."
      ],
      "metadata": {
        "id": "I-Qd368uNGa7"
      }
    },
    {
      "cell_type": "code",
      "source": [
        "# 2차원 리스트로 가져온다.\n",
        "a[slice(0, 1)]  # 0행부터 1행 미만의 데이터를 가져온다."
      ],
      "metadata": {
        "colab": {
          "base_uri": "https://localhost:8080/"
        },
        "id": "Y7bcJIfZMj2R",
        "outputId": "d00b6693-89da-427c-8a0a-95e46c29379c"
      },
      "execution_count": 19,
      "outputs": [
        {
          "output_type": "execute_result",
          "data": {
            "text/plain": [
              "[[1, 2, 3]]"
            ]
          },
          "metadata": {},
          "execution_count": 19
        }
      ]
    },
    {
      "cell_type": "code",
      "source": [
        "a[slice(0, 2)]  # 0행부터 2행 미만의 데이터를 가져온다."
      ],
      "metadata": {
        "colab": {
          "base_uri": "https://localhost:8080/"
        },
        "id": "vDZusU_5M6tp",
        "outputId": "d834ba55-2540-4a50-e64b-4e492d0a7d34"
      },
      "execution_count": 20,
      "outputs": [
        {
          "output_type": "execute_result",
          "data": {
            "text/plain": [
              "[[1, 2, 3], [4, 5, 6]]"
            ]
          },
          "metadata": {},
          "execution_count": 20
        }
      ]
    },
    {
      "cell_type": "code",
      "source": [
        "a[0:1]"
      ],
      "metadata": {
        "colab": {
          "base_uri": "https://localhost:8080/"
        },
        "id": "h-tmFX25NPfp",
        "outputId": "37d2b4c8-d4d9-47d3-ab47-aa6e2c9df461"
      },
      "execution_count": 21,
      "outputs": [
        {
          "output_type": "execute_result",
          "data": {
            "text/plain": [
              "[[1, 2, 3]]"
            ]
          },
          "metadata": {},
          "execution_count": 21
        }
      ]
    },
    {
      "cell_type": "code",
      "source": [
        "a[0:2]"
      ],
      "metadata": {
        "colab": {
          "base_uri": "https://localhost:8080/"
        },
        "id": "4IEZflV2NfKB",
        "outputId": "4985f4cf-614c-4bf3-be82-e69c9c9a3764"
      },
      "execution_count": 22,
      "outputs": [
        {
          "output_type": "execute_result",
          "data": {
            "text/plain": [
              "[[1, 2, 3], [4, 5, 6]]"
            ]
          },
          "metadata": {},
          "execution_count": 22
        }
      ]
    },
    {
      "cell_type": "markdown",
      "source": [
        "numpy는 기본적으로 인덱싱/슬라이싱할때 comma를 사용할 수 있다."
      ],
      "metadata": {
        "id": "di5opmRRNvuE"
      }
    },
    {
      "cell_type": "code",
      "source": [
        "# numpy\n",
        "# b[행, 열]\n",
        "print(b[0, 2])"
      ],
      "metadata": {
        "colab": {
          "base_uri": "https://localhost:8080/"
        },
        "id": "6sEYPQAsNyQa",
        "outputId": "687224c2-f9fa-4949-e088-55bcc5823516"
      },
      "execution_count": 23,
      "outputs": [
        {
          "output_type": "stream",
          "name": "stdout",
          "text": [
            "3\n"
          ]
        }
      ]
    },
    {
      "cell_type": "code",
      "source": [
        "print(b[0, -1])"
      ],
      "metadata": {
        "colab": {
          "base_uri": "https://localhost:8080/"
        },
        "id": "b7QiabbFN4I6",
        "outputId": "0c3df91b-b808-4892-b306-a788ced8cf0e"
      },
      "execution_count": 25,
      "outputs": [
        {
          "output_type": "stream",
          "name": "stdout",
          "text": [
            "3\n"
          ]
        }
      ]
    },
    {
      "cell_type": "code",
      "source": [
        "# python\n",
        "# a[행][열]\n",
        "print(a[0][-1])"
      ],
      "metadata": {
        "colab": {
          "base_uri": "https://localhost:8080/"
        },
        "id": "tgfyxACZN6uS",
        "outputId": "e8173128-38b4-464e-dac8-07f1b1cfa286"
      },
      "execution_count": 26,
      "outputs": [
        {
          "output_type": "stream",
          "name": "stdout",
          "text": [
            "3\n"
          ]
        }
      ]
    },
    {
      "cell_type": "markdown",
      "source": [
        "(2) boolean indexing"
      ],
      "metadata": {
        "id": "bl1cNv45VAY0"
      }
    },
    {
      "cell_type": "code",
      "source": [
        "a > 3"
      ],
      "metadata": {
        "colab": {
          "base_uri": "https://localhost:8080/",
          "height": 174
        },
        "id": "6S8S3gppOPWy",
        "outputId": "accb137c-bf1e-44d2-e60b-7f80d2f62982"
      },
      "execution_count": 27,
      "outputs": [
        {
          "output_type": "error",
          "ename": "TypeError",
          "evalue": "ignored",
          "traceback": [
            "\u001b[0;31m---------------------------------------------------------------------------\u001b[0m",
            "\u001b[0;31mTypeError\u001b[0m                                 Traceback (most recent call last)",
            "\u001b[0;32m<ipython-input-27-4a7bcd1a5f68>\u001b[0m in \u001b[0;36m<module>\u001b[0;34m\u001b[0m\n\u001b[0;32m----> 1\u001b[0;31m \u001b[0ma\u001b[0m \u001b[0;34m>\u001b[0m \u001b[0;36m3\u001b[0m\u001b[0;34m\u001b[0m\u001b[0;34m\u001b[0m\u001b[0m\n\u001b[0m",
            "\u001b[0;31mTypeError\u001b[0m: '>' not supported between instances of 'list' and 'int'"
          ]
        }
      ]
    },
    {
      "cell_type": "code",
      "source": [
        "b = np.array([1, 2, 3, 4])\n",
        "b"
      ],
      "metadata": {
        "colab": {
          "base_uri": "https://localhost:8080/"
        },
        "id": "Q9DsU01pOxqq",
        "outputId": "d718210e-d7f1-40ca-d11d-492af4f10a3c"
      },
      "execution_count": 28,
      "outputs": [
        {
          "output_type": "execute_result",
          "data": {
            "text/plain": [
              "array([1, 2, 3, 4])"
            ]
          },
          "metadata": {},
          "execution_count": 28
        }
      ]
    },
    {
      "cell_type": "code",
      "source": [],
      "metadata": {
        "id": "HaqCnpbpO8eB"
      },
      "execution_count": null,
      "outputs": []
    },
    {
      "cell_type": "markdown",
      "source": [
        "array를 scalar와 연산하면 elementwise로 계산한다.  \n",
        "(elementwise : 원소별로 각각 계산이 된다.)"
      ],
      "metadata": {
        "id": "a1pfvxDOPQBF"
      }
    },
    {
      "cell_type": "code",
      "source": [
        "# 원소별로 비교해서 True / False 로 계산한다.\n",
        "# 1>2, 2>2, 3>2, 4>2\n",
        "# numpy에서는 가능하고 python에서는 안된다.\n",
        "b > 2"
      ],
      "metadata": {
        "colab": {
          "base_uri": "https://localhost:8080/"
        },
        "id": "88l7wn9dPd7y",
        "outputId": "066dcdba-2ff1-402a-8e37-a242d829e0b0"
      },
      "execution_count": 29,
      "outputs": [
        {
          "output_type": "execute_result",
          "data": {
            "text/plain": [
              "array([False, False,  True,  True])"
            ]
          },
          "metadata": {},
          "execution_count": 29
        }
      ]
    },
    {
      "cell_type": "code",
      "source": [],
      "metadata": {
        "id": "8eank4KsPqni"
      },
      "execution_count": null,
      "outputs": []
    },
    {
      "cell_type": "markdown",
      "source": [
        "numpy는 indexing, slicing 자리에 조건도 쓸 수 있다.  \n",
        "True에 해당되는 값만 가져온다."
      ],
      "metadata": {
        "id": "e3bu5qhrQNUE"
      }
    },
    {
      "cell_type": "code",
      "source": [
        "# boolean indexing\n",
        "b[np.array([False, False, True, True])]"
      ],
      "metadata": {
        "colab": {
          "base_uri": "https://localhost:8080/"
        },
        "id": "cwCXv29aQYK6",
        "outputId": "5554eafc-288f-4fca-d3f4-15f2c4cfea19"
      },
      "execution_count": 30,
      "outputs": [
        {
          "output_type": "execute_result",
          "data": {
            "text/plain": [
              "array([3, 4])"
            ]
          },
          "metadata": {},
          "execution_count": 30
        }
      ]
    },
    {
      "cell_type": "code",
      "source": [
        "b[b>2]"
      ],
      "metadata": {
        "colab": {
          "base_uri": "https://localhost:8080/"
        },
        "id": "1VkctS4yQjjq",
        "outputId": "981b9e18-9dc6-4bd0-d520-ca023b94c6ac"
      },
      "execution_count": 31,
      "outputs": [
        {
          "output_type": "execute_result",
          "data": {
            "text/plain": [
              "array([3, 4])"
            ]
          },
          "metadata": {},
          "execution_count": 31
        }
      ]
    },
    {
      "cell_type": "code",
      "source": [],
      "metadata": {
        "id": "DDYbMQHyQlfC"
      },
      "execution_count": null,
      "outputs": []
    },
    {
      "cell_type": "markdown",
      "source": [
        "numpy에서 boolean indexing 조건\n",
        "- array만 가능하다.\n",
        "- numpy True, False로만 가능하다.\n",
        "- shape이 맞아야 한다. (개수가 맞을때만 사용할 수 있다.)"
      ],
      "metadata": {
        "id": "XhLBxSxARJwf"
      }
    },
    {
      "cell_type": "code",
      "source": [
        "# python에서는 지원 안 한다.\n",
        "a = [1, 2, 3, 4]\n",
        "a[True, True, False, False]"
      ],
      "metadata": {
        "colab": {
          "base_uri": "https://localhost:8080/",
          "height": 211
        },
        "id": "3zLsEFeqRYya",
        "outputId": "bb2368e1-c7d9-4789-dc14-fcd853b6eb04"
      },
      "execution_count": 32,
      "outputs": [
        {
          "output_type": "error",
          "ename": "TypeError",
          "evalue": "ignored",
          "traceback": [
            "\u001b[0;31m---------------------------------------------------------------------------\u001b[0m",
            "\u001b[0;31mTypeError\u001b[0m                                 Traceback (most recent call last)",
            "\u001b[0;32m<ipython-input-32-780732587d6e>\u001b[0m in \u001b[0;36m<module>\u001b[0;34m\u001b[0m\n\u001b[1;32m      1\u001b[0m \u001b[0;31m# python에서는 지원 안 한다.\u001b[0m\u001b[0;34m\u001b[0m\u001b[0;34m\u001b[0m\u001b[0;34m\u001b[0m\u001b[0m\n\u001b[1;32m      2\u001b[0m \u001b[0ma\u001b[0m \u001b[0;34m=\u001b[0m \u001b[0;34m[\u001b[0m\u001b[0;36m1\u001b[0m\u001b[0;34m,\u001b[0m \u001b[0;36m2\u001b[0m\u001b[0;34m,\u001b[0m \u001b[0;36m3\u001b[0m\u001b[0;34m,\u001b[0m \u001b[0;36m4\u001b[0m\u001b[0;34m]\u001b[0m\u001b[0;34m\u001b[0m\u001b[0;34m\u001b[0m\u001b[0m\n\u001b[0;32m----> 3\u001b[0;31m \u001b[0ma\u001b[0m\u001b[0;34m[\u001b[0m\u001b[0;32mTrue\u001b[0m\u001b[0;34m,\u001b[0m \u001b[0;32mTrue\u001b[0m\u001b[0;34m,\u001b[0m \u001b[0;32mFalse\u001b[0m\u001b[0;34m,\u001b[0m \u001b[0;32mFalse\u001b[0m\u001b[0;34m]\u001b[0m\u001b[0;34m\u001b[0m\u001b[0;34m\u001b[0m\u001b[0m\n\u001b[0m",
            "\u001b[0;31mTypeError\u001b[0m: list indices must be integers or slices, not tuple"
          ]
        }
      ]
    },
    {
      "cell_type": "code",
      "source": [],
      "metadata": {
        "id": "rathXVOyUngN"
      },
      "execution_count": null,
      "outputs": []
    },
    {
      "cell_type": "markdown",
      "source": [
        "(3) fanacy indexing"
      ],
      "metadata": {
        "id": "z_FOhrAcUom1"
      }
    },
    {
      "cell_type": "code",
      "source": [
        "b = np.arange(100).reshape(20,5) # reshape(행, 열) 배열의 구조 변경\n",
        "b"
      ],
      "metadata": {
        "colab": {
          "base_uri": "https://localhost:8080/"
        },
        "id": "kXDJ3320VXDV",
        "outputId": "2d8faaa0-2412-440d-8e36-7228af138a7b"
      },
      "execution_count": 34,
      "outputs": [
        {
          "output_type": "execute_result",
          "data": {
            "text/plain": [
              "array([[ 0,  1,  2,  3,  4],\n",
              "       [ 5,  6,  7,  8,  9],\n",
              "       [10, 11, 12, 13, 14],\n",
              "       [15, 16, 17, 18, 19],\n",
              "       [20, 21, 22, 23, 24],\n",
              "       [25, 26, 27, 28, 29],\n",
              "       [30, 31, 32, 33, 34],\n",
              "       [35, 36, 37, 38, 39],\n",
              "       [40, 41, 42, 43, 44],\n",
              "       [45, 46, 47, 48, 49],\n",
              "       [50, 51, 52, 53, 54],\n",
              "       [55, 56, 57, 58, 59],\n",
              "       [60, 61, 62, 63, 64],\n",
              "       [65, 66, 67, 68, 69],\n",
              "       [70, 71, 72, 73, 74],\n",
              "       [75, 76, 77, 78, 79],\n",
              "       [80, 81, 82, 83, 84],\n",
              "       [85, 86, 87, 88, 89],\n",
              "       [90, 91, 92, 93, 94],\n",
              "       [95, 96, 97, 98, 99]])"
            ]
          },
          "metadata": {},
          "execution_count": 34
        }
      ]
    },
    {
      "cell_type": "markdown",
      "source": [
        "인덱싱, 슬라이싱 자리에 괄호를 하나 더 넣으면 fancy indexing 할수 있다.  \n",
        "여러개를 한번에 인덱싱 할 수 있다."
      ],
      "metadata": {
        "id": "MpEeQmH3U0WF"
      }
    },
    {
      "cell_type": "code",
      "source": [
        "b[:] # 전체를 가져온다. b[:,:]와 같다.\n",
        "# b[행, 열]\n",
        "print(b[1:3]) # 1행부터 3행 미만의 데이터를 가져온다.\n",
        "print(b[1:3, 2:4]) # 1행부터 3행 미만이면서 2열부터 4열 미만의 데이터를 가져온다.\n",
        "print(b[[1, 3, 5]]) # b[[1,3,5], :] 1행, 3행, 5행의 데이터를 가져온다.\n",
        "print(b[[1, 3, 5],[0, 2, 4]]) # 1행 0열, 3행 2열, 5행 4열의 데이터를 가져온다."
      ],
      "metadata": {
        "colab": {
          "base_uri": "https://localhost:8080/"
        },
        "id": "8CsbgirWU7N0",
        "outputId": "92c94f3a-541d-4f65-f87a-338261c1dd5b"
      },
      "execution_count": 40,
      "outputs": [
        {
          "output_type": "stream",
          "name": "stdout",
          "text": [
            "[[ 5  6  7  8  9]\n",
            " [10 11 12 13 14]]\n",
            "[[ 7  8]\n",
            " [12 13]]\n",
            "[[ 5  6  7  8  9]\n",
            " [15 16 17 18 19]\n",
            " [25 26 27 28 29]]\n",
            "[ 5 17 29]\n"
          ]
        }
      ]
    },
    {
      "cell_type": "code",
      "source": [],
      "metadata": {
        "id": "Zxki71WuU88L"
      },
      "execution_count": null,
      "outputs": []
    },
    {
      "cell_type": "markdown",
      "source": [
        "fancying indexing 은 인덱싱 기법만 사용할 수 있다.  \n",
        "\n",
        "\":\"(콜론)은 슬라이싱 기법이므로 지원하지 않는다."
      ],
      "metadata": {
        "id": "pn-zyeQoXVBm"
      }
    },
    {
      "cell_type": "code",
      "source": [
        "# Error\n",
        "b[[2:5]]"
      ],
      "metadata": {
        "colab": {
          "base_uri": "https://localhost:8080/",
          "height": 137
        },
        "id": "xr_Eh2_tXim7",
        "outputId": "5dd8abc6-6941-44a2-d8ec-59f87dab42fc"
      },
      "execution_count": 41,
      "outputs": [
        {
          "output_type": "error",
          "ename": "SyntaxError",
          "evalue": "ignored",
          "traceback": [
            "\u001b[0;36m  File \u001b[0;32m\"<ipython-input-41-4dd318ecbc54>\"\u001b[0;36m, line \u001b[0;32m1\u001b[0m\n\u001b[0;31m    b[[2:5]]\u001b[0m\n\u001b[0m        ^\u001b[0m\n\u001b[0;31mSyntaxError\u001b[0m\u001b[0;31m:\u001b[0m invalid syntax\n"
          ]
        }
      ]
    },
    {
      "cell_type": "code",
      "source": [
        "# 개수가 같게 지정되야 한다.\n",
        "b[[1, 3, 4], [0, 2, 1]] # 정상처리\n",
        "b[[1, 3, 4],[0, 2]] # IndexError"
      ],
      "metadata": {
        "colab": {
          "base_uri": "https://localhost:8080/",
          "height": 211
        },
        "id": "dM-kjbduXk8E",
        "outputId": "988c79bd-6387-498f-da31-341a374acf2b"
      },
      "execution_count": 43,
      "outputs": [
        {
          "output_type": "error",
          "ename": "IndexError",
          "evalue": "ignored",
          "traceback": [
            "\u001b[0;31m---------------------------------------------------------------------------\u001b[0m",
            "\u001b[0;31mIndexError\u001b[0m                                Traceback (most recent call last)",
            "\u001b[0;32m<ipython-input-43-4db8eef5f8a5>\u001b[0m in \u001b[0;36m<module>\u001b[0;34m\u001b[0m\n\u001b[1;32m      1\u001b[0m \u001b[0;31m# 개수가 같게 지정되야 한다.\u001b[0m\u001b[0;34m\u001b[0m\u001b[0;34m\u001b[0m\u001b[0;34m\u001b[0m\u001b[0m\n\u001b[1;32m      2\u001b[0m \u001b[0mb\u001b[0m\u001b[0;34m[\u001b[0m\u001b[0;34m[\u001b[0m\u001b[0;36m1\u001b[0m\u001b[0;34m,\u001b[0m \u001b[0;36m3\u001b[0m\u001b[0;34m,\u001b[0m \u001b[0;36m4\u001b[0m\u001b[0;34m]\u001b[0m\u001b[0;34m,\u001b[0m \u001b[0;34m[\u001b[0m\u001b[0;36m0\u001b[0m\u001b[0;34m,\u001b[0m \u001b[0;36m2\u001b[0m\u001b[0;34m,\u001b[0m \u001b[0;36m1\u001b[0m\u001b[0;34m]\u001b[0m\u001b[0;34m]\u001b[0m \u001b[0;31m# 정상처리\u001b[0m\u001b[0;34m\u001b[0m\u001b[0;34m\u001b[0m\u001b[0m\n\u001b[0;32m----> 3\u001b[0;31m \u001b[0mb\u001b[0m\u001b[0;34m[\u001b[0m\u001b[0;34m[\u001b[0m\u001b[0;36m1\u001b[0m\u001b[0;34m,\u001b[0m \u001b[0;36m3\u001b[0m\u001b[0;34m,\u001b[0m \u001b[0;36m4\u001b[0m\u001b[0;34m]\u001b[0m\u001b[0;34m,\u001b[0m\u001b[0;34m[\u001b[0m\u001b[0;36m0\u001b[0m\u001b[0;34m,\u001b[0m \u001b[0;36m2\u001b[0m\u001b[0;34m]\u001b[0m\u001b[0;34m]\u001b[0m\u001b[0;34m\u001b[0m\u001b[0;34m\u001b[0m\u001b[0m\n\u001b[0m",
            "\u001b[0;31mIndexError\u001b[0m: shape mismatch: indexing arrays could not be broadcast together with shapes (3,) (2,) "
          ]
        }
      ]
    },
    {
      "cell_type": "code",
      "source": [],
      "metadata": {
        "id": "nqkQ6He8Yvy8"
      },
      "execution_count": null,
      "outputs": []
    },
    {
      "cell_type": "code",
      "source": [],
      "metadata": {
        "id": "jGiaR4q8YSIs"
      },
      "execution_count": null,
      "outputs": []
    }
  ]
}